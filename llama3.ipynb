{
 "cells": [
  {
   "cell_type": "code",
   "execution_count": 2,
   "metadata": {},
   "outputs": [
    {
     "name": "stderr",
     "output_type": "stream",
     "text": [
      "c:\\Users\\alway\\anaconda3\\envs\\CC-Chatbot\\Lib\\site-packages\\tqdm\\auto.py:21: TqdmWarning: IProgress not found. Please update jupyter and ipywidgets. See https://ipywidgets.readthedocs.io/en/stable/user_install.html\n",
      "  from .autonotebook import tqdm as notebook_tqdm\n"
     ]
    }
   ],
   "source": [
    "from transformers import (\n",
    "    AutoModelForCausalLM,\n",
    "    AutoTokenizer,\n",
    "    BitsAndBytesConfig,\n",
    "    HfArgumentParser,\n",
    "    TrainingArguments,\n",
    "    pipeline,\n",
    "    logging,\n",
    ")\n",
    "from peft import (\n",
    "    LoraConfig,\n",
    "    PeftModel,\n",
    "    prepare_model_for_kbit_training,\n",
    "    get_peft_model,\n",
    ")\n",
    "\n",
    "import pandas as pd\n",
    "from datasets import Dataset\n",
    "import torch\n",
    "from datasets import load_dataset\n",
    "from transformers import TrainingArguments, TextStreamer\n",
    "import os, wandb\n",
    "from trl import SFTTrainer, setup_chat_format\n",
    "\n",
    "# Load the augmented CSV\n",
    "df = pd.read_csv('augmented.csv')\n"
   ]
  },
  {
   "cell_type": "code",
   "execution_count": 3,
   "metadata": {},
   "outputs": [
    {
     "data": {
      "text/html": [
       "<div>\n",
       "<style scoped>\n",
       "    .dataframe tbody tr th:only-of-type {\n",
       "        vertical-align: middle;\n",
       "    }\n",
       "\n",
       "    .dataframe tbody tr th {\n",
       "        vertical-align: top;\n",
       "    }\n",
       "\n",
       "    .dataframe thead th {\n",
       "        text-align: right;\n",
       "    }\n",
       "</style>\n",
       "<table border=\"1\" class=\"dataframe\">\n",
       "  <thead>\n",
       "    <tr style=\"text-align: right;\">\n",
       "      <th></th>\n",
       "      <th>text</th>\n",
       "      <th>label</th>\n",
       "    </tr>\n",
       "  </thead>\n",
       "  <tbody>\n",
       "    <tr>\n",
       "      <th>0</th>\n",
       "      <td>Age: 30.83, CreditScore: 1, Income: 0, YearsEm...</td>\n",
       "      <td>Approval: Yes, Reason: This application was ap...</td>\n",
       "    </tr>\n",
       "    <tr>\n",
       "      <th>1</th>\n",
       "      <td>Age: 58.67, CreditScore: 6, Income: 560, Years...</td>\n",
       "      <td>Approval: Yes, Reason: This application was ap...</td>\n",
       "    </tr>\n",
       "    <tr>\n",
       "      <th>2</th>\n",
       "      <td>Age: 24.5, CreditScore: 0, Income: 824, YearsE...</td>\n",
       "      <td>Approval: Yes, Reason: This application was ap...</td>\n",
       "    </tr>\n",
       "    <tr>\n",
       "      <th>3</th>\n",
       "      <td>Age: 27.83, CreditScore: 5, Income: 3, YearsEm...</td>\n",
       "      <td>Approval: Yes, Reason: This application was ap...</td>\n",
       "    </tr>\n",
       "    <tr>\n",
       "      <th>4</th>\n",
       "      <td>Age: 20.17, CreditScore: 0, Income: 0, YearsEm...</td>\n",
       "      <td>Approval: Yes, Reason: This application was ap...</td>\n",
       "    </tr>\n",
       "    <tr>\n",
       "      <th>...</th>\n",
       "      <td>...</td>\n",
       "      <td>...</td>\n",
       "    </tr>\n",
       "    <tr>\n",
       "      <th>685</th>\n",
       "      <td>Age: 21.08, CreditScore: 0, Income: 0, YearsEm...</td>\n",
       "      <td>Approval: No, Reason: This application was den...</td>\n",
       "    </tr>\n",
       "    <tr>\n",
       "      <th>686</th>\n",
       "      <td>Age: 22.67, CreditScore: 2, Income: 394, Years...</td>\n",
       "      <td>Approval: No, Reason: This application was den...</td>\n",
       "    </tr>\n",
       "    <tr>\n",
       "      <th>687</th>\n",
       "      <td>Age: 25.25, CreditScore: 1, Income: 1, YearsEm...</td>\n",
       "      <td>Approval: No, Reason: This application was den...</td>\n",
       "    </tr>\n",
       "    <tr>\n",
       "      <th>688</th>\n",
       "      <td>Age: 17.92, CreditScore: 0, Income: 750, Years...</td>\n",
       "      <td>Approval: No, Reason: This application was den...</td>\n",
       "    </tr>\n",
       "    <tr>\n",
       "      <th>689</th>\n",
       "      <td>Age: 35.0, CreditScore: 0, Income: 0, YearsEmp...</td>\n",
       "      <td>Approval: No, Reason: This application was den...</td>\n",
       "    </tr>\n",
       "  </tbody>\n",
       "</table>\n",
       "<p>690 rows × 2 columns</p>\n",
       "</div>"
      ],
      "text/plain": [
       "                                                  text  \\\n",
       "0    Age: 30.83, CreditScore: 1, Income: 0, YearsEm...   \n",
       "1    Age: 58.67, CreditScore: 6, Income: 560, Years...   \n",
       "2    Age: 24.5, CreditScore: 0, Income: 824, YearsE...   \n",
       "3    Age: 27.83, CreditScore: 5, Income: 3, YearsEm...   \n",
       "4    Age: 20.17, CreditScore: 0, Income: 0, YearsEm...   \n",
       "..                                                 ...   \n",
       "685  Age: 21.08, CreditScore: 0, Income: 0, YearsEm...   \n",
       "686  Age: 22.67, CreditScore: 2, Income: 394, Years...   \n",
       "687  Age: 25.25, CreditScore: 1, Income: 1, YearsEm...   \n",
       "688  Age: 17.92, CreditScore: 0, Income: 750, Years...   \n",
       "689  Age: 35.0, CreditScore: 0, Income: 0, YearsEmp...   \n",
       "\n",
       "                                                 label  \n",
       "0    Approval: Yes, Reason: This application was ap...  \n",
       "1    Approval: Yes, Reason: This application was ap...  \n",
       "2    Approval: Yes, Reason: This application was ap...  \n",
       "3    Approval: Yes, Reason: This application was ap...  \n",
       "4    Approval: Yes, Reason: This application was ap...  \n",
       "..                                                 ...  \n",
       "685  Approval: No, Reason: This application was den...  \n",
       "686  Approval: No, Reason: This application was den...  \n",
       "687  Approval: No, Reason: This application was den...  \n",
       "688  Approval: No, Reason: This application was den...  \n",
       "689  Approval: No, Reason: This application was den...  \n",
       "\n",
       "[690 rows x 2 columns]"
      ]
     },
     "execution_count": 3,
     "metadata": {},
     "output_type": "execute_result"
    }
   ],
   "source": [
    "# Preprocess the input and output (combine features into text format)\n",
    "def preprocess_data(row):\n",
    "    input_string = f\"Age: {row['Age']}, CreditScore: {row['CreditScore']}, Income: {row['Income']}, \" \\\n",
    "                   f\"YearsEmployed: {row['YearsEmployed']}, Gender: {'Male' if row['Gender'] == 1 else 'Female'}, \" \\\n",
    "                   f\"Married: {'Yes' if row['Married'] == 1 else 'No'}, \" \\\n",
    "                   f\"Industry: {row['Industry']}, Ethnicity: {row['Ethnicity']}, \" \\\n",
    "                   f\"PriorDefault: {'Yes' if row['PriorDefault'] == 1 else 'No'}, \" \\\n",
    "                   f\"Employed: {'Yes' if row['Employed'] == 1 else 'No'}\"\n",
    "    output_string = f\"Approval: {'Yes' if row['Approved'] == 1 else 'No'}, Reason: {row['Reason']}\"\n",
    "    return {\"text\": input_string, \"label\": output_string}\n",
    "\n",
    "# Apply preprocessing to the dataframe\n",
    "df_processed = df.apply(preprocess_data, axis=1)\n",
    "df_final = pd.DataFrame(df_processed.tolist())  # Convert to DataFrame of text and labels\n",
    "df_final"
   ]
  },
  {
   "cell_type": "code",
   "execution_count": 5,
   "metadata": {},
   "outputs": [],
   "source": [
    "# Convert DataFrame to Huggingface Dataset format\n",
    "dataset = Dataset.from_pandas(df_final)\n"
   ]
  },
  {
   "cell_type": "code",
   "execution_count": 6,
   "metadata": {},
   "outputs": [],
   "source": [
    "# !huggingface-cli login      \n",
    "# !wandb login --relogin API-KEY"
   ]
  },
  {
   "cell_type": "code",
   "execution_count": null,
   "metadata": {},
   "outputs": [
    {
     "name": "stderr",
     "output_type": "stream",
     "text": [
      "Map:   0%|          | 0/690 [00:00<?, ? examples/s]"
     ]
    }
   ],
   "source": [
    "from transformers import LlamaForCausalLM, LlamaTokenizer\n",
    "from transformers import AutoTokenizer\n",
    "#8B,70B,405B\n",
    "tokenizer = AutoTokenizer.from_pretrained(\"meta-llama/Llama-3.1-8B\")\n",
    "\n",
    "if tokenizer.pad_token is None:\n",
    "    tokenizer.pad_token = tokenizer.eos_token\n",
    "\n",
    "# Tokenize the dataset\n",
    "def tokenize_function(examples):\n",
    "    return tokenizer(examples[\"text\"], padding=\"max_length\", truncation=True)\n",
    "\n",
    "tokenized_dataset = dataset.map(tokenize_function, batched=True)\n",
    "\n",
    "# Split dataset into train and test sets\n",
    "dataset = tokenized_dataset.train_test_split(test_size=0.3)"
   ]
  },
  {
   "cell_type": "code",
   "execution_count": null,
   "metadata": {},
   "outputs": [],
   "source": [
    "dataset['text'][3]"
   ]
  },
  {
   "cell_type": "code",
   "execution_count": null,
   "metadata": {},
   "outputs": [],
   "source": [
    "new_model = \"llama-3-8b-CC\"\n",
    "torch_dtype = torch.float16\n",
    "attn_implementation = \"eager\"\n",
    "\n",
    "# QLoRA config\n",
    "bnb_config = BitsAndBytesConfig(\n",
    "    load_in_4bit=True,\n",
    "    bnb_4bit_quant_type=\"nf4\",\n",
    "    bnb_4bit_compute_dtype=torch_dtype,\n",
    "    bnb_4bit_use_double_quant=True,\n",
    ")\n",
    "\n",
    "\n",
    "model = LlamaForCausalLM.from_pretrained(\"meta-llama/Llama-3.1-8B\", \n",
    "                                         quantization_config=bnb_config,\n",
    "                                         device_map=\"auto\",\n",
    "                                         attn_implementation=attn_implementation)\n",
    "\n"
   ]
  },
  {
   "cell_type": "code",
   "execution_count": null,
   "metadata": {},
   "outputs": [],
   "source": [
    "# LoRA config\n",
    "peft_config = LoraConfig(\n",
    "    r=16,\n",
    "    lora_alpha=32,\n",
    "    lora_dropout=0.05,\n",
    "    bias=\"none\",\n",
    "    task_type=\"CAUSAL_LM\",\n",
    "    target_modules=['up_proj', 'down_proj', 'gate_proj', 'k_proj', 'q_proj', 'v_proj', 'o_proj']\n",
    ")\n",
    "model = get_peft_model(model, peft_config)\n",
    "\n",
    "\n",
    "run = wandb.init(\n",
    "    project='Fine-tune Llama 3 8B on CC Dataset', \n",
    "    job_type=\"training\", \n",
    "    anonymous=\"allow\"\n",
    ")"
   ]
  },
  {
   "cell_type": "code",
   "execution_count": null,
   "metadata": {},
   "outputs": [],
   "source": [
    "training_arguments = TrainingArguments(\n",
    "    output_dir=new_model,\n",
    "    per_device_train_batch_size=1,\n",
    "    per_device_eval_batch_size=1,\n",
    "    gradient_accumulation_steps=2,\n",
    "    optim=\"paged_adamw_32bit\",\n",
    "    num_train_epochs=1,\n",
    "    evaluation_strategy=\"steps\",\n",
    "    eval_steps=0.2,\n",
    "    logging_steps=1,\n",
    "    warmup_steps=10,\n",
    "    logging_strategy=\"steps\",\n",
    "    learning_rate=2e-4,\n",
    "    fp16=False,\n",
    "    bf16=False,\n",
    "    group_by_length=True,\n",
    "    report_to=\"wandb\"\n",
    ")\n",
    "\n",
    "trainer = SFTTrainer(\n",
    "    model=model,\n",
    "    train_dataset=dataset[\"train\"],\n",
    "    eval_dataset=dataset[\"test\"],\n",
    "    peft_config=peft_config,\n",
    "    max_seq_length=512,\n",
    "    dataset_text_field=\"text\",\n",
    "    tokenizer=tokenizer,\n",
    "    args=training_arguments,\n",
    "    packing= False,\n",
    ")"
   ]
  },
  {
   "cell_type": "code",
   "execution_count": null,
   "metadata": {},
   "outputs": [],
   "source": [
    "trainer.train()"
   ]
  },
  {
   "cell_type": "code",
   "execution_count": 12,
   "metadata": {},
   "outputs": [],
   "source": [
    "wandb.finish()\n",
    "model.config.use_cache = True"
   ]
  },
  {
   "cell_type": "code",
   "execution_count": null,
   "metadata": {},
   "outputs": [],
   "source": [
    "\n",
    "# Test prompt to evaluate model\n",
    "test_message = {\n",
    "    \"role\": \"user\",\n",
    "    \"content\": \"Age: 35, CreditScore: 650, Income: 5000, YearsEmployed: 5, Gender: Male, Married: Yes, \" \\\n",
    "               \"Industry: Tech, Ethnicity: Asian, PriorDefault: No, Employed: Yes\"\n",
    "}\n",
    "\n",
    "\n",
    "# Create the prompt from the message\n",
    "prompt = tokenizer.apply_chat_template([test_message], tokenize=False, add_generation_prompt=True)\n",
    "\n",
    "# Tokenize and generate response\n",
    "inputs = tokenizer(prompt, return_tensors='pt', padding=True, truncation=True).to(\"cuda\")\n",
    "outputs = model.generate(**inputs, max_length=150, num_return_sequences=1)\n",
    "\n",
    "# Decode and print the generated text\n",
    "text = tokenizer.decode(outputs[0], skip_special_tokens=True)\n",
    "print(text.split(\"assistant\")[1])  # Extract the assistant's response"
   ]
  },
  {
   "cell_type": "code",
   "execution_count": null,
   "metadata": {},
   "outputs": [],
   "source": []
  }
 ],
 "metadata": {
  "kernelspec": {
   "display_name": "CC-Chatbot",
   "language": "python",
   "name": "python3"
  },
  "language_info": {
   "codemirror_mode": {
    "name": "ipython",
    "version": 3
   },
   "file_extension": ".py",
   "mimetype": "text/x-python",
   "name": "python",
   "nbconvert_exporter": "python",
   "pygments_lexer": "ipython3",
   "version": "3.12.4"
  }
 },
 "nbformat": 4,
 "nbformat_minor": 2
}
