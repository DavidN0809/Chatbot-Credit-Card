{
 "cells": [
  {
   "cell_type": "code",
   "execution_count": 1,
   "id": "5af57af6-f348-4918-9347-295573c733c6",
   "metadata": {},
   "outputs": [
    {
     "data": {
      "application/vnd.jupyter.widget-view+json": {
       "model_id": "207159435dcd475ab5be03b68e908a86",
       "version_major": 2,
       "version_minor": 0
      },
      "text/plain": [
       "Loading checkpoint shards:   0%|          | 0/4 [00:00<?, ?it/s]"
      ]
     },
     "metadata": {},
     "output_type": "display_data"
    },
    {
     "data": {
      "text/plain": [
       "('/opt/notebooks/Chatbot-Credit-Card/backend/models/llama-3.1-8b/tokenizer_config.json',\n",
       " '/opt/notebooks/Chatbot-Credit-Card/backend/models/llama-3.1-8b/special_tokens_map.json',\n",
       " '/opt/notebooks/Chatbot-Credit-Card/backend/models/llama-3.1-8b/tokenizer.json')"
      ]
     },
     "execution_count": 1,
     "metadata": {},
     "output_type": "execute_result"
    }
   ],
   "source": [
    "from transformers import AutoModelForCausalLM, AutoTokenizer\n",
    "\n",
    "base_model = \"meta-llama/Llama-3.1-8B\"\n",
    "local_model_path = \"/opt/notebooks/Chatbot-Credit-Card/backend/models/llama-3.1-8b/\"\n",
    "\n",
    "# Download and save the model\n",
    "model = AutoModelForCausalLM.from_pretrained(base_model)\n",
    "tokenizer = AutoTokenizer.from_pretrained(base_model)\n",
    "\n",
    "model.save_pretrained(local_model_path)\n",
    "tokenizer.save_pretrained(local_model_path)"
   ]
  },
  {
   "cell_type": "code",
   "execution_count": 2,
   "id": "4fc4cbf2-8876-4e6b-833b-74c07a733531",
   "metadata": {},
   "outputs": [
    {
     "data": {
      "application/vnd.jupyter.widget-view+json": {
       "model_id": "43ac2f98e3124b7a863c080876440c92",
       "version_major": 2,
       "version_minor": 0
      },
      "text/plain": [
       "Loading checkpoint shards:   0%|          | 0/4 [00:00<?, ?it/s]"
      ]
     },
     "metadata": {},
     "output_type": "display_data"
    },
    {
     "data": {
      "text/plain": [
       "('/opt/notebooks/Chatbot-Credit-Card/backend/models/llama-3.1-8b-Instruct/tokenizer_config.json',\n",
       " '/opt/notebooks/Chatbot-Credit-Card/backend/models/llama-3.1-8b-Instruct/special_tokens_map.json',\n",
       " '/opt/notebooks/Chatbot-Credit-Card/backend/models/llama-3.1-8b-Instruct/tokenizer.json')"
      ]
     },
     "execution_count": 2,
     "metadata": {},
     "output_type": "execute_result"
    }
   ],
   "source": [
    "base_model = \"meta-llama/Llama-3.1-8B-Instruct\"\n",
    "local_model_path = \"/opt/notebooks/Chatbot-Credit-Card/backend/models/llama-3.1-8b-Instruct/\"\n",
    "\n",
    "# Download and save the model\n",
    "model = AutoModelForCausalLM.from_pretrained(base_model)\n",
    "tokenizer = AutoTokenizer.from_pretrained(base_model)\n",
    "\n",
    "model.save_pretrained(local_model_path)\n",
    "tokenizer.save_pretrained(local_model_path)"
   ]
  },
  {
   "cell_type": "code",
   "execution_count": null,
   "id": "2d93e058-4725-436d-a22f-2e8c514faa66",
   "metadata": {},
   "outputs": [],
   "source": []
  }
 ],
 "metadata": {
  "kernelspec": {
   "display_name": "Python (CC-Chatbot)",
   "language": "python",
   "name": "cc-chatbot"
  },
  "language_info": {
   "codemirror_mode": {
    "name": "ipython",
    "version": 3
   },
   "file_extension": ".py",
   "mimetype": "text/x-python",
   "name": "python",
   "nbconvert_exporter": "python",
   "pygments_lexer": "ipython3",
   "version": "3.12.7"
  }
 },
 "nbformat": 4,
 "nbformat_minor": 5
}
