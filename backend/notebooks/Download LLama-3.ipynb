{
 "cells": [
  {
   "cell_type": "code",
   "execution_count": null,
   "id": "5af57af6-f348-4918-9347-295573c733c6",
   "metadata": {},
   "outputs": [
    {
     "name": "stderr",
     "output_type": "stream",
     "text": [
      "Unused kwargs: ['_load_in_4bit', '_load_in_8bit', 'quant_method']. These kwargs are not used in <class 'transformers.utils.quantization_config.BitsAndBytesConfig'>.\n",
      "`low_cpu_mem_usage` was None, now default to True since model is quantized.\n"
     ]
    },
    {
     "data": {
      "text/plain": [
       "('/opt/notebooks/Chatbot-Credit-Card/backend/models/unsloth-llama-3.1-8b/tokenizer_config.json',\n",
       " '/opt/notebooks/Chatbot-Credit-Card/backend/models/unsloth-llama-3.1-8b/special_tokens_map.json',\n",
       " '/opt/notebooks/Chatbot-Credit-Card/backend/models/unsloth-llama-3.1-8b/tokenizer.json')"
      ]
     },
     "execution_count": 1,
     "metadata": {},
     "output_type": "execute_result"
    }
   ],
   "source": [
    "from transformers import AutoModelForCausalLM, AutoTokenizer\n",
    "\n",
    "base_model = \"meta-llama/Llama-3.1-8B-Instruct\"\n",
    "local_model_path = \"/opt/notebooks/Chatbot-Credit-Card/backend/models/unsloth-llama-3.1-8b/\"\n",
    "\n",
    "# Download and save the model\n",
    "model = AutoModelForCausalLM.from_pretrained(base_model)\n",
    "tokenizer = AutoTokenizer.from_pretrained(base_model)\n",
    "\n",
    "model.save_pretrained(local_model_path)\n",
    "tokenizer.save_pretrained(local_model_path)"
   ]
  },
  {
   "cell_type": "code",
   "execution_count": null,
   "id": "2d93e058-4725-436d-a22f-2e8c514faa66",
   "metadata": {},
   "outputs": [],
   "source": []
  }
 ],
 "metadata": {
  "kernelspec": {
   "display_name": "Python (CC-Chatbot)",
   "language": "python",
   "name": "cc-chatbot"
  },
  "language_info": {
   "codemirror_mode": {
    "name": "ipython",
    "version": 3
   },
   "file_extension": ".py",
   "mimetype": "text/x-python",
   "name": "python",
   "nbconvert_exporter": "python",
   "pygments_lexer": "ipython3",
   "version": "3.12.7"
  }
 },
 "nbformat": 4,
 "nbformat_minor": 5
}
