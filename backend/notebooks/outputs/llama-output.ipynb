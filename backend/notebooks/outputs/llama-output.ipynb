{
 "cells": [
  {
   "cell_type": "code",
   "execution_count": 1,
   "id": "666d56dd-a534-4907-8c32-e3d94ab3b5a0",
   "metadata": {
    "execution": {
     "iopub.execute_input": "2024-11-25T23:00:55.470648Z",
     "iopub.status.busy": "2024-11-25T23:00:55.470217Z",
     "iopub.status.idle": "2024-11-25T23:01:04.899651Z",
     "shell.execute_reply": "2024-11-25T23:01:04.898192Z"
    },
    "papermill": {
     "duration": 9.438714,
     "end_time": "2024-11-25T23:01:04.901717",
     "exception": false,
     "start_time": "2024-11-25T23:00:55.463003",
     "status": "completed"
    },
    "tags": []
   },
   "outputs": [],
   "source": [
    "import os\n",
    "import torch\n",
    "import wandb\n",
    "import numpy as np\n",
    "import pandas as pd\n",
    "import warnings\n",
    "import random\n",
    "import re\n",
    "\n",
    "from transformers import (\n",
    "    AutoModelForCausalLM,\n",
    "    AutoTokenizer,\n",
    "    BitsAndBytesConfig,\n",
    "    HfArgumentParser,\n",
    "    TrainingArguments,\n",
    "    pipeline,\n",
    "    logging,\n",
    "    TrainerCallback,\n",
    "    EarlyStoppingCallback,\n",
    "    TrainerState,\n",
    "    TrainerControl,\n",
    ")\n",
    "from datasets import load_dataset, Dataset\n",
    "from trl import SFTTrainer, setup_chat_format\n",
    "from peft import (\n",
    "    LoraConfig,\n",
    "    PeftModel,\n",
    "    prepare_model_for_kbit_training,\n",
    "    get_peft_model,\n",
    ")\n",
    "import bitsandbytes as bnb"
   ]
  },
  {
   "cell_type": "code",
   "execution_count": 2,
   "id": "ae67b3f7-d781-4d5c-a92c-dbf4bbdf463b",
   "metadata": {
    "execution": {
     "iopub.execute_input": "2024-11-25T23:01:04.915443Z",
     "iopub.status.busy": "2024-11-25T23:01:04.914824Z",
     "iopub.status.idle": "2024-11-25T23:01:04.920734Z",
     "shell.execute_reply": "2024-11-25T23:01:04.919354Z"
    },
    "papermill": {
     "duration": 0.013612,
     "end_time": "2024-11-25T23:01:04.922360",
     "exception": false,
     "start_time": "2024-11-25T23:01:04.908748",
     "status": "completed"
    },
    "tags": []
   },
   "outputs": [],
   "source": [
    "# huggingface-cli login --token key   \n",
    "# wandb login --relogin key"
   ]
  },
  {
   "cell_type": "code",
   "execution_count": 3,
   "id": "7c44e03d-c5a3-4d95-9fe1-b32659ffeeb3",
   "metadata": {
    "execution": {
     "iopub.execute_input": "2024-11-25T23:01:04.934584Z",
     "iopub.status.busy": "2024-11-25T23:01:04.934254Z",
     "iopub.status.idle": "2024-11-25T23:01:06.579608Z",
     "shell.execute_reply": "2024-11-25T23:01:06.578771Z"
    },
    "papermill": {
     "duration": 1.653138,
     "end_time": "2024-11-25T23:01:06.581029",
     "exception": false,
     "start_time": "2024-11-25T23:01:04.927891",
     "status": "completed"
    },
    "tags": []
   },
   "outputs": [
    {
     "name": "stdout",
     "output_type": "stream",
     "text": [
      "Datasets loaded and merged successfully.\n"
     ]
    },
    {
     "name": "stdout",
     "output_type": "stream",
     "text": [
      "Approval status merged successfully.\n",
      "Preprocessing completed successfully.\n"
     ]
    },
    {
     "data": {
      "text/html": [
       "<div>\n",
       "<style scoped>\n",
       "    .dataframe tbody tr th:only-of-type {\n",
       "        vertical-align: middle;\n",
       "    }\n",
       "\n",
       "    .dataframe tbody tr th {\n",
       "        vertical-align: top;\n",
       "    }\n",
       "\n",
       "    .dataframe thead th {\n",
       "        text-align: right;\n",
       "    }\n",
       "</style>\n",
       "<table border=\"1\" class=\"dataframe\">\n",
       "  <thead>\n",
       "    <tr style=\"text-align: right;\">\n",
       "      <th></th>\n",
       "      <th>Gender</th>\n",
       "      <th>Car Ownership</th>\n",
       "      <th>Property Ownership</th>\n",
       "      <th>Number of Children</th>\n",
       "      <th>Annual Income</th>\n",
       "      <th>Income Category</th>\n",
       "      <th>Education Level</th>\n",
       "      <th>Marital Status</th>\n",
       "      <th>Housing Type</th>\n",
       "      <th>Age (Days)</th>\n",
       "      <th>Employment Duration (Days)</th>\n",
       "      <th>Mobile Phone</th>\n",
       "      <th>Work Phone</th>\n",
       "      <th>Phone</th>\n",
       "      <th>Email</th>\n",
       "      <th>Occupation</th>\n",
       "      <th>Family Size</th>\n",
       "      <th>Approved</th>\n",
       "    </tr>\n",
       "  </thead>\n",
       "  <tbody>\n",
       "    <tr>\n",
       "      <th>0</th>\n",
       "      <td>M</td>\n",
       "      <td>Y</td>\n",
       "      <td>Y</td>\n",
       "      <td>0</td>\n",
       "      <td>427500.0</td>\n",
       "      <td>Working</td>\n",
       "      <td>Higher education</td>\n",
       "      <td>Civil marriage</td>\n",
       "      <td>Rented apartment</td>\n",
       "      <td>32</td>\n",
       "      <td>4542.0</td>\n",
       "      <td>1.0</td>\n",
       "      <td>1.0</td>\n",
       "      <td>0.0</td>\n",
       "      <td>0.0</td>\n",
       "      <td>NaN</td>\n",
       "      <td>2.0</td>\n",
       "      <td>1</td>\n",
       "    </tr>\n",
       "    <tr>\n",
       "      <th>1</th>\n",
       "      <td>M</td>\n",
       "      <td>Y</td>\n",
       "      <td>Y</td>\n",
       "      <td>0</td>\n",
       "      <td>427500.0</td>\n",
       "      <td>Working</td>\n",
       "      <td>Higher education</td>\n",
       "      <td>Civil marriage</td>\n",
       "      <td>Rented apartment</td>\n",
       "      <td>32</td>\n",
       "      <td>4542.0</td>\n",
       "      <td>1.0</td>\n",
       "      <td>1.0</td>\n",
       "      <td>0.0</td>\n",
       "      <td>0.0</td>\n",
       "      <td>NaN</td>\n",
       "      <td>2.0</td>\n",
       "      <td>1</td>\n",
       "    </tr>\n",
       "    <tr>\n",
       "      <th>2</th>\n",
       "      <td>M</td>\n",
       "      <td>Y</td>\n",
       "      <td>Y</td>\n",
       "      <td>0</td>\n",
       "      <td>112500.0</td>\n",
       "      <td>Working</td>\n",
       "      <td>Secondary / secondary special</td>\n",
       "      <td>Married</td>\n",
       "      <td>House / apartment</td>\n",
       "      <td>58</td>\n",
       "      <td>1134.0</td>\n",
       "      <td>1.0</td>\n",
       "      <td>0.0</td>\n",
       "      <td>0.0</td>\n",
       "      <td>0.0</td>\n",
       "      <td>Security staff</td>\n",
       "      <td>2.0</td>\n",
       "      <td>1</td>\n",
       "    </tr>\n",
       "    <tr>\n",
       "      <th>3</th>\n",
       "      <td>F</td>\n",
       "      <td>N</td>\n",
       "      <td>Y</td>\n",
       "      <td>0</td>\n",
       "      <td>270000.0</td>\n",
       "      <td>Commercial associate</td>\n",
       "      <td>Secondary / secondary special</td>\n",
       "      <td>Single / not married</td>\n",
       "      <td>House / apartment</td>\n",
       "      <td>52</td>\n",
       "      <td>3051.0</td>\n",
       "      <td>1.0</td>\n",
       "      <td>0.0</td>\n",
       "      <td>1.0</td>\n",
       "      <td>1.0</td>\n",
       "      <td>Sales staff</td>\n",
       "      <td>1.0</td>\n",
       "      <td>1</td>\n",
       "    </tr>\n",
       "    <tr>\n",
       "      <th>4</th>\n",
       "      <td>F</td>\n",
       "      <td>N</td>\n",
       "      <td>Y</td>\n",
       "      <td>0</td>\n",
       "      <td>270000.0</td>\n",
       "      <td>Commercial associate</td>\n",
       "      <td>Secondary / secondary special</td>\n",
       "      <td>Single / not married</td>\n",
       "      <td>House / apartment</td>\n",
       "      <td>52</td>\n",
       "      <td>3051.0</td>\n",
       "      <td>1.0</td>\n",
       "      <td>0.0</td>\n",
       "      <td>1.0</td>\n",
       "      <td>1.0</td>\n",
       "      <td>Sales staff</td>\n",
       "      <td>1.0</td>\n",
       "      <td>1</td>\n",
       "    </tr>\n",
       "  </tbody>\n",
       "</table>\n",
       "</div>"
      ],
      "text/plain": [
       "  Gender Car Ownership Property Ownership  Number of Children  Annual Income  \\\n",
       "0      M             Y                  Y                   0       427500.0   \n",
       "1      M             Y                  Y                   0       427500.0   \n",
       "2      M             Y                  Y                   0       112500.0   \n",
       "3      F             N                  Y                   0       270000.0   \n",
       "4      F             N                  Y                   0       270000.0   \n",
       "\n",
       "        Income Category                Education Level        Marital Status  \\\n",
       "0               Working               Higher education        Civil marriage   \n",
       "1               Working               Higher education        Civil marriage   \n",
       "2               Working  Secondary / secondary special               Married   \n",
       "3  Commercial associate  Secondary / secondary special  Single / not married   \n",
       "4  Commercial associate  Secondary / secondary special  Single / not married   \n",
       "\n",
       "        Housing Type  Age (Days)  Employment Duration (Days)  Mobile Phone  \\\n",
       "0   Rented apartment          32                      4542.0           1.0   \n",
       "1   Rented apartment          32                      4542.0           1.0   \n",
       "2  House / apartment          58                      1134.0           1.0   \n",
       "3  House / apartment          52                      3051.0           1.0   \n",
       "4  House / apartment          52                      3051.0           1.0   \n",
       "\n",
       "   Work Phone  Phone  Email      Occupation  Family Size  Approved  \n",
       "0         1.0    0.0    0.0             NaN          2.0         1  \n",
       "1         1.0    0.0    0.0             NaN          2.0         1  \n",
       "2         0.0    0.0    0.0  Security staff          2.0         1  \n",
       "3         0.0    1.0    1.0     Sales staff          1.0         1  \n",
       "4         0.0    1.0    1.0     Sales staff          1.0         1  "
      ]
     },
     "execution_count": 3,
     "metadata": {},
     "output_type": "execute_result"
    }
   ],
   "source": [
    "warnings.filterwarnings(\"ignore\")\n",
    "#https://www.kaggle.com/datasets/rikdifos/credit-card-approval-prediction\n",
    "# Load the application_record dataset\n",
    "data = pd.read_csv(\"/opt/notebooks/Chatbot-Credit-Card/backend/dataset/credit-card-approval/application_record.csv\")\n",
    "# Load the credit_record dataset\n",
    "record = pd.read_csv(\"/opt/notebooks/Chatbot-Credit-Card/backend/dataset/credit-card-approval/credit_record.csv\")\n",
    "# Find the first account open month for each user\n",
    "begin_month = record.loc[record.groupby(\"ID\")[\"MONTHS_BALANCE\"].idxmin()]\n",
    "begin_month = begin_month.rename(columns={\"MONTHS_BALANCE\": \"begin_month\"})\n",
    "\n",
    "# Merge the datasets\n",
    "df = pd.merge(data, begin_month, how=\"left\", on=\"ID\")\n",
    "print(\"Datasets loaded and merged successfully.\")\n",
    "# Define approval logic based on multiple criteria\n",
    "def determine_approval(row):\n",
    "    # Define custom approval logic\n",
    "    if row[\"STATUS\"] in [\"0\", \"1\", \"C\", \"X\"]:  # Good credit status\n",
    "            return 1  # Approved\n",
    "    return 0  # Default to denial if STATUS is bad or missing\n",
    "\n",
    "# Apply logic to determine approval (filling missing STATUS values first)\n",
    "record[\"STATUS\"] = record[\"STATUS\"].fillna(\"X\")  # Handle missing values\n",
    "record[\"Approved\"] = record.apply(determine_approval, axis=1)\n",
    "# Aggregate approval status for each ID (disapproval if any ID has disqualifying criteria)\n",
    "approval_status = record.groupby(\"ID\")[\"Approved\"].min().reset_index()\n",
    "# Merge approval status back into the main dataset, avoiding \"_x\" and \"_y\" columns\n",
    "df = pd.merge(data, approval_status, how=\"left\", on=\"ID\")\n",
    "df[\"Approved\"] = df[\"Approved\"].fillna(0).astype(int)  # Fill missing approvals as denial\n",
    "print(\"Approval status merged successfully.\")\n",
    "# Preprocess the 'DAYS_BIRTH' column to convert days to years\n",
    "df['DAYS_BIRTH'] = (-df['DAYS_BIRTH'] // 365).fillna(0).astype(int)\n",
    "df.drop(columns=['ID'], inplace=True)\n",
    "# Preprocess the 'DAYS_EMPLOYED' column to get absolute values and handle unemployment\n",
    "df['DAYS_EMPLOYED'] = df['DAYS_EMPLOYED'].apply(lambda x: abs(x) if x < 0 else 0)\n",
    "# Handle missing or infinite values in numerical columns\n",
    "numerical_cols = df.select_dtypes(include=['int64', 'float64']).columns\n",
    "df[numerical_cols] = df[numerical_cols].replace([np.inf, -np.inf], np.nan)  # Replace infinities with NaN\n",
    "df[numerical_cols] = df[numerical_cols].fillna(df[numerical_cols].median())  # Fill NaN with median values\n",
    "print(\"Preprocessing completed successfully.\")\n",
    "\n",
    "# Define the feature mapping dictionary\n",
    "feature_mapping = {\n",
    "    'CODE_GENDER': 'Gender',\n",
    "    'FLAG_OWN_CAR': 'Car Ownership',\n",
    "    'FLAG_OWN_REALTY': 'Property Ownership',\n",
    "    'CNT_CHILDREN': 'Number of Children',\n",
    "    'AMT_INCOME_TOTAL': 'Annual Income',\n",
    "    'NAME_INCOME_TYPE': 'Income Category',\n",
    "    'NAME_EDUCATION_TYPE': 'Education Level',\n",
    "    'NAME_FAMILY_STATUS': 'Marital Status',\n",
    "    'NAME_HOUSING_TYPE': 'Housing Type',\n",
    "    'DAYS_BIRTH': 'Age (Days)',\n",
    "    'DAYS_EMPLOYED': 'Employment Duration (Days)',\n",
    "    'FLAG_MOBIL': 'Mobile Phone',\n",
    "    'FLAG_WORK_PHONE': 'Work Phone',\n",
    "    'FLAG_PHONE': 'Phone',\n",
    "    'FLAG_EMAIL': 'Email',\n",
    "    'OCCUPATION_TYPE': 'Occupation',\n",
    "    'CNT_FAM_MEMBERS': 'Family Size',\n",
    "    'STATUS': 'Credit Status'\n",
    "}\n",
    "\n",
    "# Rename the columns in the DataFrame using the mapping\n",
    "df.rename(columns=feature_mapping, inplace=True)\n",
    "\n",
    "# Display the first few rows to confirm the changes\n",
    "df.head()\n",
    "df.rename(columns={'TARGET': 'Approved'}, inplace=True)\n",
    "# Display the first few rows to confirm the change\n",
    "df.head()"
   ]
  },
  {
   "cell_type": "code",
   "execution_count": 4,
   "id": "06c9fc4d-7637-4dc9-b335-5733a304c594",
   "metadata": {
    "execution": {
     "iopub.execute_input": "2024-11-25T23:01:06.595098Z",
     "iopub.status.busy": "2024-11-25T23:01:06.594797Z",
     "iopub.status.idle": "2024-11-25T23:01:06.617144Z",
     "shell.execute_reply": "2024-11-25T23:01:06.616359Z"
    },
    "papermill": {
     "duration": 0.030304,
     "end_time": "2024-11-25T23:01:06.618435",
     "exception": false,
     "start_time": "2024-11-25T23:01:06.588131",
     "status": "completed"
    },
    "tags": []
   },
   "outputs": [
    {
     "data": {
      "text/html": [
       "<div>\n",
       "<style scoped>\n",
       "    .dataframe tbody tr th:only-of-type {\n",
       "        vertical-align: middle;\n",
       "    }\n",
       "\n",
       "    .dataframe tbody tr th {\n",
       "        vertical-align: top;\n",
       "    }\n",
       "\n",
       "    .dataframe thead th {\n",
       "        text-align: right;\n",
       "    }\n",
       "</style>\n",
       "<table border=\"1\" class=\"dataframe\">\n",
       "  <thead>\n",
       "    <tr style=\"text-align: right;\">\n",
       "      <th></th>\n",
       "      <th>Prediction</th>\n",
       "      <th>Actual</th>\n",
       "      <th>Explanation</th>\n",
       "    </tr>\n",
       "  </thead>\n",
       "  <tbody>\n",
       "    <tr>\n",
       "      <th>0</th>\n",
       "      <td>Approved</td>\n",
       "      <td>Approved</td>\n",
       "      <td>This application was approved due to Employmen...</td>\n",
       "    </tr>\n",
       "    <tr>\n",
       "      <th>1</th>\n",
       "      <td>Approved</td>\n",
       "      <td>Approved</td>\n",
       "      <td>This application was approved due to Employmen...</td>\n",
       "    </tr>\n",
       "    <tr>\n",
       "      <th>2</th>\n",
       "      <td>Approved</td>\n",
       "      <td>Approved</td>\n",
       "      <td>This application was approved due to -0.77, Ma...</td>\n",
       "    </tr>\n",
       "    <tr>\n",
       "      <th>3</th>\n",
       "      <td>Approved</td>\n",
       "      <td>Approved</td>\n",
       "      <td>This application was approved due to Email, -0...</td>\n",
       "    </tr>\n",
       "    <tr>\n",
       "      <th>4</th>\n",
       "      <td>Denied</td>\n",
       "      <td>Approved</td>\n",
       "      <td>This application was denied due to -1.62, Emai...</td>\n",
       "    </tr>\n",
       "  </tbody>\n",
       "</table>\n",
       "</div>"
      ],
      "text/plain": [
       "  Prediction    Actual                                        Explanation\n",
       "0   Approved  Approved  This application was approved due to Employmen...\n",
       "1   Approved  Approved  This application was approved due to Employmen...\n",
       "2   Approved  Approved  This application was approved due to -0.77, Ma...\n",
       "3   Approved  Approved  This application was approved due to Email, -0...\n",
       "4     Denied  Approved  This application was denied due to -1.62, Emai..."
      ]
     },
     "execution_count": 4,
     "metadata": {},
     "output_type": "execute_result"
    }
   ],
   "source": [
    "explanation_df = pd.read_csv('/opt/notebooks/Chatbot-Credit-Card/backend/dataset/explanations_df.csv')\n",
    "# explanation_df.drop(['Approved','Explanation'], axis=1, inplace=True)\n",
    "explanation_df.head()"
   ]
  },
  {
   "cell_type": "code",
   "execution_count": 5,
   "id": "2540947f-ff72-40c0-8d27-7f310edb9a81",
   "metadata": {
    "execution": {
     "iopub.execute_input": "2024-11-25T23:01:06.630373Z",
     "iopub.status.busy": "2024-11-25T23:01:06.630002Z",
     "iopub.status.idle": "2024-11-25T23:01:06.634384Z",
     "shell.execute_reply": "2024-11-25T23:01:06.633601Z"
    },
    "papermill": {
     "duration": 0.012095,
     "end_time": "2024-11-25T23:01:06.635903",
     "exception": false,
     "start_time": "2024-11-25T23:01:06.623808",
     "status": "completed"
    },
    "tags": []
   },
   "outputs": [
    {
     "name": "stdout",
     "output_type": "stream",
     "text": [
      "This application was approved due to Employment Duration (Days), Housing Type, -0.77, Marital Status, Work Phone, -0.15, Number of Children, -0.81, Family Size, Annual Income.\n"
     ]
    }
   ],
   "source": [
    "print(explanation_df['Explanation'].iloc[0])"
   ]
  },
  {
   "cell_type": "code",
   "execution_count": 6,
   "id": "b55a4c06-ecdb-437b-9a1f-d89d653d9b49",
   "metadata": {
    "execution": {
     "iopub.execute_input": "2024-11-25T23:01:06.649850Z",
     "iopub.status.busy": "2024-11-25T23:01:06.649251Z",
     "iopub.status.idle": "2024-11-25T23:01:06.760407Z",
     "shell.execute_reply": "2024-11-25T23:01:06.759537Z"
    },
    "papermill": {
     "duration": 0.120011,
     "end_time": "2024-11-25T23:01:06.762197",
     "exception": false,
     "start_time": "2024-11-25T23:01:06.642186",
     "status": "completed"
    },
    "tags": []
   },
   "outputs": [],
   "source": [
    "# Function to remove numbers and clean the Explanation column\n",
    "def clean_explanation(text):\n",
    "    return re.sub(r'[-+]?\\d*\\.\\d+|\\d+', '', text).replace(', ,', ',').replace(' ,', ',').strip(\", \")\n",
    "\n",
    "# Apply the cleaning function to the Explanation column\n",
    "explanation_df[\"Explanation\"] = explanation_df[\"Explanation\"].apply(clean_explanation)"
   ]
  },
  {
   "cell_type": "code",
   "execution_count": 7,
   "id": "3809e3a1-e7af-4f16-964f-39ceee20d7af",
   "metadata": {
    "execution": {
     "iopub.execute_input": "2024-11-25T23:01:06.774963Z",
     "iopub.status.busy": "2024-11-25T23:01:06.774652Z",
     "iopub.status.idle": "2024-11-25T23:01:06.785673Z",
     "shell.execute_reply": "2024-11-25T23:01:06.784848Z"
    },
    "papermill": {
     "duration": 0.018983,
     "end_time": "2024-11-25T23:01:06.787099",
     "exception": false,
     "start_time": "2024-11-25T23:01:06.768116",
     "status": "completed"
    },
    "tags": []
   },
   "outputs": [
    {
     "name": "stdout",
     "output_type": "stream",
     "text": [
      "This application was approved due to Employment Duration (Days), Housing Type, Marital Status, Work Phone, Number of Children, Family Size, Annual Income.\n"
     ]
    },
    {
     "data": {
      "text/html": [
       "<div>\n",
       "<style scoped>\n",
       "    .dataframe tbody tr th:only-of-type {\n",
       "        vertical-align: middle;\n",
       "    }\n",
       "\n",
       "    .dataframe tbody tr th {\n",
       "        vertical-align: top;\n",
       "    }\n",
       "\n",
       "    .dataframe thead th {\n",
       "        text-align: right;\n",
       "    }\n",
       "</style>\n",
       "<table border=\"1\" class=\"dataframe\">\n",
       "  <thead>\n",
       "    <tr style=\"text-align: right;\">\n",
       "      <th></th>\n",
       "      <th>Prediction</th>\n",
       "      <th>Actual</th>\n",
       "      <th>Explanation</th>\n",
       "    </tr>\n",
       "  </thead>\n",
       "  <tbody>\n",
       "    <tr>\n",
       "      <th>0</th>\n",
       "      <td>Approved</td>\n",
       "      <td>Approved</td>\n",
       "      <td>This application was approved due to Employmen...</td>\n",
       "    </tr>\n",
       "    <tr>\n",
       "      <th>1</th>\n",
       "      <td>Approved</td>\n",
       "      <td>Approved</td>\n",
       "      <td>This application was approved due to Employmen...</td>\n",
       "    </tr>\n",
       "    <tr>\n",
       "      <th>2</th>\n",
       "      <td>Approved</td>\n",
       "      <td>Approved</td>\n",
       "      <td>This application was approved due to, Marital ...</td>\n",
       "    </tr>\n",
       "    <tr>\n",
       "      <th>3</th>\n",
       "      <td>Approved</td>\n",
       "      <td>Approved</td>\n",
       "      <td>This application was approved due to Email, Nu...</td>\n",
       "    </tr>\n",
       "    <tr>\n",
       "      <th>4</th>\n",
       "      <td>Denied</td>\n",
       "      <td>Approved</td>\n",
       "      <td>This application was denied due to, Email, Hou...</td>\n",
       "    </tr>\n",
       "  </tbody>\n",
       "</table>\n",
       "</div>"
      ],
      "text/plain": [
       "  Prediction    Actual                                        Explanation\n",
       "0   Approved  Approved  This application was approved due to Employmen...\n",
       "1   Approved  Approved  This application was approved due to Employmen...\n",
       "2   Approved  Approved  This application was approved due to, Marital ...\n",
       "3   Approved  Approved  This application was approved due to Email, Nu...\n",
       "4     Denied  Approved  This application was denied due to, Email, Hou..."
      ]
     },
     "execution_count": 7,
     "metadata": {},
     "output_type": "execute_result"
    }
   ],
   "source": [
    "# Display the DataFrame with the cleaned Explanation column\n",
    "print(explanation_df['Explanation'].iloc[0])\n",
    "explanation_df.head()"
   ]
  },
  {
   "cell_type": "code",
   "execution_count": 8,
   "id": "e7f1cb95-f0a3-44d5-8df2-64849a0c0d32",
   "metadata": {
    "execution": {
     "iopub.execute_input": "2024-11-25T23:01:06.801234Z",
     "iopub.status.busy": "2024-11-25T23:01:06.800958Z",
     "iopub.status.idle": "2024-11-25T23:01:06.810341Z",
     "shell.execute_reply": "2024-11-25T23:01:06.809526Z"
    },
    "papermill": {
     "duration": 0.017826,
     "end_time": "2024-11-25T23:01:06.811750",
     "exception": false,
     "start_time": "2024-11-25T23:01:06.793924",
     "status": "completed"
    },
    "tags": []
   },
   "outputs": [],
   "source": [
    "# df.rename(columns={'Age (Days)': 'Age (Years)'}, inplace=True)\n",
    "df.rename(columns={'Employment Duration' : 'Employment Duration (Days)'}, inplace=True)\n",
    "df['Age (Days)'] = df['Age (Days)'].astype(str) + \" years old\""
   ]
  },
  {
   "cell_type": "code",
   "execution_count": 9,
   "id": "56ecd81d-edae-4d65-be32-13503fe03ae5",
   "metadata": {
    "execution": {
     "iopub.execute_input": "2024-11-25T23:01:06.825032Z",
     "iopub.status.busy": "2024-11-25T23:01:06.824767Z",
     "iopub.status.idle": "2024-11-25T23:01:06.849481Z",
     "shell.execute_reply": "2024-11-25T23:01:06.848651Z"
    },
    "papermill": {
     "duration": 0.032876,
     "end_time": "2024-11-25T23:01:06.851027",
     "exception": false,
     "start_time": "2024-11-25T23:01:06.818151",
     "status": "completed"
    },
    "tags": []
   },
   "outputs": [
    {
     "name": "stdout",
     "output_type": "stream",
     "text": [
      "This application was approved due to Employment Duration (Days), Housing Type, Marital Status, Work Phone, Number of Children, Family Size, Annual Income.\n"
     ]
    },
    {
     "data": {
      "text/html": [
       "<div>\n",
       "<style scoped>\n",
       "    .dataframe tbody tr th:only-of-type {\n",
       "        vertical-align: middle;\n",
       "    }\n",
       "\n",
       "    .dataframe tbody tr th {\n",
       "        vertical-align: top;\n",
       "    }\n",
       "\n",
       "    .dataframe thead th {\n",
       "        text-align: right;\n",
       "    }\n",
       "</style>\n",
       "<table border=\"1\" class=\"dataframe\">\n",
       "  <thead>\n",
       "    <tr style=\"text-align: right;\">\n",
       "      <th></th>\n",
       "      <th>Gender</th>\n",
       "      <th>Car Ownership</th>\n",
       "      <th>Property Ownership</th>\n",
       "      <th>Number of Children</th>\n",
       "      <th>Annual Income</th>\n",
       "      <th>Income Category</th>\n",
       "      <th>Education Level</th>\n",
       "      <th>Marital Status</th>\n",
       "      <th>Housing Type</th>\n",
       "      <th>Age (Days)</th>\n",
       "      <th>Employment Duration (Days)</th>\n",
       "      <th>Mobile Phone</th>\n",
       "      <th>Work Phone</th>\n",
       "      <th>Phone</th>\n",
       "      <th>Email</th>\n",
       "      <th>Occupation</th>\n",
       "      <th>Family Size</th>\n",
       "      <th>Approved</th>\n",
       "      <th>Reason</th>\n",
       "    </tr>\n",
       "  </thead>\n",
       "  <tbody>\n",
       "    <tr>\n",
       "      <th>0</th>\n",
       "      <td>M</td>\n",
       "      <td>Y</td>\n",
       "      <td>Y</td>\n",
       "      <td>0</td>\n",
       "      <td>427500.0</td>\n",
       "      <td>Working</td>\n",
       "      <td>Higher education</td>\n",
       "      <td>Civil marriage</td>\n",
       "      <td>Rented apartment</td>\n",
       "      <td>32 years old</td>\n",
       "      <td>4542.0</td>\n",
       "      <td>1.0</td>\n",
       "      <td>1.0</td>\n",
       "      <td>0.0</td>\n",
       "      <td>0.0</td>\n",
       "      <td>NaN</td>\n",
       "      <td>2.0</td>\n",
       "      <td>1</td>\n",
       "      <td>This application was approved due to Employmen...</td>\n",
       "    </tr>\n",
       "    <tr>\n",
       "      <th>1</th>\n",
       "      <td>M</td>\n",
       "      <td>Y</td>\n",
       "      <td>Y</td>\n",
       "      <td>0</td>\n",
       "      <td>427500.0</td>\n",
       "      <td>Working</td>\n",
       "      <td>Higher education</td>\n",
       "      <td>Civil marriage</td>\n",
       "      <td>Rented apartment</td>\n",
       "      <td>32 years old</td>\n",
       "      <td>4542.0</td>\n",
       "      <td>1.0</td>\n",
       "      <td>1.0</td>\n",
       "      <td>0.0</td>\n",
       "      <td>0.0</td>\n",
       "      <td>NaN</td>\n",
       "      <td>2.0</td>\n",
       "      <td>1</td>\n",
       "      <td>This application was approved due to Employmen...</td>\n",
       "    </tr>\n",
       "    <tr>\n",
       "      <th>2</th>\n",
       "      <td>M</td>\n",
       "      <td>Y</td>\n",
       "      <td>Y</td>\n",
       "      <td>0</td>\n",
       "      <td>112500.0</td>\n",
       "      <td>Working</td>\n",
       "      <td>Secondary / secondary special</td>\n",
       "      <td>Married</td>\n",
       "      <td>House / apartment</td>\n",
       "      <td>58 years old</td>\n",
       "      <td>1134.0</td>\n",
       "      <td>1.0</td>\n",
       "      <td>0.0</td>\n",
       "      <td>0.0</td>\n",
       "      <td>0.0</td>\n",
       "      <td>Security staff</td>\n",
       "      <td>2.0</td>\n",
       "      <td>1</td>\n",
       "      <td>This application was approved due to, Marital ...</td>\n",
       "    </tr>\n",
       "    <tr>\n",
       "      <th>3</th>\n",
       "      <td>F</td>\n",
       "      <td>N</td>\n",
       "      <td>Y</td>\n",
       "      <td>0</td>\n",
       "      <td>270000.0</td>\n",
       "      <td>Commercial associate</td>\n",
       "      <td>Secondary / secondary special</td>\n",
       "      <td>Single / not married</td>\n",
       "      <td>House / apartment</td>\n",
       "      <td>52 years old</td>\n",
       "      <td>3051.0</td>\n",
       "      <td>1.0</td>\n",
       "      <td>0.0</td>\n",
       "      <td>1.0</td>\n",
       "      <td>1.0</td>\n",
       "      <td>Sales staff</td>\n",
       "      <td>1.0</td>\n",
       "      <td>1</td>\n",
       "      <td>This application was approved due to Email, Nu...</td>\n",
       "    </tr>\n",
       "    <tr>\n",
       "      <th>4</th>\n",
       "      <td>F</td>\n",
       "      <td>N</td>\n",
       "      <td>Y</td>\n",
       "      <td>0</td>\n",
       "      <td>270000.0</td>\n",
       "      <td>Commercial associate</td>\n",
       "      <td>Secondary / secondary special</td>\n",
       "      <td>Single / not married</td>\n",
       "      <td>House / apartment</td>\n",
       "      <td>52 years old</td>\n",
       "      <td>3051.0</td>\n",
       "      <td>1.0</td>\n",
       "      <td>0.0</td>\n",
       "      <td>1.0</td>\n",
       "      <td>1.0</td>\n",
       "      <td>Sales staff</td>\n",
       "      <td>1.0</td>\n",
       "      <td>1</td>\n",
       "      <td>This application was denied due to, Email, Hou...</td>\n",
       "    </tr>\n",
       "  </tbody>\n",
       "</table>\n",
       "</div>"
      ],
      "text/plain": [
       "  Gender Car Ownership Property Ownership  Number of Children  Annual Income  \\\n",
       "0      M             Y                  Y                   0       427500.0   \n",
       "1      M             Y                  Y                   0       427500.0   \n",
       "2      M             Y                  Y                   0       112500.0   \n",
       "3      F             N                  Y                   0       270000.0   \n",
       "4      F             N                  Y                   0       270000.0   \n",
       "\n",
       "        Income Category                Education Level        Marital Status  \\\n",
       "0               Working               Higher education        Civil marriage   \n",
       "1               Working               Higher education        Civil marriage   \n",
       "2               Working  Secondary / secondary special               Married   \n",
       "3  Commercial associate  Secondary / secondary special  Single / not married   \n",
       "4  Commercial associate  Secondary / secondary special  Single / not married   \n",
       "\n",
       "        Housing Type    Age (Days)  Employment Duration (Days)  Mobile Phone  \\\n",
       "0   Rented apartment  32 years old                      4542.0           1.0   \n",
       "1   Rented apartment  32 years old                      4542.0           1.0   \n",
       "2  House / apartment  58 years old                      1134.0           1.0   \n",
       "3  House / apartment  52 years old                      3051.0           1.0   \n",
       "4  House / apartment  52 years old                      3051.0           1.0   \n",
       "\n",
       "   Work Phone  Phone  Email      Occupation  Family Size  Approved  \\\n",
       "0         1.0    0.0    0.0             NaN          2.0         1   \n",
       "1         1.0    0.0    0.0             NaN          2.0         1   \n",
       "2         0.0    0.0    0.0  Security staff          2.0         1   \n",
       "3         0.0    1.0    1.0     Sales staff          1.0         1   \n",
       "4         0.0    1.0    1.0     Sales staff          1.0         1   \n",
       "\n",
       "                                              Reason  \n",
       "0  This application was approved due to Employmen...  \n",
       "1  This application was approved due to Employmen...  \n",
       "2  This application was approved due to, Marital ...  \n",
       "3  This application was approved due to Email, Nu...  \n",
       "4  This application was denied due to, Email, Hou...  "
      ]
     },
     "execution_count": 9,
     "metadata": {},
     "output_type": "execute_result"
    }
   ],
   "source": [
    "# Combine explanation_df and df based on index\n",
    "df['Reason'] = explanation_df['Explanation'].reset_index(drop=True)\n",
    "\n",
    "# Display the first value in the 'Reason' column\n",
    "print(df['Reason'].iloc[0])\n",
    "df.head()"
   ]
  },
  {
   "cell_type": "code",
   "execution_count": 10,
   "id": "aa91600a-5b74-4c15-a021-811231791deb",
   "metadata": {
    "execution": {
     "iopub.execute_input": "2024-11-25T23:01:06.865749Z",
     "iopub.status.busy": "2024-11-25T23:01:06.865130Z",
     "iopub.status.idle": "2024-11-25T23:01:06.870817Z",
     "shell.execute_reply": "2024-11-25T23:01:06.869883Z"
    },
    "papermill": {
     "duration": 0.014271,
     "end_time": "2024-11-25T23:01:06.872148",
     "exception": false,
     "start_time": "2024-11-25T23:01:06.857877",
     "status": "completed"
    },
    "tags": []
   },
   "outputs": [],
   "source": [
    "# Function to dynamically replace labels with row values\n",
    "def insert_numbers_dynamically(row):\n",
    "    reason = row['Reason']\n",
    "    \n",
    "    # Extract all parts of the reason where dynamic replacement is needed\n",
    "    labels = re.findall(r'([A-Za-z\\s()]+)', reason)\n",
    "    \n",
    "    for label in labels:\n",
    "        # Match the label to the corresponding column name\n",
    "        column_name = None\n",
    "        for col in df.columns:\n",
    "            # Normalize column names and labels for matching\n",
    "            normalized_col = re.sub(r'[\\s()]+', '', col).lower()\n",
    "            normalized_label = re.sub(r'[\\s()]+', '', label).lower()\n",
    "            \n",
    "            if normalized_col == normalized_label:\n",
    "                column_name = col\n",
    "                break\n",
    "        \n",
    "        if column_name and column_name in row:  # Ensure column exists in the DataFrame\n",
    "            # Replace the label with the corresponding value from the row\n",
    "            value = row[column_name]\n",
    "            # Ensure proper replacement in the text\n",
    "            reason = reason.replace(label, f\"{label.strip()} {value}\")\n",
    "    \n",
    "    return reason"
   ]
  },
  {
   "cell_type": "code",
   "execution_count": 11,
   "id": "5de84f6b-5383-4ddf-97bf-34a9e40bb3b2",
   "metadata": {
    "execution": {
     "iopub.execute_input": "2024-11-25T23:01:06.887737Z",
     "iopub.status.busy": "2024-11-25T23:01:06.887338Z",
     "iopub.status.idle": "2024-11-25T23:01:10.036119Z",
     "shell.execute_reply": "2024-11-25T23:01:10.035133Z"
    },
    "papermill": {
     "duration": 3.158184,
     "end_time": "2024-11-25T23:01:10.037709",
     "exception": false,
     "start_time": "2024-11-25T23:01:06.879525",
     "status": "completed"
    },
    "tags": []
   },
   "outputs": [
    {
     "data": {
      "text/html": [
       "<div>\n",
       "<style scoped>\n",
       "    .dataframe tbody tr th:only-of-type {\n",
       "        vertical-align: middle;\n",
       "    }\n",
       "\n",
       "    .dataframe tbody tr th {\n",
       "        vertical-align: top;\n",
       "    }\n",
       "\n",
       "    .dataframe thead th {\n",
       "        text-align: right;\n",
       "    }\n",
       "</style>\n",
       "<table border=\"1\" class=\"dataframe\">\n",
       "  <thead>\n",
       "    <tr style=\"text-align: right;\">\n",
       "      <th></th>\n",
       "      <th>Gender</th>\n",
       "      <th>Car Ownership</th>\n",
       "      <th>Property Ownership</th>\n",
       "      <th>Number of Children</th>\n",
       "      <th>Annual Income</th>\n",
       "      <th>Income Category</th>\n",
       "      <th>Education Level</th>\n",
       "      <th>Marital Status</th>\n",
       "      <th>Housing Type</th>\n",
       "      <th>Age (Days)</th>\n",
       "      <th>Employment Duration (Days)</th>\n",
       "      <th>Mobile Phone</th>\n",
       "      <th>Work Phone</th>\n",
       "      <th>Phone</th>\n",
       "      <th>Email</th>\n",
       "      <th>Occupation</th>\n",
       "      <th>Family Size</th>\n",
       "      <th>Approved</th>\n",
       "      <th>Reason</th>\n",
       "    </tr>\n",
       "  </thead>\n",
       "  <tbody>\n",
       "    <tr>\n",
       "      <th>0</th>\n",
       "      <td>M</td>\n",
       "      <td>Y</td>\n",
       "      <td>Y</td>\n",
       "      <td>0</td>\n",
       "      <td>427500.0</td>\n",
       "      <td>Working</td>\n",
       "      <td>Higher education</td>\n",
       "      <td>Civil marriage</td>\n",
       "      <td>Rented apartment</td>\n",
       "      <td>32 years old</td>\n",
       "      <td>4542.0</td>\n",
       "      <td>1.0</td>\n",
       "      <td>1.0</td>\n",
       "      <td>0.0</td>\n",
       "      <td>0.0</td>\n",
       "      <td>NaN</td>\n",
       "      <td>2.0</td>\n",
       "      <td>1</td>\n",
       "      <td>This application was approved due to Employmen...</td>\n",
       "    </tr>\n",
       "    <tr>\n",
       "      <th>1</th>\n",
       "      <td>M</td>\n",
       "      <td>Y</td>\n",
       "      <td>Y</td>\n",
       "      <td>0</td>\n",
       "      <td>427500.0</td>\n",
       "      <td>Working</td>\n",
       "      <td>Higher education</td>\n",
       "      <td>Civil marriage</td>\n",
       "      <td>Rented apartment</td>\n",
       "      <td>32 years old</td>\n",
       "      <td>4542.0</td>\n",
       "      <td>1.0</td>\n",
       "      <td>1.0</td>\n",
       "      <td>0.0</td>\n",
       "      <td>0.0</td>\n",
       "      <td>NaN</td>\n",
       "      <td>2.0</td>\n",
       "      <td>1</td>\n",
       "      <td>This application was approved due to Employmen...</td>\n",
       "    </tr>\n",
       "    <tr>\n",
       "      <th>2</th>\n",
       "      <td>M</td>\n",
       "      <td>Y</td>\n",
       "      <td>Y</td>\n",
       "      <td>0</td>\n",
       "      <td>112500.0</td>\n",
       "      <td>Working</td>\n",
       "      <td>Secondary / secondary special</td>\n",
       "      <td>Married</td>\n",
       "      <td>House / apartment</td>\n",
       "      <td>58 years old</td>\n",
       "      <td>1134.0</td>\n",
       "      <td>1.0</td>\n",
       "      <td>0.0</td>\n",
       "      <td>0.0</td>\n",
       "      <td>0.0</td>\n",
       "      <td>Security staff</td>\n",
       "      <td>2.0</td>\n",
       "      <td>1</td>\n",
       "      <td>This application was approved due to,Marital S...</td>\n",
       "    </tr>\n",
       "    <tr>\n",
       "      <th>3</th>\n",
       "      <td>F</td>\n",
       "      <td>N</td>\n",
       "      <td>Y</td>\n",
       "      <td>0</td>\n",
       "      <td>270000.0</td>\n",
       "      <td>Commercial associate</td>\n",
       "      <td>Secondary / secondary special</td>\n",
       "      <td>Single / not married</td>\n",
       "      <td>House / apartment</td>\n",
       "      <td>52 years old</td>\n",
       "      <td>3051.0</td>\n",
       "      <td>1.0</td>\n",
       "      <td>0.0</td>\n",
       "      <td>1.0</td>\n",
       "      <td>1.0</td>\n",
       "      <td>Sales staff</td>\n",
       "      <td>1.0</td>\n",
       "      <td>1</td>\n",
       "      <td>This application was approved due to Email,Num...</td>\n",
       "    </tr>\n",
       "    <tr>\n",
       "      <th>4</th>\n",
       "      <td>F</td>\n",
       "      <td>N</td>\n",
       "      <td>Y</td>\n",
       "      <td>0</td>\n",
       "      <td>270000.0</td>\n",
       "      <td>Commercial associate</td>\n",
       "      <td>Secondary / secondary special</td>\n",
       "      <td>Single / not married</td>\n",
       "      <td>House / apartment</td>\n",
       "      <td>52 years old</td>\n",
       "      <td>3051.0</td>\n",
       "      <td>1.0</td>\n",
       "      <td>0.0</td>\n",
       "      <td>1.0</td>\n",
       "      <td>1.0</td>\n",
       "      <td>Sales staff</td>\n",
       "      <td>1.0</td>\n",
       "      <td>1</td>\n",
       "      <td>This application was denied due to,Email 1.0,H...</td>\n",
       "    </tr>\n",
       "  </tbody>\n",
       "</table>\n",
       "</div>"
      ],
      "text/plain": [
       "  Gender Car Ownership Property Ownership  Number of Children  Annual Income  \\\n",
       "0      M             Y                  Y                   0       427500.0   \n",
       "1      M             Y                  Y                   0       427500.0   \n",
       "2      M             Y                  Y                   0       112500.0   \n",
       "3      F             N                  Y                   0       270000.0   \n",
       "4      F             N                  Y                   0       270000.0   \n",
       "\n",
       "        Income Category                Education Level        Marital Status  \\\n",
       "0               Working               Higher education        Civil marriage   \n",
       "1               Working               Higher education        Civil marriage   \n",
       "2               Working  Secondary / secondary special               Married   \n",
       "3  Commercial associate  Secondary / secondary special  Single / not married   \n",
       "4  Commercial associate  Secondary / secondary special  Single / not married   \n",
       "\n",
       "        Housing Type    Age (Days)  Employment Duration (Days)  Mobile Phone  \\\n",
       "0   Rented apartment  32 years old                      4542.0           1.0   \n",
       "1   Rented apartment  32 years old                      4542.0           1.0   \n",
       "2  House / apartment  58 years old                      1134.0           1.0   \n",
       "3  House / apartment  52 years old                      3051.0           1.0   \n",
       "4  House / apartment  52 years old                      3051.0           1.0   \n",
       "\n",
       "   Work Phone  Phone  Email      Occupation  Family Size  Approved  \\\n",
       "0         1.0    0.0    0.0             NaN          2.0         1   \n",
       "1         1.0    0.0    0.0             NaN          2.0         1   \n",
       "2         0.0    0.0    0.0  Security staff          2.0         1   \n",
       "3         0.0    1.0    1.0     Sales staff          1.0         1   \n",
       "4         0.0    1.0    1.0     Sales staff          1.0         1   \n",
       "\n",
       "                                              Reason  \n",
       "0  This application was approved due to Employmen...  \n",
       "1  This application was approved due to Employmen...  \n",
       "2  This application was approved due to,Marital S...  \n",
       "3  This application was approved due to Email,Num...  \n",
       "4  This application was denied due to,Email 1.0,H...  "
      ]
     },
     "execution_count": 11,
     "metadata": {},
     "output_type": "execute_result"
    }
   ],
   "source": [
    "# Apply the function to each row in the DataFrame\n",
    "df['Reason'] = df.apply(insert_numbers_dynamically, axis=1)\n",
    "\n",
    "# Display the updated DataFrame\n",
    "df.head()"
   ]
  },
  {
   "cell_type": "code",
   "execution_count": 12,
   "id": "e326c282-2355-4055-ab40-42b98f101d40",
   "metadata": {
    "execution": {
     "iopub.execute_input": "2024-11-25T23:01:10.054151Z",
     "iopub.status.busy": "2024-11-25T23:01:10.053861Z",
     "iopub.status.idle": "2024-11-25T23:01:10.091851Z",
     "shell.execute_reply": "2024-11-25T23:01:10.090609Z"
    },
    "papermill": {
     "duration": 0.04813,
     "end_time": "2024-11-25T23:01:10.093757",
     "exception": false,
     "start_time": "2024-11-25T23:01:10.045627",
     "status": "completed"
    },
    "tags": []
   },
   "outputs": [
    {
     "data": {
      "text/html": [
       "<div>\n",
       "<style scoped>\n",
       "    .dataframe tbody tr th:only-of-type {\n",
       "        vertical-align: middle;\n",
       "    }\n",
       "\n",
       "    .dataframe tbody tr th {\n",
       "        vertical-align: top;\n",
       "    }\n",
       "\n",
       "    .dataframe thead th {\n",
       "        text-align: right;\n",
       "    }\n",
       "</style>\n",
       "<table border=\"1\" class=\"dataframe\">\n",
       "  <thead>\n",
       "    <tr style=\"text-align: right;\">\n",
       "      <th></th>\n",
       "      <th>Gender</th>\n",
       "      <th>Car Ownership</th>\n",
       "      <th>Property Ownership</th>\n",
       "      <th>Number of Children</th>\n",
       "      <th>Annual Income</th>\n",
       "      <th>Income Category</th>\n",
       "      <th>Education Level</th>\n",
       "      <th>Marital Status</th>\n",
       "      <th>Housing Type</th>\n",
       "      <th>Age (Years)</th>\n",
       "      <th>Employment Duration (Years)</th>\n",
       "      <th>Mobile Phone</th>\n",
       "      <th>Work Phone</th>\n",
       "      <th>Phone</th>\n",
       "      <th>Email</th>\n",
       "      <th>Occupation</th>\n",
       "      <th>Family Size</th>\n",
       "      <th>Approved</th>\n",
       "      <th>Reason</th>\n",
       "    </tr>\n",
       "  </thead>\n",
       "  <tbody>\n",
       "    <tr>\n",
       "      <th>0</th>\n",
       "      <td>M</td>\n",
       "      <td>Y</td>\n",
       "      <td>Y</td>\n",
       "      <td>0</td>\n",
       "      <td>427500.0</td>\n",
       "      <td>Working</td>\n",
       "      <td>Higher education</td>\n",
       "      <td>Civil marriage</td>\n",
       "      <td>Rented apartment</td>\n",
       "      <td>32 years old</td>\n",
       "      <td>12.44</td>\n",
       "      <td>1.0</td>\n",
       "      <td>1.0</td>\n",
       "      <td>0.0</td>\n",
       "      <td>0.0</td>\n",
       "      <td>NaN</td>\n",
       "      <td>2.0</td>\n",
       "      <td>1</td>\n",
       "      <td>This application was approved due to Employmen...</td>\n",
       "    </tr>\n",
       "    <tr>\n",
       "      <th>1</th>\n",
       "      <td>M</td>\n",
       "      <td>Y</td>\n",
       "      <td>Y</td>\n",
       "      <td>0</td>\n",
       "      <td>427500.0</td>\n",
       "      <td>Working</td>\n",
       "      <td>Higher education</td>\n",
       "      <td>Civil marriage</td>\n",
       "      <td>Rented apartment</td>\n",
       "      <td>32 years old</td>\n",
       "      <td>12.44</td>\n",
       "      <td>1.0</td>\n",
       "      <td>1.0</td>\n",
       "      <td>0.0</td>\n",
       "      <td>0.0</td>\n",
       "      <td>NaN</td>\n",
       "      <td>2.0</td>\n",
       "      <td>1</td>\n",
       "      <td>This application was approved due to Employmen...</td>\n",
       "    </tr>\n",
       "    <tr>\n",
       "      <th>2</th>\n",
       "      <td>M</td>\n",
       "      <td>Y</td>\n",
       "      <td>Y</td>\n",
       "      <td>0</td>\n",
       "      <td>112500.0</td>\n",
       "      <td>Working</td>\n",
       "      <td>Secondary / secondary special</td>\n",
       "      <td>Married</td>\n",
       "      <td>House / apartment</td>\n",
       "      <td>58 years old</td>\n",
       "      <td>3.11</td>\n",
       "      <td>1.0</td>\n",
       "      <td>0.0</td>\n",
       "      <td>0.0</td>\n",
       "      <td>0.0</td>\n",
       "      <td>Security staff</td>\n",
       "      <td>2.0</td>\n",
       "      <td>1</td>\n",
       "      <td>This application was approved due to,Marital S...</td>\n",
       "    </tr>\n",
       "    <tr>\n",
       "      <th>3</th>\n",
       "      <td>F</td>\n",
       "      <td>N</td>\n",
       "      <td>Y</td>\n",
       "      <td>0</td>\n",
       "      <td>270000.0</td>\n",
       "      <td>Commercial associate</td>\n",
       "      <td>Secondary / secondary special</td>\n",
       "      <td>Single / not married</td>\n",
       "      <td>House / apartment</td>\n",
       "      <td>52 years old</td>\n",
       "      <td>8.36</td>\n",
       "      <td>1.0</td>\n",
       "      <td>0.0</td>\n",
       "      <td>1.0</td>\n",
       "      <td>1.0</td>\n",
       "      <td>Sales staff</td>\n",
       "      <td>1.0</td>\n",
       "      <td>1</td>\n",
       "      <td>This application was approved due to Email,Num...</td>\n",
       "    </tr>\n",
       "    <tr>\n",
       "      <th>4</th>\n",
       "      <td>F</td>\n",
       "      <td>N</td>\n",
       "      <td>Y</td>\n",
       "      <td>0</td>\n",
       "      <td>270000.0</td>\n",
       "      <td>Commercial associate</td>\n",
       "      <td>Secondary / secondary special</td>\n",
       "      <td>Single / not married</td>\n",
       "      <td>House / apartment</td>\n",
       "      <td>52 years old</td>\n",
       "      <td>8.36</td>\n",
       "      <td>1.0</td>\n",
       "      <td>0.0</td>\n",
       "      <td>1.0</td>\n",
       "      <td>1.0</td>\n",
       "      <td>Sales staff</td>\n",
       "      <td>1.0</td>\n",
       "      <td>1</td>\n",
       "      <td>This application was denied due to,Email 1.0,H...</td>\n",
       "    </tr>\n",
       "  </tbody>\n",
       "</table>\n",
       "</div>"
      ],
      "text/plain": [
       "  Gender Car Ownership Property Ownership  Number of Children  Annual Income  \\\n",
       "0      M             Y                  Y                   0       427500.0   \n",
       "1      M             Y                  Y                   0       427500.0   \n",
       "2      M             Y                  Y                   0       112500.0   \n",
       "3      F             N                  Y                   0       270000.0   \n",
       "4      F             N                  Y                   0       270000.0   \n",
       "\n",
       "        Income Category                Education Level        Marital Status  \\\n",
       "0               Working               Higher education        Civil marriage   \n",
       "1               Working               Higher education        Civil marriage   \n",
       "2               Working  Secondary / secondary special               Married   \n",
       "3  Commercial associate  Secondary / secondary special  Single / not married   \n",
       "4  Commercial associate  Secondary / secondary special  Single / not married   \n",
       "\n",
       "        Housing Type   Age (Years)  Employment Duration (Years)  Mobile Phone  \\\n",
       "0   Rented apartment  32 years old                        12.44           1.0   \n",
       "1   Rented apartment  32 years old                        12.44           1.0   \n",
       "2  House / apartment  58 years old                         3.11           1.0   \n",
       "3  House / apartment  52 years old                         8.36           1.0   \n",
       "4  House / apartment  52 years old                         8.36           1.0   \n",
       "\n",
       "   Work Phone  Phone  Email      Occupation  Family Size  Approved  \\\n",
       "0         1.0    0.0    0.0             NaN          2.0         1   \n",
       "1         1.0    0.0    0.0             NaN          2.0         1   \n",
       "2         0.0    0.0    0.0  Security staff          2.0         1   \n",
       "3         0.0    1.0    1.0     Sales staff          1.0         1   \n",
       "4         0.0    1.0    1.0     Sales staff          1.0         1   \n",
       "\n",
       "                                              Reason  \n",
       "0  This application was approved due to Employmen...  \n",
       "1  This application was approved due to Employmen...  \n",
       "2  This application was approved due to,Marital S...  \n",
       "3  This application was approved due to Email,Num...  \n",
       "4  This application was denied due to,Email 1.0,H...  "
      ]
     },
     "execution_count": 12,
     "metadata": {},
     "output_type": "execute_result"
    }
   ],
   "source": [
    "# Convert \"Employment Duration (Days)\" to years in-place\n",
    "df[\"Employment Duration (Days)\"] = df[\"Employment Duration (Days)\"].apply(lambda x: round(x / 365.0, 2) if not pd.isna(x) else np.nan)\n",
    "df.rename(columns={\"Age (Days)\": \"Age (Years)\", \"Employment Duration (Days)\": \"Employment Duration (Years)\"}, inplace=True)\n",
    "df.head()"
   ]
  },
  {
   "cell_type": "code",
   "execution_count": 13,
   "id": "9e94d63b-b049-48ba-84c1-d4d546924bb0",
   "metadata": {
    "execution": {
     "iopub.execute_input": "2024-11-25T23:01:10.112052Z",
     "iopub.status.busy": "2024-11-25T23:01:10.111774Z",
     "iopub.status.idle": "2024-11-25T23:01:10.124395Z",
     "shell.execute_reply": "2024-11-25T23:01:10.123279Z"
    },
    "papermill": {
     "duration": 0.023251,
     "end_time": "2024-11-25T23:01:10.125959",
     "exception": false,
     "start_time": "2024-11-25T23:01:10.102708",
     "status": "completed"
    },
    "tags": []
   },
   "outputs": [],
   "source": [
    "# Step 2: Update the \"Reason\" column to match the new labels\n",
    "def update_reason(reason_text):\n",
    "    reason_text = reason_text.replace(\"Age (Days)\", \"Age (Years)\")\n",
    "    reason_text = reason_text.replace(\"Employment Duration (Days)\", \"Employment Duration (Years)\")\n",
    "    return reason_text\n",
    "\n",
    "df[\"Reason\"] = df[\"Reason\"].apply(update_reason)"
   ]
  },
  {
   "cell_type": "code",
   "execution_count": 14,
   "id": "569a1958-db10-4301-bc49-20782c1b67a0",
   "metadata": {
    "execution": {
     "iopub.execute_input": "2024-11-25T23:01:10.142263Z",
     "iopub.status.busy": "2024-11-25T23:01:10.141673Z",
     "iopub.status.idle": "2024-11-25T23:01:10.146551Z",
     "shell.execute_reply": "2024-11-25T23:01:10.145589Z"
    },
    "papermill": {
     "duration": 0.014525,
     "end_time": "2024-11-25T23:01:10.148231",
     "exception": false,
     "start_time": "2024-11-25T23:01:10.133706",
     "status": "completed"
    },
    "tags": []
   },
   "outputs": [
    {
     "name": "stdout",
     "output_type": "stream",
     "text": [
      "This application was approved due to Employment Duration (Years),Housing Type Rented apartment,Marital Status Civil marriage,Work Phone 1.0,Number of Children 0,Family Size 2.0,Annual Income 427500.0.\n"
     ]
    }
   ],
   "source": [
    "# Display the first value in the 'Reason' column\n",
    "print(df['Reason'].iloc[0])"
   ]
  },
  {
   "cell_type": "code",
   "execution_count": 15,
   "id": "682e67b6-5fbb-4f4b-ab3c-d41b8f5a274e",
   "metadata": {
    "execution": {
     "iopub.execute_input": "2024-11-25T23:01:10.165502Z",
     "iopub.status.busy": "2024-11-25T23:01:10.165211Z",
     "iopub.status.idle": "2024-11-25T23:01:10.181159Z",
     "shell.execute_reply": "2024-11-25T23:01:10.180148Z"
    },
    "papermill": {
     "duration": 0.026363,
     "end_time": "2024-11-25T23:01:10.182479",
     "exception": false,
     "start_time": "2024-11-25T23:01:10.156116",
     "status": "completed"
    },
    "tags": []
   },
   "outputs": [],
   "source": [
    "def generate_tagged_input_and_label(row):\n",
    "    # Generate the reasoning part of the label using the same tags as input\n",
    "    reasoning_parts = [\n",
    "        f\"<gender> {'Male' if row['Gender'] == 'M' else 'Female'} </gender>\" if pd.notna(row.get('Gender')) else None,\n",
    "        f\"<age> {row['Age (Years)']} years old </age>\" if pd.notna(row.get('Age (Years)')) else None,\n",
    "        f\"<car_ownership> {'yes' if row['Car Ownership'] == 'Y' else 'no'} </car_ownership>\" if pd.notna(row.get('Car Ownership')) else None,\n",
    "        f\"<property_ownership> {'yes' if row['Property Ownership'] == 'Y' else 'no'} </property_ownership>\" if pd.notna(row.get('Property Ownership')) else None,\n",
    "        f\"<number_of_children> {int(row['Number of Children'])} </number_of_children>\" if pd.notna(row.get('Number of Children')) else None,\n",
    "        f\"<annual_income> {row['Annual Income']} </annual_income>\" if pd.notna(row.get('Annual Income')) else None,\n",
    "        f\"<income_category> {row['Income Category']} </income_category>\" if pd.notna(row.get('Income Category')) else None,\n",
    "        f\"<education_level> {row['Education Level']} </education_level>\" if pd.notna(row.get('Education Level')) else None,\n",
    "        f\"<marital_status> {row['Marital Status']} </marital_status>\" if pd.notna(row.get('Marital Status')) else None,\n",
    "        f\"<housing_type> {row['Housing Type']} </housing_type>\" if pd.notna(row.get('Housing Type')) else None,\n",
    "        f\"<employment_duration> {row['Employment Duration (Years)']} years </employment_duration>\" if pd.notna(row.get('Employment Duration (Years)')) else None,\n",
    "        f\"<mobile_phone> {'yes' if row['Mobile Phone'] == 1 else 'no'} </mobile_phone>\" if pd.notna(row.get('Mobile Phone')) else None,\n",
    "        f\"<work_phone> {'yes' if row['Work Phone'] == 1 else 'no'} </work_phone>\" if pd.notna(row.get('Work Phone')) else None,\n",
    "        f\"<email> {'yes' if row['Email'] == 1 else 'no'} </email>\" if pd.notna(row.get('Email')) else None,\n",
    "        f\"<family_size> {row['Family Size']} </family_size>\" if pd.notna(row.get('Family Size')) else None,\n",
    "    ]\n",
    "    reasoning_text = \" \".join([part for part in reasoning_parts if part is not None])\n",
    "    label = f\"<approval_status> Approved </approval_status> <reasoning> {reasoning_text} </reasoning>\"\n",
    "\n",
    "    # Generate input in the same way\n",
    "    input_parts = reasoning_parts  # Reuse the reasoning parts for consistency\n",
    "    input_text = \" \".join([part for part in input_parts if part is not None])\n",
    "    input_section = f\"{input_text}\"\n",
    "\n",
    "    return input_section, label\n",
    "\n",
    "def generate_plain_input_and_label(row):\n",
    "    # Generate the reasoning part of the label\n",
    "    reasoning_parts = [\n",
    "        f\"Gender: {'Male' if row['Gender'] == 'M' else 'Female'}\" if pd.notna(row.get('Gender')) else None,\n",
    "        f\"Age: {row['Age (Years)']} years old\" if pd.notna(row.get('Age (Years)')) else None,\n",
    "        f\"Car Ownership: {'Yes' if row['Car Ownership'] == 'Y' else 'No'}\" if pd.notna(row.get('Car Ownership')) else None,\n",
    "        f\"Property Ownership: {'Yes' if row['Property Ownership'] == 'Y' else 'No'}\" if pd.notna(row.get('Property Ownership')) else None,\n",
    "        f\"Number of Children: {int(row['Number of Children'])}\" if pd.notna(row.get('Number of Children')) else None,\n",
    "        f\"Annual Income: {row['Annual Income']}\" if pd.notna(row.get('Annual Income')) else None,\n",
    "        f\"Income Category: {row['Income Category']}\" if pd.notna(row.get('Income Category')) else None,\n",
    "        f\"Education Level: {row['Education Level']}\" if pd.notna(row.get('Education Level')) else None,\n",
    "        f\"Marital Status: {row['Marital Status']}\" if pd.notna(row.get('Marital Status')) else None,\n",
    "        f\"Housing Type: {row['Housing Type']}\" if pd.notna(row.get('Housing Type')) else None,\n",
    "        f\"Employment Duration: {row['Employment Duration (Years)']} years\" if pd.notna(row.get('Employment Duration (Years)')) else None,\n",
    "        f\"Mobile Phone: {'Yes' if row['Mobile Phone'] == 1 else 'No'}\" if pd.notna(row.get('Mobile Phone')) else None,\n",
    "        f\"Work Phone: {'Yes' if row['Work Phone'] == 1 else 'No'}\" if pd.notna(row.get('Work Phone')) else None,\n",
    "        f\"Email: {'Yes' if row['Email'] == 1 else 'No'}\" if pd.notna(row.get('Email')) else None,\n",
    "        f\"Family Size: {row['Family Size']}\" if pd.notna(row.get('Family Size')) else None,\n",
    "    ]\n",
    "    reasoning_text = \". \".join([part for part in reasoning_parts if part is not None])\n",
    "    label = f\"Approval Status: Approved. Reasoning: {reasoning_text}.\"\n",
    "\n",
    "    # Generate input in the same way\n",
    "    input_text = reasoning_text  # Reuse the reasoning parts for consistency\n",
    "\n",
    "    return input_text, label\n"
   ]
  },
  {
   "cell_type": "code",
   "execution_count": 16,
   "id": "b4239c25-2bfb-43f6-a7c5-01b023d7acf0",
   "metadata": {
    "execution": {
     "iopub.execute_input": "2024-11-25T23:01:10.198814Z",
     "iopub.status.busy": "2024-11-25T23:01:10.198563Z",
     "iopub.status.idle": "2024-11-25T23:01:11.018797Z",
     "shell.execute_reply": "2024-11-25T23:01:11.017865Z"
    },
    "papermill": {
     "duration": 0.830117,
     "end_time": "2024-11-25T23:01:11.020593",
     "exception": false,
     "start_time": "2024-11-25T23:01:10.190476",
     "status": "completed"
    },
    "tags": []
   },
   "outputs": [],
   "source": [
    "# Apply the function to each row\n",
    "df[\"text\"], df[\"label\"] = zip(*df.apply(generate_plain_input_and_label, axis=1))\n",
    "\n",
    "# Keep only the required columns\n",
    "final_df = df[[\"text\", \"label\"]]"
   ]
  },
  {
   "cell_type": "code",
   "execution_count": 17,
   "id": "98c88087-3265-4990-9b80-2efbd8b1432e",
   "metadata": {
    "execution": {
     "iopub.execute_input": "2024-11-25T23:01:11.037069Z",
     "iopub.status.busy": "2024-11-25T23:01:11.036759Z",
     "iopub.status.idle": "2024-11-25T23:01:11.047817Z",
     "shell.execute_reply": "2024-11-25T23:01:11.046938Z"
    },
    "papermill": {
     "duration": 0.020717,
     "end_time": "2024-11-25T23:01:11.049272",
     "exception": false,
     "start_time": "2024-11-25T23:01:11.028555",
     "status": "completed"
    },
    "tags": []
   },
   "outputs": [
    {
     "name": "stdout",
     "output_type": "stream",
     "text": [
      "Label\n",
      "\n",
      "Approval Status: Approved. Reasoning: Gender: Male. Age: 32 years old years old. Car Ownership: Yes. Property Ownership: Yes. Number of Children: 0. Annual Income: 427500.0. Income Category: Working. Education Level: Higher education. Marital Status: Civil marriage. Housing Type: Rented apartment. Employment Duration: 12.44 years. Mobile Phone: Yes. Work Phone: Yes. Email: No. Family Size: 2.0.\n",
      "Input\n",
      "\n",
      "Gender: Male. Age: 32 years old years old. Car Ownership: Yes. Property Ownership: Yes. Number of Children: 0. Annual Income: 427500.0. Income Category: Working. Education Level: Higher education. Marital Status: Civil marriage. Housing Type: Rented apartment. Employment Duration: 12.44 years. Mobile Phone: Yes. Work Phone: Yes. Email: No. Family Size: 2.0\n"
     ]
    },
    {
     "data": {
      "text/html": [
       "<div>\n",
       "<style scoped>\n",
       "    .dataframe tbody tr th:only-of-type {\n",
       "        vertical-align: middle;\n",
       "    }\n",
       "\n",
       "    .dataframe tbody tr th {\n",
       "        vertical-align: top;\n",
       "    }\n",
       "\n",
       "    .dataframe thead th {\n",
       "        text-align: right;\n",
       "    }\n",
       "</style>\n",
       "<table border=\"1\" class=\"dataframe\">\n",
       "  <thead>\n",
       "    <tr style=\"text-align: right;\">\n",
       "      <th></th>\n",
       "      <th>text</th>\n",
       "      <th>label</th>\n",
       "    </tr>\n",
       "  </thead>\n",
       "  <tbody>\n",
       "    <tr>\n",
       "      <th>0</th>\n",
       "      <td>Gender: Male. Age: 32 years old years old. Car...</td>\n",
       "      <td>Approval Status: Approved. Reasoning: Gender: ...</td>\n",
       "    </tr>\n",
       "    <tr>\n",
       "      <th>1</th>\n",
       "      <td>Gender: Male. Age: 32 years old years old. Car...</td>\n",
       "      <td>Approval Status: Approved. Reasoning: Gender: ...</td>\n",
       "    </tr>\n",
       "    <tr>\n",
       "      <th>2</th>\n",
       "      <td>Gender: Male. Age: 58 years old years old. Car...</td>\n",
       "      <td>Approval Status: Approved. Reasoning: Gender: ...</td>\n",
       "    </tr>\n",
       "    <tr>\n",
       "      <th>3</th>\n",
       "      <td>Gender: Female. Age: 52 years old years old. C...</td>\n",
       "      <td>Approval Status: Approved. Reasoning: Gender: ...</td>\n",
       "    </tr>\n",
       "    <tr>\n",
       "      <th>4</th>\n",
       "      <td>Gender: Female. Age: 52 years old years old. C...</td>\n",
       "      <td>Approval Status: Approved. Reasoning: Gender: ...</td>\n",
       "    </tr>\n",
       "  </tbody>\n",
       "</table>\n",
       "</div>"
      ],
      "text/plain": [
       "                                                text  \\\n",
       "0  Gender: Male. Age: 32 years old years old. Car...   \n",
       "1  Gender: Male. Age: 32 years old years old. Car...   \n",
       "2  Gender: Male. Age: 58 years old years old. Car...   \n",
       "3  Gender: Female. Age: 52 years old years old. C...   \n",
       "4  Gender: Female. Age: 52 years old years old. C...   \n",
       "\n",
       "                                               label  \n",
       "0  Approval Status: Approved. Reasoning: Gender: ...  \n",
       "1  Approval Status: Approved. Reasoning: Gender: ...  \n",
       "2  Approval Status: Approved. Reasoning: Gender: ...  \n",
       "3  Approval Status: Approved. Reasoning: Gender: ...  \n",
       "4  Approval Status: Approved. Reasoning: Gender: ...  "
      ]
     },
     "execution_count": 17,
     "metadata": {},
     "output_type": "execute_result"
    }
   ],
   "source": [
    "# Display the first value in the 'Reason' column\n",
    "print(\"Label\\n\")\n",
    "print(final_df['label'].iloc[0])\n",
    "print(\"Input\\n\")\n",
    "print(final_df['text'].iloc[0])\n",
    "final_df.head()"
   ]
  },
  {
   "cell_type": "code",
   "execution_count": 18,
   "id": "3b3a9496-8f65-4b5b-acc2-9b9f877b4e80",
   "metadata": {
    "execution": {
     "iopub.execute_input": "2024-11-25T23:01:11.066975Z",
     "iopub.status.busy": "2024-11-25T23:01:11.066519Z",
     "iopub.status.idle": "2024-11-25T23:01:11.074844Z",
     "shell.execute_reply": "2024-11-25T23:01:11.073863Z"
    },
    "papermill": {
     "duration": 0.019115,
     "end_time": "2024-11-25T23:01:11.076351",
     "exception": false,
     "start_time": "2024-11-25T23:01:11.057236",
     "status": "completed"
    },
    "tags": []
   },
   "outputs": [],
   "source": [
    "# Define templates for varied inputs\n",
    "input_templates = [\n",
    "    \"My gender is {gender}, I own a car: {car}, I own a house: {house}, I make {income} annually, I am {job_status}, I have {education}, I am {marital_status}, I live in {housing}, I am {age} years old, I have {children} children.\",\n",
    "    \"I am a {gender} earning {income} per year. I am {marital_status}, living in a {housing}, and I am {age} years old. I have {children} children and {education}. My job status is {job_status}.\",\n",
    "    \"{gender}, owns a car: {car}, owns a house: {house}, earning {income}, {job_status}, {education}, {marital_status}, living in {housing}, {age} years old, {children} children.\",\n",
    "    \"I earn {income} yearly and am {marital_status}. I live in a {housing}, I am {age} years old, and I have {children} children.\",\n",
    "    \"My details: {gender}, Car Ownership: {car}, Property Ownership: {house}, Annual Income: {income}, Education: {education}, Marital Status: {marital_status}, Housing Type: {housing}, Age: {age}, Children: {children}.\",\n",
    "    \"I am a {gender} who owns a car ({car}) and a house ({house}). I earn {income} per year and am {marital_status}. My education level is {education}, and I live in a {housing}. I am {age} years old and have {children} children. My job is {job_status}.\",\n",
    "    \"I am {age} years old and make {income} annually. I am {marital_status}, living in a {housing}. I own a car: {car}. I own a house: {house}. I have {children} children and {education}.\",\n",
    "    \"I earn {income} yearly and have {children} children. I am a {gender} who owns a car ({car}) and a house ({house}). I am {marital_status} and live in a {housing}. My education level is {education}, and I am {age} years old.\",\n",
    "    \"I have {education} and make {income} yearly. I am {age} years old and {job_status}. I own a car ({car}) and a house ({house}). I am {marital_status} and live in a {housing}. I have {children} children.\",\n",
    "    \"{gender} with an annual income of {income}, {job_status}, living in a {housing}. {marital_status}, with {education}. I own a car ({car}) and a house ({house}). Age: {age}, Children: {children}.\",\n",
    "    \"I make {income} per year and live in a {housing}. I am {marital_status} with {education}, {age} years old, and have {children} children. Car ownership: {car}, Property ownership: {house}.\",\n",
    "    \"I am {age} years old, {marital_status}, and earn {income} per year. I live in a {housing} and have {children} children. Car: {car}, House: {house}, Education: {education}.\",\n",
    "    \"I am a {gender} who earns {income} annually. I have {children} children and am {age} years old. I live in a {housing} and own a car ({car}) and a house ({house}).\",\n",
    "    \"{gender}, {age} years old, earns {income}, lives in a {housing}, is {marital_status}, owns a car: {car}, owns a house: {house}, has {education}, and {children} children.\",\n",
    "    \"{gender}, owns a car: {car}, owns a house: {house}, earns {income}, is {age} years old, {education}, {marital_status}, {housing}, {children} children.\"\n",
    "]\n",
    "\n",
    "# Generate varied natural-language inputs\n",
    "def generate_varied_inputs(row):\n",
    "    # Choose a random template\n",
    "    template = random.choice(input_templates)\n",
    "    \n",
    "    # Fill placeholders with actual values or defaults\n",
    "    filled_input = template.format(\n",
    "        gender=\"Male\" if row['Gender'] == 'M' else \"Female\",\n",
    "        car=\"yes\" if row['Car Ownership'] == 'Y' else \"no\",\n",
    "        house=\"yes\" if row['Property Ownership'] == 'Y' else \"no\",\n",
    "        income=f\"{row['Annual Income']:.2f}\" if pd.notna(row['Annual Income']) else \"unknown income\",\n",
    "        job_status=\"working\" if row['Income Category'] == \"Working\" else \"not working\" if pd.notna(row['Income Category']) else \"unknown job status\",\n",
    "        education=row['Education Level'] if pd.notna(row['Education Level']) else \"unknown education level\",\n",
    "        marital_status=row['Marital Status'] if pd.notna(row['Marital Status']) else \"unknown marital status\",\n",
    "        housing=row['Housing Type'] if pd.notna(row['Housing Type']) else \"unknown housing type\",\n",
    "        age=f\"{(row['Age (Years)'])}\" if pd.notna(row['Age (Years)']) else \"unknown age\",\n",
    "        children=f\"{int(row['Number of Children'])}\" if pd.notna(row['Number of Children']) else \"unknown number of\"\n",
    "    )\n",
    "    return filled_input"
   ]
  },
  {
   "cell_type": "code",
   "execution_count": 19,
   "id": "27d87e11-b864-4256-aa52-9a005a448b15",
   "metadata": {
    "execution": {
     "iopub.execute_input": "2024-11-25T23:01:11.093003Z",
     "iopub.status.busy": "2024-11-25T23:01:11.092651Z",
     "iopub.status.idle": "2024-11-25T23:01:11.666807Z",
     "shell.execute_reply": "2024-11-25T23:01:11.665926Z"
    },
    "papermill": {
     "duration": 0.584179,
     "end_time": "2024-11-25T23:01:11.668398",
     "exception": false,
     "start_time": "2024-11-25T23:01:11.084219",
     "status": "completed"
    },
    "tags": []
   },
   "outputs": [
    {
     "data": {
      "text/html": [
       "<div>\n",
       "<style scoped>\n",
       "    .dataframe tbody tr th:only-of-type {\n",
       "        vertical-align: middle;\n",
       "    }\n",
       "\n",
       "    .dataframe tbody tr th {\n",
       "        vertical-align: top;\n",
       "    }\n",
       "\n",
       "    .dataframe thead th {\n",
       "        text-align: right;\n",
       "    }\n",
       "</style>\n",
       "<table border=\"1\" class=\"dataframe\">\n",
       "  <thead>\n",
       "    <tr style=\"text-align: right;\">\n",
       "      <th></th>\n",
       "      <th>text</th>\n",
       "      <th>label</th>\n",
       "    </tr>\n",
       "  </thead>\n",
       "  <tbody>\n",
       "    <tr>\n",
       "      <th>0</th>\n",
       "      <td>I have Higher education and make 427500.00 yea...</td>\n",
       "      <td>&lt;label&gt; This application was approved due to E...</td>\n",
       "    </tr>\n",
       "    <tr>\n",
       "      <th>1</th>\n",
       "      <td>I am 32 years old years old and make 427500.00...</td>\n",
       "      <td>&lt;label&gt; This application was approved due to E...</td>\n",
       "    </tr>\n",
       "    <tr>\n",
       "      <th>2</th>\n",
       "      <td>My gender is Male, I own a car: yes, I own a h...</td>\n",
       "      <td>&lt;label&gt; This application was approved due to,M...</td>\n",
       "    </tr>\n",
       "    <tr>\n",
       "      <th>3</th>\n",
       "      <td>My details: Female, Car Ownership: no, Propert...</td>\n",
       "      <td>&lt;label&gt; This application was approved due to E...</td>\n",
       "    </tr>\n",
       "    <tr>\n",
       "      <th>4</th>\n",
       "      <td>I am 52 years old years old and make 270000.00...</td>\n",
       "      <td>&lt;label&gt; This application was denied due to,Ema...</td>\n",
       "    </tr>\n",
       "  </tbody>\n",
       "</table>\n",
       "</div>"
      ],
      "text/plain": [
       "                                                text  \\\n",
       "0  I have Higher education and make 427500.00 yea...   \n",
       "1  I am 32 years old years old and make 427500.00...   \n",
       "2  My gender is Male, I own a car: yes, I own a h...   \n",
       "3  My details: Female, Car Ownership: no, Propert...   \n",
       "4  I am 52 years old years old and make 270000.00...   \n",
       "\n",
       "                                               label  \n",
       "0  <label> This application was approved due to E...  \n",
       "1  <label> This application was approved due to E...  \n",
       "2  <label> This application was approved due to,M...  \n",
       "3  <label> This application was approved due to E...  \n",
       "4  <label> This application was denied due to,Ema...  "
      ]
     },
     "execution_count": 19,
     "metadata": {},
     "output_type": "execute_result"
    }
   ],
   "source": [
    "random_df = df.copy()\n",
    "# Apply the varied input generation to each row\n",
    "random_df[\"text\"] = random_df.apply(generate_varied_inputs, axis=1)\n",
    "\n",
    "# Keep the label (reason) structured and tagged\n",
    "random_df[\"label\"] = random_df[\"Reason\"].apply(lambda reason: f\"<label> {reason} </label>\")\n",
    "\n",
    "# Resulting dataframe with varied inputs and structured labels\n",
    "random_df = random_df[[\"text\", \"label\"]]\n",
    "random_df.head()"
   ]
  },
  {
   "cell_type": "code",
   "execution_count": 20,
   "id": "41a97b2a-5ea0-4c90-b4ba-0c05e83f785a",
   "metadata": {
    "execution": {
     "iopub.execute_input": "2024-11-25T23:01:11.687531Z",
     "iopub.status.busy": "2024-11-25T23:01:11.687248Z",
     "iopub.status.idle": "2024-11-25T23:01:11.691991Z",
     "shell.execute_reply": "2024-11-25T23:01:11.691090Z"
    },
    "papermill": {
     "duration": 0.015507,
     "end_time": "2024-11-25T23:01:11.693460",
     "exception": false,
     "start_time": "2024-11-25T23:01:11.677953",
     "status": "completed"
    },
    "tags": []
   },
   "outputs": [],
   "source": [
    "base_model = \"meta-llama/Llama-3.1-8B\"\n",
    "new_model = \"/opt/notebooks/Chatbot-Credit-Card/backend/models/llama-3.1-8b-CC/\"\n",
    "\n",
    "instruct_base_model = \"meta-llama/Llama-3.1-8B-Instruct\"\n",
    "instruct_new_model = \"/opt/notebooks/Chatbot-Credit-Card/backend/models/llama-3.1-8b-Instruct-CC/\"\n",
    "epochs=30"
   ]
  },
  {
   "cell_type": "code",
   "execution_count": 21,
   "id": "765187fa-57b1-4600-90ae-78bb4a442e65",
   "metadata": {
    "execution": {
     "iopub.execute_input": "2024-11-25T23:01:11.710500Z",
     "iopub.status.busy": "2024-11-25T23:01:11.709856Z",
     "iopub.status.idle": "2024-11-25T23:01:11.713885Z",
     "shell.execute_reply": "2024-11-25T23:01:11.712994Z"
    },
    "papermill": {
     "duration": 0.014144,
     "end_time": "2024-11-25T23:01:11.715369",
     "exception": false,
     "start_time": "2024-11-25T23:01:11.701225",
     "status": "completed"
    },
    "tags": []
   },
   "outputs": [],
   "source": [
    "torch_dtype = torch.float16\n",
    "attn_implementation = \"eager\""
   ]
  },
  {
   "cell_type": "code",
   "execution_count": 22,
   "id": "7a905ad7-0c94-474c-8bf0-fd0ce3947412",
   "metadata": {
    "execution": {
     "iopub.execute_input": "2024-11-25T23:01:11.732577Z",
     "iopub.status.busy": "2024-11-25T23:01:11.732232Z",
     "iopub.status.idle": "2024-11-25T23:01:11.836315Z",
     "shell.execute_reply": "2024-11-25T23:01:11.835353Z"
    },
    "papermill": {
     "duration": 0.115357,
     "end_time": "2024-11-25T23:01:11.838462",
     "exception": false,
     "start_time": "2024-11-25T23:01:11.723105",
     "status": "completed"
    },
    "tags": []
   },
   "outputs": [],
   "source": [
    "# Convert DataFrames to HuggingFace datasets\n",
    "final_dataset = Dataset.from_pandas(final_df)\n",
    "random_dataset = Dataset.from_pandas(random_df)\n",
    "\n",
    "# Split datasets into train and eval\n",
    "final_split = final_dataset.train_test_split(test_size=0.2)\n",
    "random_split = random_dataset.train_test_split(test_size=0.2)\n",
    "\n",
    "final_train_dataset = final_split['train']\n",
    "final_eval_dataset = final_split['test']\n",
    "\n",
    "random_train_dataset = random_split['train']\n",
    "random_eval_dataset = random_split['test']"
   ]
  },
  {
   "cell_type": "code",
   "execution_count": 23,
   "id": "a4d699e7-f389-4b8b-896d-82f8cfe0d6ec",
   "metadata": {
    "execution": {
     "iopub.execute_input": "2024-11-25T23:01:11.857606Z",
     "iopub.status.busy": "2024-11-25T23:01:11.857176Z",
     "iopub.status.idle": "2024-11-25T23:01:11.864009Z",
     "shell.execute_reply": "2024-11-25T23:01:11.863017Z"
    },
    "papermill": {
     "duration": 0.017691,
     "end_time": "2024-11-25T23:01:11.865414",
     "exception": false,
     "start_time": "2024-11-25T23:01:11.847723",
     "status": "completed"
    },
    "tags": []
   },
   "outputs": [],
   "source": [
    "# Custom Callback to save model every 5 epochs\n",
    "class SaveEveryNEpochsCallback(TrainerCallback):\n",
    "    def __init__(self, save_every_n_epochs, output_dir):\n",
    "        self.save_every_n_epochs = save_every_n_epochs\n",
    "        self.output_dir = output_dir\n",
    "\n",
    "    def on_epoch_end(self, args, state: TrainerState, control: TrainerControl, **kwargs):\n",
    "        if state.epoch % self.save_every_n_epochs == 0:\n",
    "            model_save_path = os.path.join(self.output_dir, f\"checkpoint-{int(state.epoch)}-epochs\")\n",
    "            kwargs[\"model\"].save_pretrained(model_save_path)\n",
    "            kwargs[\"tokenizer\"].save_pretrained(model_save_path)\n",
    "            print(f\"Model saved at {model_save_path}\")"
   ]
  },
  {
   "cell_type": "code",
   "execution_count": 24,
   "id": "3a96b129-e14d-42e0-9966-7b7661b699a0",
   "metadata": {
    "execution": {
     "iopub.execute_input": "2024-11-25T23:01:11.883614Z",
     "iopub.status.busy": "2024-11-25T23:01:11.883224Z",
     "iopub.status.idle": "2024-11-25T23:01:13.224080Z",
     "shell.execute_reply": "2024-11-25T23:01:13.223046Z"
    },
    "papermill": {
     "duration": 1.351935,
     "end_time": "2024-11-25T23:01:13.226059",
     "exception": false,
     "start_time": "2024-11-25T23:01:11.874124",
     "status": "completed"
    },
    "tags": []
   },
   "outputs": [
    {
     "name": "stderr",
     "output_type": "stream",
     "text": [
      "\u001b[34m\u001b[1mwandb\u001b[0m: Using wandb-core as the SDK backend. Please refer to https://wandb.me/wandb-core for more information.\n"
     ]
    },
    {
     "name": "stderr",
     "output_type": "stream",
     "text": [
      "\u001b[34m\u001b[1mwandb\u001b[0m: Currently logged in as: \u001b[33mdnicho26\u001b[0m (\u001b[33mdnicho26-university-of-north-carolina-at-charlotte\u001b[0m). Use \u001b[1m`wandb login --relogin`\u001b[0m to force relogin\n"
     ]
    },
    {
     "name": "stderr",
     "output_type": "stream",
     "text": [
      "\u001b[34m\u001b[1mwandb\u001b[0m: Tracking run with wandb version 0.18.5\n"
     ]
    },
    {
     "name": "stderr",
     "output_type": "stream",
     "text": [
      "\u001b[34m\u001b[1mwandb\u001b[0m: Run data is saved locally in \u001b[35m\u001b[1m/opt/notebooks/Chatbot-Credit-Card/wandb/run-20241125_230112-zxwdfagf\u001b[0m\n",
      "\u001b[34m\u001b[1mwandb\u001b[0m: Run \u001b[1m`wandb offline`\u001b[0m to turn off syncing.\n"
     ]
    },
    {
     "name": "stderr",
     "output_type": "stream",
     "text": [
      "\u001b[34m\u001b[1mwandb\u001b[0m: Syncing run \u001b[33mrich-disco-90\u001b[0m\n"
     ]
    },
    {
     "name": "stderr",
     "output_type": "stream",
     "text": [
      "\u001b[34m\u001b[1mwandb\u001b[0m: ⭐️ View project at \u001b[34m\u001b[4mhttps://wandb.ai/dnicho26-university-of-north-carolina-at-charlotte/Fine-tune%20Llama%203%20on%20CC%20Dataset\u001b[0m\n"
     ]
    },
    {
     "name": "stderr",
     "output_type": "stream",
     "text": [
      "\u001b[34m\u001b[1mwandb\u001b[0m: 🚀 View run at \u001b[34m\u001b[4mhttps://wandb.ai/dnicho26-university-of-north-carolina-at-charlotte/Fine-tune%20Llama%203%20on%20CC%20Dataset/runs/zxwdfagf\u001b[0m\n"
     ]
    }
   ],
   "source": [
    "run = wandb.init(\n",
    "    project='Fine-tune Llama 3 on CC Dataset', \n",
    "    job_type=\"training\", \n",
    "    anonymous=\"allow\"\n",
    ")"
   ]
  },
  {
   "cell_type": "code",
   "execution_count": 25,
   "id": "b4da285a-bb2a-4593-8bf6-5c590e32d5ae",
   "metadata": {
    "execution": {
     "iopub.execute_input": "2024-11-25T23:01:13.246088Z",
     "iopub.status.busy": "2024-11-25T23:01:13.245796Z",
     "iopub.status.idle": "2024-11-25T23:01:13.251445Z",
     "shell.execute_reply": "2024-11-25T23:01:13.250611Z"
    },
    "papermill": {
     "duration": 0.016868,
     "end_time": "2024-11-25T23:01:13.252709",
     "exception": false,
     "start_time": "2024-11-25T23:01:13.235841",
     "status": "completed"
    },
    "tags": []
   },
   "outputs": [],
   "source": [
    "def get_training_arguments(output_dir, num_epochs):\n",
    "    return TrainingArguments(\n",
    "        output_dir=output_dir,\n",
    "        per_device_train_batch_size=4,\n",
    "        per_device_eval_batch_size=4,\n",
    "        gradient_accumulation_steps=16,  # Larger effective batch size\n",
    "        optim=\"adamw_bnb_8bit\",  # Optimized optimizer\n",
    "        num_train_epochs=num_epochs,\n",
    "        eval_strategy=\"steps\",\n",
    "        eval_steps=100,  # Less frequent evaluation\n",
    "        logging_steps=100,  # Align with eval_steps\n",
    "        warmup_steps=10,\n",
    "        logging_strategy=\"steps\",\n",
    "        learning_rate=2e-4,\n",
    "        fp16=True,  # Mixed precision\n",
    "        dataloader_num_workers=8,  # Speed up data loading\n",
    "        group_by_length=True,\n",
    "        load_best_model_at_end=True,  # Ensure this is set\n",
    "        report_to=\"wandb\"\n",
    "    )"
   ]
  },
  {
   "cell_type": "code",
   "execution_count": 26,
   "id": "55bb6b51-7469-4a27-a868-cdc2deea2b87",
   "metadata": {
    "execution": {
     "iopub.execute_input": "2024-11-25T23:01:13.272211Z",
     "iopub.status.busy": "2024-11-25T23:01:13.271628Z",
     "iopub.status.idle": "2024-11-25T23:01:13.948777Z",
     "shell.execute_reply": "2024-11-25T23:01:13.947553Z"
    },
    "papermill": {
     "duration": 0.689031,
     "end_time": "2024-11-25T23:01:13.950761",
     "exception": false,
     "start_time": "2024-11-25T23:01:13.261730",
     "status": "completed"
    },
    "tags": []
   },
   "outputs": [],
   "source": [
    "def log_labels_and_inputs(batch, predictions, step):\n",
    "    \"\"\"\n",
    "    Log inputs, labels, and predictions to wandb.\n",
    "    \"\"\"\n",
    "    inputs = tokenizer.batch_decode(batch[\"input_ids\"], skip_special_tokens=True)\n",
    "    labels = tokenizer.batch_decode(batch[\"labels\"], skip_special_tokens=True)\n",
    "    preds = tokenizer.batch_decode(predictions, skip_special_tokens=True)\n",
    "    \n",
    "    for input_text, label_text, pred_text in zip(inputs, labels, preds):\n",
    "        wandb.log({\n",
    "            \"input\": input_text,\n",
    "            \"label\": label_text,\n",
    "            \"prediction\": pred_text,\n",
    "            \"step\": step,\n",
    "        })\n"
   ]
  },
  {
   "cell_type": "code",
   "execution_count": 27,
   "id": "2cd5d0ce-9f75-4e33-9830-085333cce36a",
   "metadata": {
    "execution": {
     "iopub.execute_input": "2024-11-25T23:01:13.974513Z",
     "iopub.status.busy": "2024-11-25T23:01:13.973668Z",
     "iopub.status.idle": "2024-11-25T23:01:14.040019Z",
     "shell.execute_reply": "2024-11-25T23:01:14.039011Z"
    },
    "papermill": {
     "duration": 0.079802,
     "end_time": "2024-11-25T23:01:14.041939",
     "exception": false,
     "start_time": "2024-11-25T23:01:13.962137",
     "status": "completed"
    },
    "tags": []
   },
   "outputs": [],
   "source": [
    "# Training and evaluation function\n",
    "def train_and_save_model(model, tokenizer, train_dataset, eval_dataset, peft_config, new_model_path, output_suffix, num_epochs=epochs, save_every_n_epochs=5):\n",
    "    print(f\"Continuing training for {num_epochs} epochs...\")\n",
    "    full_training_args = get_training_arguments(new_model_path + output_suffix, num_epochs)\n",
    "\n",
    "    trainer = SFTTrainer(\n",
    "        model=model,\n",
    "        train_dataset=train_dataset,\n",
    "        eval_dataset=eval_dataset,\n",
    "        peft_config=peft_config,\n",
    "        max_seq_length=512,\n",
    "        dataset_text_field=\"text\",\n",
    "        tokenizer=tokenizer,\n",
    "        args=full_training_args,\n",
    "        packing=False,\n",
    "    )\n",
    "\n",
    "    trainer.add_callback(EarlyStoppingCallback(early_stopping_patience=5))\n",
    "    trainer.add_callback(SaveEveryNEpochsCallback(save_every_n_epochs=save_every_n_epochs, output_dir=new_model_path + output_suffix))\n",
    "\n",
    "    # Custom evaluation logging\n",
    "    def evaluation_logging(trainer, eval_dataset):\n",
    "        predictions = trainer.predict(eval_dataset)\n",
    "        step = trainer.state.global_step\n",
    "        for batch in eval_dataset:  # Assuming eval_dataset is iterable\n",
    "            log_labels_and_inputs(batch, predictions, step)\n",
    "\n",
    "    # Train the model\n",
    "    trainer.train()\n",
    "\n",
    "    # Log evaluation after training\n",
    "    evaluation_logging(trainer, eval_dataset)\n",
    "\n",
    "    # Save the final trained model\n",
    "    model.save_pretrained(new_model_path + output_suffix + \"-final\")\n",
    "    tokenizer.save_pretrained(new_model_path + output_suffix + \"-final\")\n",
    "    print(f\"Final model saved at {new_model_path + output_suffix + '-final'}\")"
   ]
  },
  {
   "cell_type": "code",
   "execution_count": 28,
   "id": "b3f8dc56-298e-4c56-9c78-a7b4d8ab8234",
   "metadata": {
    "execution": {
     "iopub.execute_input": "2024-11-25T23:01:14.062610Z",
     "iopub.status.busy": "2024-11-25T23:01:14.062251Z",
     "iopub.status.idle": "2024-11-25T23:01:14.111944Z",
     "shell.execute_reply": "2024-11-25T23:01:14.110886Z"
    },
    "papermill": {
     "duration": 0.061997,
     "end_time": "2024-11-25T23:01:14.113798",
     "exception": false,
     "start_time": "2024-11-25T23:01:14.051801",
     "status": "completed"
    },
    "tags": []
   },
   "outputs": [],
   "source": [
    "import os\n",
    "os.environ[\"TOKENIZERS_PARALLELISM\"] = \"false\""
   ]
  },
  {
   "cell_type": "code",
   "execution_count": 29,
   "id": "628662d7-9884-4cd1-91a6-b98ee2ed8ef1",
   "metadata": {
    "execution": {
     "iopub.execute_input": "2024-11-25T23:01:14.135311Z",
     "iopub.status.busy": "2024-11-25T23:01:14.134295Z",
     "iopub.status.idle": "2024-11-25T23:01:14.143744Z",
     "shell.execute_reply": "2024-11-25T23:01:14.142832Z"
    },
    "papermill": {
     "duration": 0.02143,
     "end_time": "2024-11-25T23:01:14.145148",
     "exception": false,
     "start_time": "2024-11-25T23:01:14.123718",
     "status": "completed"
    },
    "tags": []
   },
   "outputs": [],
   "source": [
    "# QLoRA config\n",
    "bnb_config = BitsAndBytesConfig(\n",
    "    load_in_4bit=True,\n",
    "    bnb_4bit_quant_type=\"nf4\",\n",
    "    bnb_4bit_compute_dtype=torch_dtype,\n",
    "    bnb_4bit_use_double_quant=True,\n",
    ")\n",
    "# Modify load_model_and_tokenizer function\n",
    "def load_model_and_tokenizer(base_model_path, attn_implementation=\"default\"):\n",
    "    model = AutoModelForCausalLM.from_pretrained(\n",
    "        base_model_path,\n",
    "        quantization_config=bnb_config,\n",
    "        device_map=\"auto\",\n",
    "        attn_implementation=attn_implementation\n",
    "    )\n",
    "    tokenizer = AutoTokenizer.from_pretrained(base_model_path, trust_remote_code=True)\n",
    "    # model, tokenizer = setup_chat_format(model, tokenizer)\n",
    "    # model.resize_token_embeddings(len(tokenizer))\n",
    "    return model, tokenizer\n",
    "    \n",
    "def find_all_linear_names(model):\n",
    "    cls = bnb.nn.Linear4bit\n",
    "    lora_module_names = set()\n",
    "    for name, module in model.named_modules():\n",
    "        if isinstance(module, cls):\n",
    "            names = name.split('.')\n",
    "            lora_module_names.add(names[0] if len(names) == 1 else names[-1])\n",
    "    if 'lm_head' in lora_module_names:  # needed for 16 bit\n",
    "        lora_module_names.remove('lm_head')\n",
    "    return list(lora_module_names)\n",
    "\n",
    "# modules = find_all_linear_names(model)\n",
    "# print(modules)\n",
    "# Define LoRA config once since both models use it\n",
    "def create_lora_config(model):\n",
    "    modules = find_all_linear_names(model)\n",
    "    return LoraConfig(\n",
    "        r=16,\n",
    "        lora_alpha=32,\n",
    "        lora_dropout=0.05,\n",
    "        bias=\"none\",\n",
    "        task_type=\"CAUSAL_LM\",\n",
    "        target_modules=modules\n",
    "    )\n"
   ]
  },
  {
   "cell_type": "code",
   "execution_count": 30,
   "id": "ff2b8cee-084a-4510-96b0-ab5c64d57da7",
   "metadata": {
    "execution": {
     "iopub.execute_input": "2024-11-25T23:01:14.164743Z",
     "iopub.status.busy": "2024-11-25T23:01:14.164443Z"
    },
    "papermill": {
     "duration": 282.380299,
     "end_time": "2024-11-25T23:05:56.534721",
     "exception": false,
     "start_time": "2024-11-25T23:01:14.154422",
     "status": "completed"
    },
    "tags": []
   },
   "outputs": [
    {
     "name": "stdout",
     "output_type": "stream",
     "text": [
      "Loading Base Model...\n"
     ]
    },
    {
     "data": {
      "application/vnd.jupyter.widget-view+json": {
       "model_id": "0fc96480d69347c39ad7bf8cbf4bbf05",
       "version_major": 2,
       "version_minor": 0
      },
      "text/plain": [
       "config.json:   0%|          | 0.00/826 [00:00<?, ?B/s]"
      ]
     },
     "metadata": {},
     "output_type": "display_data"
    },
    {
     "data": {
      "application/vnd.jupyter.widget-view+json": {
       "model_id": "29333b7c99c448579a1077d7a5c62779",
       "version_major": 2,
       "version_minor": 0
      },
      "text/plain": [
       "model.safetensors.index.json:   0%|          | 0.00/23.9k [00:00<?, ?B/s]"
      ]
     },
     "metadata": {},
     "output_type": "display_data"
    },
    {
     "data": {
      "application/vnd.jupyter.widget-view+json": {
       "model_id": "374d08d1b0e04a2d84c64e74ac75e6eb",
       "version_major": 2,
       "version_minor": 0
      },
      "text/plain": [
       "Downloading shards:   0%|          | 0/4 [00:00<?, ?it/s]"
      ]
     },
     "metadata": {},
     "output_type": "display_data"
    },
    {
     "data": {
      "application/vnd.jupyter.widget-view+json": {
       "model_id": "5825e562c50d4e0ea5b6a79093eac993",
       "version_major": 2,
       "version_minor": 0
      },
      "text/plain": [
       "model-00001-of-00004.safetensors:   0%|          | 0.00/4.98G [00:00<?, ?B/s]"
      ]
     },
     "metadata": {},
     "output_type": "display_data"
    }
   ],
   "source": [
    "# Load Base Model and Tokenizer\n",
    "print(\"Loading Base Model...\")\n",
    "base_model, base_tokenizer = load_model_and_tokenizer(\n",
    "    base_model_path=base_model, \n",
    "    attn_implementation=attn_implementation\n",
    ")\n",
    "\n",
    "# Assert tokenizer and model embedding size match\n",
    "assert base_model.get_input_embeddings().weight.size(0) == len(base_tokenizer), (\n",
    "    f\"Model embedding size ({base_model.get_input_embeddings().weight.size(0)}) \"\n",
    "    f\"does not match tokenizer vocabulary size ({len(base_tokenizer)}).\"\n",
    ")\n",
    "# Define LoRA Config\n",
    "print(\"Creating LoRA Configuration...\")\n",
    "peft_config = create_lora_config(base_model) \n",
    "\n",
    "# Apply PEFT to the model\n",
    "base_model = get_peft_model(base_model, peft_config)\n",
    "base_tokenizer.pad_token = base_tokenizer.eos_token\n",
    "\n",
    "# Assert tokenizer and model embedding size match\n",
    "assert base_model.get_input_embeddings().weight.size(0) == len(base_tokenizer), (\n",
    "    f\"Model embedding size after peft ({base_model.get_input_embeddings().weight.size(0)}) \"\n",
    "    f\"does not match tokenizer vocabulary size ({len(base_tokenizer)}).\"\n",
    ")\n",
    "\n",
    "# Train Base Model on Final Dataset\n",
    "print(\"Training Base Model on Final Dataset...\")\n",
    "train_and_save_model(\n",
    "    model=base_model,\n",
    "    new_model_path=new_model,\n",
    "    tokenizer=base_tokenizer,\n",
    "    train_dataset=final_train_dataset,\n",
    "    eval_dataset=final_eval_dataset,\n",
    "    peft_config=peft_config,\n",
    "    output_suffix=\"base\",\n",
    "    num_epochs=epochs\n",
    ")"
   ]
  },
  {
   "cell_type": "code",
   "execution_count": null,
   "id": "514cfe38-f8e7-42de-915d-fc0cb407b42b",
   "metadata": {
    "papermill": {
     "duration": null,
     "end_time": null,
     "exception": null,
     "start_time": null,
     "status": "completed"
    },
    "tags": []
   },
   "outputs": [],
   "source": [
    "def test_model(model, tokenizer, input_text):\n",
    "    # Construct the prompt using the same format as in training\n",
    "    prompt = f\"Input:\\n{input_text}\\n\\nLabel:\\n\"\n",
    "\n",
    "    # Tokenize and generate response\n",
    "    inputs = tokenizer(prompt, return_tensors=\"pt\", padding=True, truncation=True).to(\"cuda\")\n",
    "    outputs = model.generate(\n",
    "        input_ids=inputs['input_ids'],\n",
    "        attention_mask=inputs.get('attention_mask'),\n",
    "        max_new_tokens=150,\n",
    "        num_return_sequences=1,\n",
    "        pad_token_id=tokenizer.eos_token_id,\n",
    "        temperature=0.8,\n",
    "        top_p=0.9,\n",
    "        repetition_penalty=1.2,\n",
    "    )\n",
    "\n",
    "    # Decode response\n",
    "    response = tokenizer.decode(outputs[0], skip_special_tokens=True)\n",
    "    # Extract the generated Label section\n",
    "    response_content = response.split(\"Label:\\n\")[-1].strip()\n",
    "    return response_content"
   ]
  },
  {
   "cell_type": "code",
   "execution_count": null,
   "id": "277bbfc4-9fa3-4eed-9c7d-c49bf67da5cc",
   "metadata": {
    "papermill": {
     "duration": null,
     "end_time": null,
     "exception": null,
     "start_time": null,
     "status": "completed"
    },
    "tags": []
   },
   "outputs": [],
   "source": [
    "# Define test prompts\n",
    "# Create an input text\n",
    "input_text = (\n",
    "    \"Gender: Male. \"\n",
    "    \"Age: 32 years old. \"\n",
    "    \"Car Ownership: Yes. \"\n",
    "    \"Property Ownership: Yes. \"\n",
    "    \"Number of Children: 0. \"\n",
    "    \"Annual Income: 427500.0. \"\n",
    "    \"Income Category: Working. \"\n",
    "    \"Education Level: Higher education. \"\n",
    "    \"Marital Status: Civil marriage. \"\n",
    "    \"Housing Type: Rented apartment. \"\n",
    "    \"Employment Duration: 12.44 years. \"\n",
    "    \"Mobile Phone: Yes. \"\n",
    "    \"Work Phone: Yes. \"\n",
    "    \"Email: No. \"\n",
    "    \"Family Size: 2.0.\"\n",
    ")"
   ]
  },
  {
   "cell_type": "code",
   "execution_count": null,
   "id": "c81a8a56-6db3-451d-95ce-cb5644f0674e",
   "metadata": {
    "papermill": {
     "duration": null,
     "end_time": null,
     "exception": null,
     "start_time": null,
     "status": "completed"
    },
    "tags": []
   },
   "outputs": [],
   "source": [
    "# Test the models\n",
    "print(\"Testing base model...\")\n",
    "base_response = test_model(base_model, base_tokenizer, messages)\n",
    "print(\"Base Model Response:\")\n",
    "print(base_response)"
   ]
  },
  {
   "cell_type": "code",
   "execution_count": null,
   "id": "bc24a096-958e-4a0f-bc87-6d3d14d0434f",
   "metadata": {
    "papermill": {
     "duration": null,
     "end_time": null,
     "exception": null,
     "start_time": null,
     "status": "completed"
    },
    "tags": []
   },
   "outputs": [],
   "source": [
    "# # Load Instruct Model\n",
    "# print(\"Loading Instruct Model...\")\n",
    "# instruct_model, instruct_tokenizer = load_model_and_tokenizer(\n",
    "#     base_model_path=\"meta-llama/Llama-3.1-8B-Instruct\",\n",
    "#     attn_implementation=attn_implementation\n",
    "\n",
    "# )\n",
    "# instruct_tokenizer.pad_token = instruct_tokenizer.eos_token\n",
    "\n",
    "# # Assert tokenizer and model embedding size match\n",
    "# assert instruct_model.get_input_embeddings().weight.size(0) == len(instruct_tokenizer), (\n",
    "#     f\"Model embedding size after peft ({instruct_model.get_input_embeddings().weight.size(0)}) \"\n",
    "#     f\"does not match tokenizer vocabulary size ({len(instruct_tokenizer)}).\"\n",
    "# )\n",
    "\n",
    "\n",
    "# peft_config = create_lora_config(instruct_model)\n",
    "\n",
    "# # Apply PEFT to the model\n",
    "# instruct_model = get_peft_model(instruct_model, peft_config)\n",
    "\n",
    "# # Train Instruct Model on random Dataset\n",
    "# print(\"Training Instruct Model on Final Dataset...\")\n",
    "# train_and_save_model(\n",
    "#     model=instruct_model,\n",
    "#     new_model_path=instruct_new_model,\n",
    "#     tokenizer=instruct_tokenizer,\n",
    "#     train_dataset=random_train_dataset,\n",
    "#     eval_dataset=random_eval_dataset,\n",
    "#     peft_config=peft_config,\n",
    "#     output_suffix=\"instruct\",\n",
    "#     num_epochs=30\n",
    "# )"
   ]
  },
  {
   "cell_type": "code",
   "execution_count": null,
   "id": "663e82bd-7442-4d87-bb5b-27ed716fbd42",
   "metadata": {
    "papermill": {
     "duration": null,
     "end_time": null,
     "exception": null,
     "start_time": null,
     "status": "completed"
    },
    "tags": []
   },
   "outputs": [],
   "source": [
    "# print(\"Testing instruct model...\")\n",
    "# instruct_response = test_model(base_model, base_tokenizer, messages)\n",
    "# print(\"Instruct Model Response:\")\n",
    "# print(instruct_response)"
   ]
  },
  {
   "cell_type": "code",
   "execution_count": null,
   "id": "6c03e05e-8238-415e-9ae7-3891c0eabd56",
   "metadata": {
    "papermill": {
     "duration": null,
     "end_time": null,
     "exception": null,
     "start_time": null,
     "status": "completed"
    },
    "tags": []
   },
   "outputs": [],
   "source": [
    "# Close WandB session\n",
    "wandb.finish()"
   ]
  },
  {
   "cell_type": "code",
   "execution_count": null,
   "id": "00bfd4b8-02e8-4e74-8613-59934f551218",
   "metadata": {
    "papermill": {
     "duration": null,
     "end_time": null,
     "exception": null,
     "start_time": null,
     "status": "completed"
    },
    "tags": []
   },
   "outputs": [],
   "source": []
  }
 ],
 "metadata": {
  "kernelspec": {
   "display_name": "Python (CC-Chatbot)",
   "language": "python",
   "name": "cc-chatbot"
  },
  "language_info": {
   "codemirror_mode": {
    "name": "ipython",
    "version": 3
   },
   "file_extension": ".py",
   "mimetype": "text/x-python",
   "name": "python",
   "nbconvert_exporter": "python",
   "pygments_lexer": "ipython3",
   "version": "3.12.7"
  },
  "papermill": {
   "default_parameters": {},
   "duration": 302.430061,
   "end_time": "2024-11-25T23:05:56.633721",
   "environment_variables": {},
   "exception": null,
   "input_path": "/opt/notebooks/Chatbot-Credit-Card/backend/notebooks/llama.ipynb",
   "output_path": "/opt/notebooks/Chatbot-Credit-Card/backend/notebooks/outputs/llama-output.ipynb",
   "parameters": {},
   "start_time": "2024-11-25T23:00:54.203660",
   "version": "2.6.0"
  }
 },
 "nbformat": 4,
 "nbformat_minor": 5
}