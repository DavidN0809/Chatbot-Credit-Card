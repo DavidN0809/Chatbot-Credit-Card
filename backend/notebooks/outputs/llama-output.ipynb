{
 "cells": [
  {
   "cell_type": "code",
   "execution_count": 1,
   "id": "666d56dd-a534-4907-8c32-e3d94ab3b5a0",
   "metadata": {
    "execution": {
     "iopub.execute_input": "2024-11-28T15:14:05.100318Z",
     "iopub.status.busy": "2024-11-28T15:14:05.099879Z",
     "iopub.status.idle": "2024-11-28T15:14:12.871341Z",
     "shell.execute_reply": "2024-11-28T15:14:12.870046Z"
    },
    "papermill": {
     "duration": 7.781484,
     "end_time": "2024-11-28T15:14:12.873989",
     "exception": false,
     "start_time": "2024-11-28T15:14:05.092505",
     "status": "completed"
    },
    "tags": []
   },
   "outputs": [],
   "source": [
    "import os\n",
    "import torch\n",
    "import wandb\n",
    "import numpy as np\n",
    "import pandas as pd\n",
    "import warnings\n",
    "import random\n",
    "import re\n",
    "\n",
    "from accelerate import infer_auto_device_map\n",
    "from peft import prepare_model_for_kbit_training\n",
    "\n",
    "from transformers import (\n",
    "    AutoModelForCausalLM,\n",
    "    AutoTokenizer,\n",
    "    BitsAndBytesConfig,\n",
    "    HfArgumentParser,\n",
    "    TrainingArguments,\n",
    "    pipeline,\n",
    "    logging,\n",
    "    TrainerCallback,\n",
    "    EarlyStoppingCallback,\n",
    "    TrainerState,\n",
    "    TrainerControl,\n",
    ")\n",
    "from datasets import load_dataset, Dataset\n",
    "from trl import SFTTrainer, setup_chat_format\n",
    "from peft import (\n",
    "    LoraConfig,\n",
    "    PeftModel,\n",
    "    prepare_model_for_kbit_training,\n",
    "    get_peft_model,\n",
    ")\n",
    "import bitsandbytes as bnb\n",
    "from sklearn.metrics import (accuracy_score, \n",
    "                             classification_report, \n",
    "                             confusion_matrix)"
   ]
  },
  {
   "cell_type": "code",
   "execution_count": 2,
   "id": "ae67b3f7-d781-4d5c-a92c-dbf4bbdf463b",
   "metadata": {
    "execution": {
     "iopub.execute_input": "2024-11-28T15:14:12.888759Z",
     "iopub.status.busy": "2024-11-28T15:14:12.887969Z",
     "iopub.status.idle": "2024-11-28T15:14:12.893816Z",
     "shell.execute_reply": "2024-11-28T15:14:12.892341Z"
    },
    "papermill": {
     "duration": 0.014521,
     "end_time": "2024-11-28T15:14:12.895935",
     "exception": false,
     "start_time": "2024-11-28T15:14:12.881414",
     "status": "completed"
    },
    "tags": []
   },
   "outputs": [],
   "source": [
    "# huggingface-cli login --token key   \n",
    "# wandb login --relogin key"
   ]
  },
  {
   "cell_type": "code",
   "execution_count": 3,
   "id": "7c44e03d-c5a3-4d95-9fe1-b32659ffeeb3",
   "metadata": {
    "execution": {
     "iopub.execute_input": "2024-11-28T15:14:12.908586Z",
     "iopub.status.busy": "2024-11-28T15:14:12.908246Z",
     "iopub.status.idle": "2024-11-28T15:14:14.738819Z",
     "shell.execute_reply": "2024-11-28T15:14:14.737798Z"
    },
    "papermill": {
     "duration": 1.83933,
     "end_time": "2024-11-28T15:14:14.740561",
     "exception": false,
     "start_time": "2024-11-28T15:14:12.901231",
     "status": "completed"
    },
    "tags": []
   },
   "outputs": [
    {
     "name": "stdout",
     "output_type": "stream",
     "text": [
      "Datasets loaded and merged successfully.\n"
     ]
    },
    {
     "name": "stdout",
     "output_type": "stream",
     "text": [
      "Approval status merged successfully.\n",
      "Preprocessing completed successfully.\n"
     ]
    },
    {
     "data": {
      "text/html": [
       "<div>\n",
       "<style scoped>\n",
       "    .dataframe tbody tr th:only-of-type {\n",
       "        vertical-align: middle;\n",
       "    }\n",
       "\n",
       "    .dataframe tbody tr th {\n",
       "        vertical-align: top;\n",
       "    }\n",
       "\n",
       "    .dataframe thead th {\n",
       "        text-align: right;\n",
       "    }\n",
       "</style>\n",
       "<table border=\"1\" class=\"dataframe\">\n",
       "  <thead>\n",
       "    <tr style=\"text-align: right;\">\n",
       "      <th></th>\n",
       "      <th>Gender</th>\n",
       "      <th>Car Ownership</th>\n",
       "      <th>Property Ownership</th>\n",
       "      <th>Number of Children</th>\n",
       "      <th>Annual Income</th>\n",
       "      <th>Income Category</th>\n",
       "      <th>Education Level</th>\n",
       "      <th>Marital Status</th>\n",
       "      <th>Housing Type</th>\n",
       "      <th>Age (Days)</th>\n",
       "      <th>Employment Duration (Days)</th>\n",
       "      <th>Mobile Phone</th>\n",
       "      <th>Work Phone</th>\n",
       "      <th>Phone</th>\n",
       "      <th>Email</th>\n",
       "      <th>Occupation</th>\n",
       "      <th>Family Size</th>\n",
       "      <th>Approved</th>\n",
       "    </tr>\n",
       "  </thead>\n",
       "  <tbody>\n",
       "    <tr>\n",
       "      <th>0</th>\n",
       "      <td>M</td>\n",
       "      <td>Y</td>\n",
       "      <td>Y</td>\n",
       "      <td>0</td>\n",
       "      <td>427500.0</td>\n",
       "      <td>Working</td>\n",
       "      <td>Higher education</td>\n",
       "      <td>Civil marriage</td>\n",
       "      <td>Rented apartment</td>\n",
       "      <td>32</td>\n",
       "      <td>4542.0</td>\n",
       "      <td>1.0</td>\n",
       "      <td>1.0</td>\n",
       "      <td>0.0</td>\n",
       "      <td>0.0</td>\n",
       "      <td>NaN</td>\n",
       "      <td>2.0</td>\n",
       "      <td>1</td>\n",
       "    </tr>\n",
       "    <tr>\n",
       "      <th>1</th>\n",
       "      <td>M</td>\n",
       "      <td>Y</td>\n",
       "      <td>Y</td>\n",
       "      <td>0</td>\n",
       "      <td>427500.0</td>\n",
       "      <td>Working</td>\n",
       "      <td>Higher education</td>\n",
       "      <td>Civil marriage</td>\n",
       "      <td>Rented apartment</td>\n",
       "      <td>32</td>\n",
       "      <td>4542.0</td>\n",
       "      <td>1.0</td>\n",
       "      <td>1.0</td>\n",
       "      <td>0.0</td>\n",
       "      <td>0.0</td>\n",
       "      <td>NaN</td>\n",
       "      <td>2.0</td>\n",
       "      <td>1</td>\n",
       "    </tr>\n",
       "    <tr>\n",
       "      <th>2</th>\n",
       "      <td>M</td>\n",
       "      <td>Y</td>\n",
       "      <td>Y</td>\n",
       "      <td>0</td>\n",
       "      <td>112500.0</td>\n",
       "      <td>Working</td>\n",
       "      <td>Secondary / secondary special</td>\n",
       "      <td>Married</td>\n",
       "      <td>House / apartment</td>\n",
       "      <td>58</td>\n",
       "      <td>1134.0</td>\n",
       "      <td>1.0</td>\n",
       "      <td>0.0</td>\n",
       "      <td>0.0</td>\n",
       "      <td>0.0</td>\n",
       "      <td>Security staff</td>\n",
       "      <td>2.0</td>\n",
       "      <td>1</td>\n",
       "    </tr>\n",
       "    <tr>\n",
       "      <th>3</th>\n",
       "      <td>F</td>\n",
       "      <td>N</td>\n",
       "      <td>Y</td>\n",
       "      <td>0</td>\n",
       "      <td>270000.0</td>\n",
       "      <td>Commercial associate</td>\n",
       "      <td>Secondary / secondary special</td>\n",
       "      <td>Single / not married</td>\n",
       "      <td>House / apartment</td>\n",
       "      <td>52</td>\n",
       "      <td>3051.0</td>\n",
       "      <td>1.0</td>\n",
       "      <td>0.0</td>\n",
       "      <td>1.0</td>\n",
       "      <td>1.0</td>\n",
       "      <td>Sales staff</td>\n",
       "      <td>1.0</td>\n",
       "      <td>1</td>\n",
       "    </tr>\n",
       "    <tr>\n",
       "      <th>4</th>\n",
       "      <td>F</td>\n",
       "      <td>N</td>\n",
       "      <td>Y</td>\n",
       "      <td>0</td>\n",
       "      <td>270000.0</td>\n",
       "      <td>Commercial associate</td>\n",
       "      <td>Secondary / secondary special</td>\n",
       "      <td>Single / not married</td>\n",
       "      <td>House / apartment</td>\n",
       "      <td>52</td>\n",
       "      <td>3051.0</td>\n",
       "      <td>1.0</td>\n",
       "      <td>0.0</td>\n",
       "      <td>1.0</td>\n",
       "      <td>1.0</td>\n",
       "      <td>Sales staff</td>\n",
       "      <td>1.0</td>\n",
       "      <td>1</td>\n",
       "    </tr>\n",
       "  </tbody>\n",
       "</table>\n",
       "</div>"
      ],
      "text/plain": [
       "  Gender Car Ownership Property Ownership  Number of Children  Annual Income  \\\n",
       "0      M             Y                  Y                   0       427500.0   \n",
       "1      M             Y                  Y                   0       427500.0   \n",
       "2      M             Y                  Y                   0       112500.0   \n",
       "3      F             N                  Y                   0       270000.0   \n",
       "4      F             N                  Y                   0       270000.0   \n",
       "\n",
       "        Income Category                Education Level        Marital Status  \\\n",
       "0               Working               Higher education        Civil marriage   \n",
       "1               Working               Higher education        Civil marriage   \n",
       "2               Working  Secondary / secondary special               Married   \n",
       "3  Commercial associate  Secondary / secondary special  Single / not married   \n",
       "4  Commercial associate  Secondary / secondary special  Single / not married   \n",
       "\n",
       "        Housing Type  Age (Days)  Employment Duration (Days)  Mobile Phone  \\\n",
       "0   Rented apartment          32                      4542.0           1.0   \n",
       "1   Rented apartment          32                      4542.0           1.0   \n",
       "2  House / apartment          58                      1134.0           1.0   \n",
       "3  House / apartment          52                      3051.0           1.0   \n",
       "4  House / apartment          52                      3051.0           1.0   \n",
       "\n",
       "   Work Phone  Phone  Email      Occupation  Family Size  Approved  \n",
       "0         1.0    0.0    0.0             NaN          2.0         1  \n",
       "1         1.0    0.0    0.0             NaN          2.0         1  \n",
       "2         0.0    0.0    0.0  Security staff          2.0         1  \n",
       "3         0.0    1.0    1.0     Sales staff          1.0         1  \n",
       "4         0.0    1.0    1.0     Sales staff          1.0         1  "
      ]
     },
     "execution_count": 3,
     "metadata": {},
     "output_type": "execute_result"
    }
   ],
   "source": [
    "warnings.filterwarnings(\"ignore\")\n",
    "#https://www.kaggle.com/datasets/rikdifos/credit-card-approval-prediction\n",
    "# Load the application_record dataset\n",
    "data = pd.read_csv(\"/opt/notebooks/Chatbot-Credit-Card/backend/dataset/credit-card-approval/application_record.csv\")\n",
    "# Load the credit_record dataset\n",
    "record = pd.read_csv(\"/opt/notebooks/Chatbot-Credit-Card/backend/dataset/credit-card-approval/credit_record.csv\")\n",
    "# Find the first account open month for each user\n",
    "begin_month = record.loc[record.groupby(\"ID\")[\"MONTHS_BALANCE\"].idxmin()]\n",
    "begin_month = begin_month.rename(columns={\"MONTHS_BALANCE\": \"begin_month\"})\n",
    "\n",
    "# Merge the datasets\n",
    "df = pd.merge(data, begin_month, how=\"left\", on=\"ID\")\n",
    "print(\"Datasets loaded and merged successfully.\")\n",
    "# Define approval logic based on multiple criteria\n",
    "def determine_approval(row):\n",
    "    # Define custom approval logic\n",
    "    if row[\"STATUS\"] in [\"0\", \"1\", \"C\", \"X\"]:  # Good credit status\n",
    "            return 1  # Approved\n",
    "    return 0  # Default to denial if STATUS is bad or missing\n",
    "\n",
    "# Apply logic to determine approval (filling missing STATUS values first)\n",
    "record[\"STATUS\"] = record[\"STATUS\"].fillna(\"X\")  # Handle missing values\n",
    "record[\"Approved\"] = record.apply(determine_approval, axis=1)\n",
    "# Aggregate approval status for each ID (disapproval if any ID has disqualifying criteria)\n",
    "approval_status = record.groupby(\"ID\")[\"Approved\"].min().reset_index()\n",
    "# Merge approval status back into the main dataset, avoiding \"_x\" and \"_y\" columns\n",
    "df = pd.merge(data, approval_status, how=\"left\", on=\"ID\")\n",
    "df[\"Approved\"] = df[\"Approved\"].fillna(0).astype(int)  # Fill missing approvals as denial\n",
    "print(\"Approval status merged successfully.\")\n",
    "# Preprocess the 'DAYS_BIRTH' column to convert days to years\n",
    "df['DAYS_BIRTH'] = (-df['DAYS_BIRTH'] // 365).fillna(0).astype(int)\n",
    "df.drop(columns=['ID'], inplace=True)\n",
    "# Preprocess the 'DAYS_EMPLOYED' column to get absolute values and handle unemployment\n",
    "df['DAYS_EMPLOYED'] = df['DAYS_EMPLOYED'].apply(lambda x: abs(x) if x < 0 else 0)\n",
    "# Handle missing or infinite values in numerical columns\n",
    "numerical_cols = df.select_dtypes(include=['int64', 'float64']).columns\n",
    "df[numerical_cols] = df[numerical_cols].replace([np.inf, -np.inf], np.nan)  # Replace infinities with NaN\n",
    "df[numerical_cols] = df[numerical_cols].fillna(df[numerical_cols].median())  # Fill NaN with median values\n",
    "print(\"Preprocessing completed successfully.\")\n",
    "\n",
    "# Define the feature mapping dictionary\n",
    "feature_mapping = {\n",
    "    'CODE_GENDER': 'Gender',\n",
    "    'FLAG_OWN_CAR': 'Car Ownership',\n",
    "    'FLAG_OWN_REALTY': 'Property Ownership',\n",
    "    'CNT_CHILDREN': 'Number of Children',\n",
    "    'AMT_INCOME_TOTAL': 'Annual Income',\n",
    "    'NAME_INCOME_TYPE': 'Income Category',\n",
    "    'NAME_EDUCATION_TYPE': 'Education Level',\n",
    "    'NAME_FAMILY_STATUS': 'Marital Status',\n",
    "    'NAME_HOUSING_TYPE': 'Housing Type',\n",
    "    'DAYS_BIRTH': 'Age (Days)',\n",
    "    'DAYS_EMPLOYED': 'Employment Duration (Days)',\n",
    "    'FLAG_MOBIL': 'Mobile Phone',\n",
    "    'FLAG_WORK_PHONE': 'Work Phone',\n",
    "    'FLAG_PHONE': 'Phone',\n",
    "    'FLAG_EMAIL': 'Email',\n",
    "    'OCCUPATION_TYPE': 'Occupation',\n",
    "    'CNT_FAM_MEMBERS': 'Family Size',\n",
    "    'STATUS': 'Credit Status'\n",
    "}\n",
    "\n",
    "# Rename the columns in the DataFrame using the mapping\n",
    "df.rename(columns=feature_mapping, inplace=True)\n",
    "\n",
    "# Display the first few rows to confirm the changes\n",
    "df.head()\n",
    "df.rename(columns={'TARGET': 'Approved'}, inplace=True)\n",
    "# Display the first few rows to confirm the change\n",
    "df.head()"
   ]
  },
  {
   "cell_type": "code",
   "execution_count": 4,
   "id": "06c9fc4d-7637-4dc9-b335-5733a304c594",
   "metadata": {
    "execution": {
     "iopub.execute_input": "2024-11-28T15:14:14.753812Z",
     "iopub.status.busy": "2024-11-28T15:14:14.753389Z",
     "iopub.status.idle": "2024-11-28T15:14:14.778640Z",
     "shell.execute_reply": "2024-11-28T15:14:14.777610Z"
    },
    "papermill": {
     "duration": 0.033451,
     "end_time": "2024-11-28T15:14:14.780365",
     "exception": false,
     "start_time": "2024-11-28T15:14:14.746914",
     "status": "completed"
    },
    "tags": []
   },
   "outputs": [
    {
     "data": {
      "text/html": [
       "<div>\n",
       "<style scoped>\n",
       "    .dataframe tbody tr th:only-of-type {\n",
       "        vertical-align: middle;\n",
       "    }\n",
       "\n",
       "    .dataframe tbody tr th {\n",
       "        vertical-align: top;\n",
       "    }\n",
       "\n",
       "    .dataframe thead th {\n",
       "        text-align: right;\n",
       "    }\n",
       "</style>\n",
       "<table border=\"1\" class=\"dataframe\">\n",
       "  <thead>\n",
       "    <tr style=\"text-align: right;\">\n",
       "      <th></th>\n",
       "      <th>Prediction</th>\n",
       "      <th>Actual</th>\n",
       "      <th>Explanation</th>\n",
       "    </tr>\n",
       "  </thead>\n",
       "  <tbody>\n",
       "    <tr>\n",
       "      <th>0</th>\n",
       "      <td>Approved</td>\n",
       "      <td>Approved</td>\n",
       "      <td>This application was approved due to Employmen...</td>\n",
       "    </tr>\n",
       "    <tr>\n",
       "      <th>1</th>\n",
       "      <td>Approved</td>\n",
       "      <td>Approved</td>\n",
       "      <td>This application was approved due to Employmen...</td>\n",
       "    </tr>\n",
       "    <tr>\n",
       "      <th>2</th>\n",
       "      <td>Approved</td>\n",
       "      <td>Approved</td>\n",
       "      <td>This application was approved due to -0.77, Ma...</td>\n",
       "    </tr>\n",
       "    <tr>\n",
       "      <th>3</th>\n",
       "      <td>Approved</td>\n",
       "      <td>Approved</td>\n",
       "      <td>This application was approved due to Email, -0...</td>\n",
       "    </tr>\n",
       "    <tr>\n",
       "      <th>4</th>\n",
       "      <td>Denied</td>\n",
       "      <td>Approved</td>\n",
       "      <td>This application was denied due to -1.62, Emai...</td>\n",
       "    </tr>\n",
       "  </tbody>\n",
       "</table>\n",
       "</div>"
      ],
      "text/plain": [
       "  Prediction    Actual                                        Explanation\n",
       "0   Approved  Approved  This application was approved due to Employmen...\n",
       "1   Approved  Approved  This application was approved due to Employmen...\n",
       "2   Approved  Approved  This application was approved due to -0.77, Ma...\n",
       "3   Approved  Approved  This application was approved due to Email, -0...\n",
       "4     Denied  Approved  This application was denied due to -1.62, Emai..."
      ]
     },
     "execution_count": 4,
     "metadata": {},
     "output_type": "execute_result"
    }
   ],
   "source": [
    "explanation_df = pd.read_csv('/opt/notebooks/Chatbot-Credit-Card/backend/dataset/explanations_df.csv')\n",
    "# explanation_df.drop(['Approved','Explanation'], axis=1, inplace=True)\n",
    "explanation_df.head()"
   ]
  },
  {
   "cell_type": "code",
   "execution_count": 5,
   "id": "2540947f-ff72-40c0-8d27-7f310edb9a81",
   "metadata": {
    "execution": {
     "iopub.execute_input": "2024-11-28T15:14:14.794844Z",
     "iopub.status.busy": "2024-11-28T15:14:14.794449Z",
     "iopub.status.idle": "2024-11-28T15:14:14.800762Z",
     "shell.execute_reply": "2024-11-28T15:14:14.799698Z"
    },
    "papermill": {
     "duration": 0.015513,
     "end_time": "2024-11-28T15:14:14.802531",
     "exception": false,
     "start_time": "2024-11-28T15:14:14.787018",
     "status": "completed"
    },
    "tags": []
   },
   "outputs": [
    {
     "name": "stdout",
     "output_type": "stream",
     "text": [
      "This application was approved due to Employment Duration (Days), Housing Type, -0.77, Marital Status, Work Phone, -0.15, Number of Children, -0.81, Family Size, Annual Income.\n"
     ]
    }
   ],
   "source": [
    "print(explanation_df['Explanation'].iloc[0])"
   ]
  },
  {
   "cell_type": "code",
   "execution_count": 6,
   "id": "b55a4c06-ecdb-437b-9a1f-d89d653d9b49",
   "metadata": {
    "execution": {
     "iopub.execute_input": "2024-11-28T15:14:14.817126Z",
     "iopub.status.busy": "2024-11-28T15:14:14.816650Z",
     "iopub.status.idle": "2024-11-28T15:14:14.918651Z",
     "shell.execute_reply": "2024-11-28T15:14:14.917502Z"
    },
    "papermill": {
     "duration": 0.110747,
     "end_time": "2024-11-28T15:14:14.920315",
     "exception": false,
     "start_time": "2024-11-28T15:14:14.809568",
     "status": "completed"
    },
    "tags": []
   },
   "outputs": [],
   "source": [
    "# Function to remove numbers and clean the Explanation column\n",
    "def clean_explanation(text):\n",
    "    return re.sub(r'[-+]?\\d*\\.\\d+|\\d+', '', text).replace(', ,', ',').replace(' ,', ',').strip(\", \")\n",
    "\n",
    "# Apply the cleaning function to the Explanation column\n",
    "explanation_df[\"Explanation\"] = explanation_df[\"Explanation\"].apply(clean_explanation)"
   ]
  },
  {
   "cell_type": "code",
   "execution_count": 7,
   "id": "3809e3a1-e7af-4f16-964f-39ceee20d7af",
   "metadata": {
    "execution": {
     "iopub.execute_input": "2024-11-28T15:14:14.933443Z",
     "iopub.status.busy": "2024-11-28T15:14:14.933136Z",
     "iopub.status.idle": "2024-11-28T15:14:14.943973Z",
     "shell.execute_reply": "2024-11-28T15:14:14.942941Z"
    },
    "papermill": {
     "duration": 0.019432,
     "end_time": "2024-11-28T15:14:14.945799",
     "exception": false,
     "start_time": "2024-11-28T15:14:14.926367",
     "status": "completed"
    },
    "tags": []
   },
   "outputs": [
    {
     "name": "stdout",
     "output_type": "stream",
     "text": [
      "This application was approved due to Employment Duration (Days), Housing Type, Marital Status, Work Phone, Number of Children, Family Size, Annual Income.\n"
     ]
    },
    {
     "data": {
      "text/html": [
       "<div>\n",
       "<style scoped>\n",
       "    .dataframe tbody tr th:only-of-type {\n",
       "        vertical-align: middle;\n",
       "    }\n",
       "\n",
       "    .dataframe tbody tr th {\n",
       "        vertical-align: top;\n",
       "    }\n",
       "\n",
       "    .dataframe thead th {\n",
       "        text-align: right;\n",
       "    }\n",
       "</style>\n",
       "<table border=\"1\" class=\"dataframe\">\n",
       "  <thead>\n",
       "    <tr style=\"text-align: right;\">\n",
       "      <th></th>\n",
       "      <th>Prediction</th>\n",
       "      <th>Actual</th>\n",
       "      <th>Explanation</th>\n",
       "    </tr>\n",
       "  </thead>\n",
       "  <tbody>\n",
       "    <tr>\n",
       "      <th>0</th>\n",
       "      <td>Approved</td>\n",
       "      <td>Approved</td>\n",
       "      <td>This application was approved due to Employmen...</td>\n",
       "    </tr>\n",
       "    <tr>\n",
       "      <th>1</th>\n",
       "      <td>Approved</td>\n",
       "      <td>Approved</td>\n",
       "      <td>This application was approved due to Employmen...</td>\n",
       "    </tr>\n",
       "    <tr>\n",
       "      <th>2</th>\n",
       "      <td>Approved</td>\n",
       "      <td>Approved</td>\n",
       "      <td>This application was approved due to, Marital ...</td>\n",
       "    </tr>\n",
       "    <tr>\n",
       "      <th>3</th>\n",
       "      <td>Approved</td>\n",
       "      <td>Approved</td>\n",
       "      <td>This application was approved due to Email, Nu...</td>\n",
       "    </tr>\n",
       "    <tr>\n",
       "      <th>4</th>\n",
       "      <td>Denied</td>\n",
       "      <td>Approved</td>\n",
       "      <td>This application was denied due to, Email, Hou...</td>\n",
       "    </tr>\n",
       "  </tbody>\n",
       "</table>\n",
       "</div>"
      ],
      "text/plain": [
       "  Prediction    Actual                                        Explanation\n",
       "0   Approved  Approved  This application was approved due to Employmen...\n",
       "1   Approved  Approved  This application was approved due to Employmen...\n",
       "2   Approved  Approved  This application was approved due to, Marital ...\n",
       "3   Approved  Approved  This application was approved due to Email, Nu...\n",
       "4     Denied  Approved  This application was denied due to, Email, Hou..."
      ]
     },
     "execution_count": 7,
     "metadata": {},
     "output_type": "execute_result"
    }
   ],
   "source": [
    "# Display the DataFrame with the cleaned Explanation column\n",
    "print(explanation_df['Explanation'].iloc[0])\n",
    "explanation_df.head()"
   ]
  },
  {
   "cell_type": "code",
   "execution_count": 8,
   "id": "e7f1cb95-f0a3-44d5-8df2-64849a0c0d32",
   "metadata": {
    "execution": {
     "iopub.execute_input": "2024-11-28T15:14:14.958426Z",
     "iopub.status.busy": "2024-11-28T15:14:14.958120Z",
     "iopub.status.idle": "2024-11-28T15:14:14.967219Z",
     "shell.execute_reply": "2024-11-28T15:14:14.966149Z"
    },
    "papermill": {
     "duration": 0.017019,
     "end_time": "2024-11-28T15:14:14.968655",
     "exception": false,
     "start_time": "2024-11-28T15:14:14.951636",
     "status": "completed"
    },
    "tags": []
   },
   "outputs": [],
   "source": [
    "# df.rename(columns={'Age (Days)': 'Age (Years)'}, inplace=True)\n",
    "df.rename(columns={'Employment Duration' : 'Employment Duration (Days)'}, inplace=True)\n",
    "df['Age (Days)'] = df['Age (Days)'].astype(str) + \" years old\""
   ]
  },
  {
   "cell_type": "code",
   "execution_count": 9,
   "id": "56ecd81d-edae-4d65-be32-13503fe03ae5",
   "metadata": {
    "execution": {
     "iopub.execute_input": "2024-11-28T15:14:14.982723Z",
     "iopub.status.busy": "2024-11-28T15:14:14.982359Z",
     "iopub.status.idle": "2024-11-28T15:14:15.009411Z",
     "shell.execute_reply": "2024-11-28T15:14:15.008315Z"
    },
    "papermill": {
     "duration": 0.035764,
     "end_time": "2024-11-28T15:14:15.011056",
     "exception": false,
     "start_time": "2024-11-28T15:14:14.975292",
     "status": "completed"
    },
    "tags": []
   },
   "outputs": [
    {
     "name": "stdout",
     "output_type": "stream",
     "text": [
      "This application was approved due to Employment Duration (Days), Housing Type, Marital Status, Work Phone, Number of Children, Family Size, Annual Income.\n"
     ]
    },
    {
     "data": {
      "text/html": [
       "<div>\n",
       "<style scoped>\n",
       "    .dataframe tbody tr th:only-of-type {\n",
       "        vertical-align: middle;\n",
       "    }\n",
       "\n",
       "    .dataframe tbody tr th {\n",
       "        vertical-align: top;\n",
       "    }\n",
       "\n",
       "    .dataframe thead th {\n",
       "        text-align: right;\n",
       "    }\n",
       "</style>\n",
       "<table border=\"1\" class=\"dataframe\">\n",
       "  <thead>\n",
       "    <tr style=\"text-align: right;\">\n",
       "      <th></th>\n",
       "      <th>Gender</th>\n",
       "      <th>Car Ownership</th>\n",
       "      <th>Property Ownership</th>\n",
       "      <th>Number of Children</th>\n",
       "      <th>Annual Income</th>\n",
       "      <th>Income Category</th>\n",
       "      <th>Education Level</th>\n",
       "      <th>Marital Status</th>\n",
       "      <th>Housing Type</th>\n",
       "      <th>Age (Days)</th>\n",
       "      <th>Employment Duration (Days)</th>\n",
       "      <th>Mobile Phone</th>\n",
       "      <th>Work Phone</th>\n",
       "      <th>Phone</th>\n",
       "      <th>Email</th>\n",
       "      <th>Occupation</th>\n",
       "      <th>Family Size</th>\n",
       "      <th>Approved</th>\n",
       "      <th>Reason</th>\n",
       "    </tr>\n",
       "  </thead>\n",
       "  <tbody>\n",
       "    <tr>\n",
       "      <th>0</th>\n",
       "      <td>M</td>\n",
       "      <td>Y</td>\n",
       "      <td>Y</td>\n",
       "      <td>0</td>\n",
       "      <td>427500.0</td>\n",
       "      <td>Working</td>\n",
       "      <td>Higher education</td>\n",
       "      <td>Civil marriage</td>\n",
       "      <td>Rented apartment</td>\n",
       "      <td>32 years old</td>\n",
       "      <td>4542.0</td>\n",
       "      <td>1.0</td>\n",
       "      <td>1.0</td>\n",
       "      <td>0.0</td>\n",
       "      <td>0.0</td>\n",
       "      <td>NaN</td>\n",
       "      <td>2.0</td>\n",
       "      <td>1</td>\n",
       "      <td>This application was approved due to Employmen...</td>\n",
       "    </tr>\n",
       "    <tr>\n",
       "      <th>1</th>\n",
       "      <td>M</td>\n",
       "      <td>Y</td>\n",
       "      <td>Y</td>\n",
       "      <td>0</td>\n",
       "      <td>427500.0</td>\n",
       "      <td>Working</td>\n",
       "      <td>Higher education</td>\n",
       "      <td>Civil marriage</td>\n",
       "      <td>Rented apartment</td>\n",
       "      <td>32 years old</td>\n",
       "      <td>4542.0</td>\n",
       "      <td>1.0</td>\n",
       "      <td>1.0</td>\n",
       "      <td>0.0</td>\n",
       "      <td>0.0</td>\n",
       "      <td>NaN</td>\n",
       "      <td>2.0</td>\n",
       "      <td>1</td>\n",
       "      <td>This application was approved due to Employmen...</td>\n",
       "    </tr>\n",
       "    <tr>\n",
       "      <th>2</th>\n",
       "      <td>M</td>\n",
       "      <td>Y</td>\n",
       "      <td>Y</td>\n",
       "      <td>0</td>\n",
       "      <td>112500.0</td>\n",
       "      <td>Working</td>\n",
       "      <td>Secondary / secondary special</td>\n",
       "      <td>Married</td>\n",
       "      <td>House / apartment</td>\n",
       "      <td>58 years old</td>\n",
       "      <td>1134.0</td>\n",
       "      <td>1.0</td>\n",
       "      <td>0.0</td>\n",
       "      <td>0.0</td>\n",
       "      <td>0.0</td>\n",
       "      <td>Security staff</td>\n",
       "      <td>2.0</td>\n",
       "      <td>1</td>\n",
       "      <td>This application was approved due to, Marital ...</td>\n",
       "    </tr>\n",
       "    <tr>\n",
       "      <th>3</th>\n",
       "      <td>F</td>\n",
       "      <td>N</td>\n",
       "      <td>Y</td>\n",
       "      <td>0</td>\n",
       "      <td>270000.0</td>\n",
       "      <td>Commercial associate</td>\n",
       "      <td>Secondary / secondary special</td>\n",
       "      <td>Single / not married</td>\n",
       "      <td>House / apartment</td>\n",
       "      <td>52 years old</td>\n",
       "      <td>3051.0</td>\n",
       "      <td>1.0</td>\n",
       "      <td>0.0</td>\n",
       "      <td>1.0</td>\n",
       "      <td>1.0</td>\n",
       "      <td>Sales staff</td>\n",
       "      <td>1.0</td>\n",
       "      <td>1</td>\n",
       "      <td>This application was approved due to Email, Nu...</td>\n",
       "    </tr>\n",
       "    <tr>\n",
       "      <th>4</th>\n",
       "      <td>F</td>\n",
       "      <td>N</td>\n",
       "      <td>Y</td>\n",
       "      <td>0</td>\n",
       "      <td>270000.0</td>\n",
       "      <td>Commercial associate</td>\n",
       "      <td>Secondary / secondary special</td>\n",
       "      <td>Single / not married</td>\n",
       "      <td>House / apartment</td>\n",
       "      <td>52 years old</td>\n",
       "      <td>3051.0</td>\n",
       "      <td>1.0</td>\n",
       "      <td>0.0</td>\n",
       "      <td>1.0</td>\n",
       "      <td>1.0</td>\n",
       "      <td>Sales staff</td>\n",
       "      <td>1.0</td>\n",
       "      <td>1</td>\n",
       "      <td>This application was denied due to, Email, Hou...</td>\n",
       "    </tr>\n",
       "  </tbody>\n",
       "</table>\n",
       "</div>"
      ],
      "text/plain": [
       "  Gender Car Ownership Property Ownership  Number of Children  Annual Income  \\\n",
       "0      M             Y                  Y                   0       427500.0   \n",
       "1      M             Y                  Y                   0       427500.0   \n",
       "2      M             Y                  Y                   0       112500.0   \n",
       "3      F             N                  Y                   0       270000.0   \n",
       "4      F             N                  Y                   0       270000.0   \n",
       "\n",
       "        Income Category                Education Level        Marital Status  \\\n",
       "0               Working               Higher education        Civil marriage   \n",
       "1               Working               Higher education        Civil marriage   \n",
       "2               Working  Secondary / secondary special               Married   \n",
       "3  Commercial associate  Secondary / secondary special  Single / not married   \n",
       "4  Commercial associate  Secondary / secondary special  Single / not married   \n",
       "\n",
       "        Housing Type    Age (Days)  Employment Duration (Days)  Mobile Phone  \\\n",
       "0   Rented apartment  32 years old                      4542.0           1.0   \n",
       "1   Rented apartment  32 years old                      4542.0           1.0   \n",
       "2  House / apartment  58 years old                      1134.0           1.0   \n",
       "3  House / apartment  52 years old                      3051.0           1.0   \n",
       "4  House / apartment  52 years old                      3051.0           1.0   \n",
       "\n",
       "   Work Phone  Phone  Email      Occupation  Family Size  Approved  \\\n",
       "0         1.0    0.0    0.0             NaN          2.0         1   \n",
       "1         1.0    0.0    0.0             NaN          2.0         1   \n",
       "2         0.0    0.0    0.0  Security staff          2.0         1   \n",
       "3         0.0    1.0    1.0     Sales staff          1.0         1   \n",
       "4         0.0    1.0    1.0     Sales staff          1.0         1   \n",
       "\n",
       "                                              Reason  \n",
       "0  This application was approved due to Employmen...  \n",
       "1  This application was approved due to Employmen...  \n",
       "2  This application was approved due to, Marital ...  \n",
       "3  This application was approved due to Email, Nu...  \n",
       "4  This application was denied due to, Email, Hou...  "
      ]
     },
     "execution_count": 9,
     "metadata": {},
     "output_type": "execute_result"
    }
   ],
   "source": [
    "# Combine explanation_df and df based on index\n",
    "df['Reason'] = explanation_df['Explanation'].reset_index(drop=True)\n",
    "\n",
    "# Display the first value in the 'Reason' column\n",
    "print(df['Reason'].iloc[0])\n",
    "df.head()"
   ]
  },
  {
   "cell_type": "code",
   "execution_count": 10,
   "id": "aa91600a-5b74-4c15-a021-811231791deb",
   "metadata": {
    "execution": {
     "iopub.execute_input": "2024-11-28T15:14:15.024678Z",
     "iopub.status.busy": "2024-11-28T15:14:15.024354Z",
     "iopub.status.idle": "2024-11-28T15:14:15.030890Z",
     "shell.execute_reply": "2024-11-28T15:14:15.029916Z"
    },
    "papermill": {
     "duration": 0.01534,
     "end_time": "2024-11-28T15:14:15.032616",
     "exception": false,
     "start_time": "2024-11-28T15:14:15.017276",
     "status": "completed"
    },
    "tags": []
   },
   "outputs": [],
   "source": [
    "# Function to dynamically replace labels with row values\n",
    "def insert_numbers_dynamically(row):\n",
    "    reason = row['Reason']\n",
    "    \n",
    "    # Extract all parts of the reason where dynamic replacement is needed\n",
    "    labels = re.findall(r'([A-Za-z\\s()]+)', reason)\n",
    "    \n",
    "    for label in labels:\n",
    "        # Match the label to the corresponding column name\n",
    "        column_name = None\n",
    "        for col in df.columns:\n",
    "            # Normalize column names and labels for matching\n",
    "            normalized_col = re.sub(r'[\\s()]+', '', col).lower()\n",
    "            normalized_label = re.sub(r'[\\s()]+', '', label).lower()\n",
    "            \n",
    "            if normalized_col == normalized_label:\n",
    "                column_name = col\n",
    "                break\n",
    "        \n",
    "        if column_name and column_name in row:  # Ensure column exists in the DataFrame\n",
    "            # Replace the label with the corresponding value from the row\n",
    "            value = row[column_name]\n",
    "            # Ensure proper replacement in the text\n",
    "            reason = reason.replace(label, f\"{label.strip()} {value}\")\n",
    "    \n",
    "    return reason"
   ]
  },
  {
   "cell_type": "code",
   "execution_count": 11,
   "id": "5de84f6b-5383-4ddf-97bf-34a9e40bb3b2",
   "metadata": {
    "execution": {
     "iopub.execute_input": "2024-11-28T15:14:15.047276Z",
     "iopub.status.busy": "2024-11-28T15:14:15.046919Z",
     "iopub.status.idle": "2024-11-28T15:14:18.094070Z",
     "shell.execute_reply": "2024-11-28T15:14:18.093018Z"
    },
    "papermill": {
     "duration": 3.056158,
     "end_time": "2024-11-28T15:14:18.095592",
     "exception": false,
     "start_time": "2024-11-28T15:14:15.039434",
     "status": "completed"
    },
    "tags": []
   },
   "outputs": [
    {
     "data": {
      "text/html": [
       "<div>\n",
       "<style scoped>\n",
       "    .dataframe tbody tr th:only-of-type {\n",
       "        vertical-align: middle;\n",
       "    }\n",
       "\n",
       "    .dataframe tbody tr th {\n",
       "        vertical-align: top;\n",
       "    }\n",
       "\n",
       "    .dataframe thead th {\n",
       "        text-align: right;\n",
       "    }\n",
       "</style>\n",
       "<table border=\"1\" class=\"dataframe\">\n",
       "  <thead>\n",
       "    <tr style=\"text-align: right;\">\n",
       "      <th></th>\n",
       "      <th>Gender</th>\n",
       "      <th>Car Ownership</th>\n",
       "      <th>Property Ownership</th>\n",
       "      <th>Number of Children</th>\n",
       "      <th>Annual Income</th>\n",
       "      <th>Income Category</th>\n",
       "      <th>Education Level</th>\n",
       "      <th>Marital Status</th>\n",
       "      <th>Housing Type</th>\n",
       "      <th>Age (Days)</th>\n",
       "      <th>Employment Duration (Days)</th>\n",
       "      <th>Mobile Phone</th>\n",
       "      <th>Work Phone</th>\n",
       "      <th>Phone</th>\n",
       "      <th>Email</th>\n",
       "      <th>Occupation</th>\n",
       "      <th>Family Size</th>\n",
       "      <th>Approved</th>\n",
       "      <th>Reason</th>\n",
       "    </tr>\n",
       "  </thead>\n",
       "  <tbody>\n",
       "    <tr>\n",
       "      <th>0</th>\n",
       "      <td>M</td>\n",
       "      <td>Y</td>\n",
       "      <td>Y</td>\n",
       "      <td>0</td>\n",
       "      <td>427500.0</td>\n",
       "      <td>Working</td>\n",
       "      <td>Higher education</td>\n",
       "      <td>Civil marriage</td>\n",
       "      <td>Rented apartment</td>\n",
       "      <td>32 years old</td>\n",
       "      <td>4542.0</td>\n",
       "      <td>1.0</td>\n",
       "      <td>1.0</td>\n",
       "      <td>0.0</td>\n",
       "      <td>0.0</td>\n",
       "      <td>NaN</td>\n",
       "      <td>2.0</td>\n",
       "      <td>1</td>\n",
       "      <td>This application was approved due to Employmen...</td>\n",
       "    </tr>\n",
       "    <tr>\n",
       "      <th>1</th>\n",
       "      <td>M</td>\n",
       "      <td>Y</td>\n",
       "      <td>Y</td>\n",
       "      <td>0</td>\n",
       "      <td>427500.0</td>\n",
       "      <td>Working</td>\n",
       "      <td>Higher education</td>\n",
       "      <td>Civil marriage</td>\n",
       "      <td>Rented apartment</td>\n",
       "      <td>32 years old</td>\n",
       "      <td>4542.0</td>\n",
       "      <td>1.0</td>\n",
       "      <td>1.0</td>\n",
       "      <td>0.0</td>\n",
       "      <td>0.0</td>\n",
       "      <td>NaN</td>\n",
       "      <td>2.0</td>\n",
       "      <td>1</td>\n",
       "      <td>This application was approved due to Employmen...</td>\n",
       "    </tr>\n",
       "    <tr>\n",
       "      <th>2</th>\n",
       "      <td>M</td>\n",
       "      <td>Y</td>\n",
       "      <td>Y</td>\n",
       "      <td>0</td>\n",
       "      <td>112500.0</td>\n",
       "      <td>Working</td>\n",
       "      <td>Secondary / secondary special</td>\n",
       "      <td>Married</td>\n",
       "      <td>House / apartment</td>\n",
       "      <td>58 years old</td>\n",
       "      <td>1134.0</td>\n",
       "      <td>1.0</td>\n",
       "      <td>0.0</td>\n",
       "      <td>0.0</td>\n",
       "      <td>0.0</td>\n",
       "      <td>Security staff</td>\n",
       "      <td>2.0</td>\n",
       "      <td>1</td>\n",
       "      <td>This application was approved due to,Marital S...</td>\n",
       "    </tr>\n",
       "    <tr>\n",
       "      <th>3</th>\n",
       "      <td>F</td>\n",
       "      <td>N</td>\n",
       "      <td>Y</td>\n",
       "      <td>0</td>\n",
       "      <td>270000.0</td>\n",
       "      <td>Commercial associate</td>\n",
       "      <td>Secondary / secondary special</td>\n",
       "      <td>Single / not married</td>\n",
       "      <td>House / apartment</td>\n",
       "      <td>52 years old</td>\n",
       "      <td>3051.0</td>\n",
       "      <td>1.0</td>\n",
       "      <td>0.0</td>\n",
       "      <td>1.0</td>\n",
       "      <td>1.0</td>\n",
       "      <td>Sales staff</td>\n",
       "      <td>1.0</td>\n",
       "      <td>1</td>\n",
       "      <td>This application was approved due to Email,Num...</td>\n",
       "    </tr>\n",
       "    <tr>\n",
       "      <th>4</th>\n",
       "      <td>F</td>\n",
       "      <td>N</td>\n",
       "      <td>Y</td>\n",
       "      <td>0</td>\n",
       "      <td>270000.0</td>\n",
       "      <td>Commercial associate</td>\n",
       "      <td>Secondary / secondary special</td>\n",
       "      <td>Single / not married</td>\n",
       "      <td>House / apartment</td>\n",
       "      <td>52 years old</td>\n",
       "      <td>3051.0</td>\n",
       "      <td>1.0</td>\n",
       "      <td>0.0</td>\n",
       "      <td>1.0</td>\n",
       "      <td>1.0</td>\n",
       "      <td>Sales staff</td>\n",
       "      <td>1.0</td>\n",
       "      <td>1</td>\n",
       "      <td>This application was denied due to,Email 1.0,H...</td>\n",
       "    </tr>\n",
       "  </tbody>\n",
       "</table>\n",
       "</div>"
      ],
      "text/plain": [
       "  Gender Car Ownership Property Ownership  Number of Children  Annual Income  \\\n",
       "0      M             Y                  Y                   0       427500.0   \n",
       "1      M             Y                  Y                   0       427500.0   \n",
       "2      M             Y                  Y                   0       112500.0   \n",
       "3      F             N                  Y                   0       270000.0   \n",
       "4      F             N                  Y                   0       270000.0   \n",
       "\n",
       "        Income Category                Education Level        Marital Status  \\\n",
       "0               Working               Higher education        Civil marriage   \n",
       "1               Working               Higher education        Civil marriage   \n",
       "2               Working  Secondary / secondary special               Married   \n",
       "3  Commercial associate  Secondary / secondary special  Single / not married   \n",
       "4  Commercial associate  Secondary / secondary special  Single / not married   \n",
       "\n",
       "        Housing Type    Age (Days)  Employment Duration (Days)  Mobile Phone  \\\n",
       "0   Rented apartment  32 years old                      4542.0           1.0   \n",
       "1   Rented apartment  32 years old                      4542.0           1.0   \n",
       "2  House / apartment  58 years old                      1134.0           1.0   \n",
       "3  House / apartment  52 years old                      3051.0           1.0   \n",
       "4  House / apartment  52 years old                      3051.0           1.0   \n",
       "\n",
       "   Work Phone  Phone  Email      Occupation  Family Size  Approved  \\\n",
       "0         1.0    0.0    0.0             NaN          2.0         1   \n",
       "1         1.0    0.0    0.0             NaN          2.0         1   \n",
       "2         0.0    0.0    0.0  Security staff          2.0         1   \n",
       "3         0.0    1.0    1.0     Sales staff          1.0         1   \n",
       "4         0.0    1.0    1.0     Sales staff          1.0         1   \n",
       "\n",
       "                                              Reason  \n",
       "0  This application was approved due to Employmen...  \n",
       "1  This application was approved due to Employmen...  \n",
       "2  This application was approved due to,Marital S...  \n",
       "3  This application was approved due to Email,Num...  \n",
       "4  This application was denied due to,Email 1.0,H...  "
      ]
     },
     "execution_count": 11,
     "metadata": {},
     "output_type": "execute_result"
    }
   ],
   "source": [
    "# Apply the function to each row in the DataFrame\n",
    "df['Reason'] = df.apply(insert_numbers_dynamically, axis=1)\n",
    "\n",
    "# Display the updated DataFrame\n",
    "df.head()"
   ]
  },
  {
   "cell_type": "code",
   "execution_count": 12,
   "id": "e326c282-2355-4055-ab40-42b98f101d40",
   "metadata": {
    "execution": {
     "iopub.execute_input": "2024-11-28T15:14:18.112363Z",
     "iopub.status.busy": "2024-11-28T15:14:18.111967Z",
     "iopub.status.idle": "2024-11-28T15:14:18.146823Z",
     "shell.execute_reply": "2024-11-28T15:14:18.145791Z"
    },
    "papermill": {
     "duration": 0.044537,
     "end_time": "2024-11-28T15:14:18.148291",
     "exception": false,
     "start_time": "2024-11-28T15:14:18.103754",
     "status": "completed"
    },
    "tags": []
   },
   "outputs": [
    {
     "data": {
      "text/html": [
       "<div>\n",
       "<style scoped>\n",
       "    .dataframe tbody tr th:only-of-type {\n",
       "        vertical-align: middle;\n",
       "    }\n",
       "\n",
       "    .dataframe tbody tr th {\n",
       "        vertical-align: top;\n",
       "    }\n",
       "\n",
       "    .dataframe thead th {\n",
       "        text-align: right;\n",
       "    }\n",
       "</style>\n",
       "<table border=\"1\" class=\"dataframe\">\n",
       "  <thead>\n",
       "    <tr style=\"text-align: right;\">\n",
       "      <th></th>\n",
       "      <th>Gender</th>\n",
       "      <th>Car Ownership</th>\n",
       "      <th>Property Ownership</th>\n",
       "      <th>Number of Children</th>\n",
       "      <th>Annual Income</th>\n",
       "      <th>Income Category</th>\n",
       "      <th>Education Level</th>\n",
       "      <th>Marital Status</th>\n",
       "      <th>Housing Type</th>\n",
       "      <th>Age (Years)</th>\n",
       "      <th>Employment Duration (Years)</th>\n",
       "      <th>Mobile Phone</th>\n",
       "      <th>Work Phone</th>\n",
       "      <th>Phone</th>\n",
       "      <th>Email</th>\n",
       "      <th>Occupation</th>\n",
       "      <th>Family Size</th>\n",
       "      <th>Approved</th>\n",
       "      <th>Reason</th>\n",
       "    </tr>\n",
       "  </thead>\n",
       "  <tbody>\n",
       "    <tr>\n",
       "      <th>0</th>\n",
       "      <td>M</td>\n",
       "      <td>Y</td>\n",
       "      <td>Y</td>\n",
       "      <td>0</td>\n",
       "      <td>427500.0</td>\n",
       "      <td>Working</td>\n",
       "      <td>Higher education</td>\n",
       "      <td>Civil marriage</td>\n",
       "      <td>Rented apartment</td>\n",
       "      <td>32 years old</td>\n",
       "      <td>12.44</td>\n",
       "      <td>1.0</td>\n",
       "      <td>1.0</td>\n",
       "      <td>0.0</td>\n",
       "      <td>0.0</td>\n",
       "      <td>NaN</td>\n",
       "      <td>2.0</td>\n",
       "      <td>1</td>\n",
       "      <td>This application was approved due to Employmen...</td>\n",
       "    </tr>\n",
       "    <tr>\n",
       "      <th>1</th>\n",
       "      <td>M</td>\n",
       "      <td>Y</td>\n",
       "      <td>Y</td>\n",
       "      <td>0</td>\n",
       "      <td>427500.0</td>\n",
       "      <td>Working</td>\n",
       "      <td>Higher education</td>\n",
       "      <td>Civil marriage</td>\n",
       "      <td>Rented apartment</td>\n",
       "      <td>32 years old</td>\n",
       "      <td>12.44</td>\n",
       "      <td>1.0</td>\n",
       "      <td>1.0</td>\n",
       "      <td>0.0</td>\n",
       "      <td>0.0</td>\n",
       "      <td>NaN</td>\n",
       "      <td>2.0</td>\n",
       "      <td>1</td>\n",
       "      <td>This application was approved due to Employmen...</td>\n",
       "    </tr>\n",
       "    <tr>\n",
       "      <th>2</th>\n",
       "      <td>M</td>\n",
       "      <td>Y</td>\n",
       "      <td>Y</td>\n",
       "      <td>0</td>\n",
       "      <td>112500.0</td>\n",
       "      <td>Working</td>\n",
       "      <td>Secondary / secondary special</td>\n",
       "      <td>Married</td>\n",
       "      <td>House / apartment</td>\n",
       "      <td>58 years old</td>\n",
       "      <td>3.11</td>\n",
       "      <td>1.0</td>\n",
       "      <td>0.0</td>\n",
       "      <td>0.0</td>\n",
       "      <td>0.0</td>\n",
       "      <td>Security staff</td>\n",
       "      <td>2.0</td>\n",
       "      <td>1</td>\n",
       "      <td>This application was approved due to,Marital S...</td>\n",
       "    </tr>\n",
       "    <tr>\n",
       "      <th>3</th>\n",
       "      <td>F</td>\n",
       "      <td>N</td>\n",
       "      <td>Y</td>\n",
       "      <td>0</td>\n",
       "      <td>270000.0</td>\n",
       "      <td>Commercial associate</td>\n",
       "      <td>Secondary / secondary special</td>\n",
       "      <td>Single / not married</td>\n",
       "      <td>House / apartment</td>\n",
       "      <td>52 years old</td>\n",
       "      <td>8.36</td>\n",
       "      <td>1.0</td>\n",
       "      <td>0.0</td>\n",
       "      <td>1.0</td>\n",
       "      <td>1.0</td>\n",
       "      <td>Sales staff</td>\n",
       "      <td>1.0</td>\n",
       "      <td>1</td>\n",
       "      <td>This application was approved due to Email,Num...</td>\n",
       "    </tr>\n",
       "    <tr>\n",
       "      <th>4</th>\n",
       "      <td>F</td>\n",
       "      <td>N</td>\n",
       "      <td>Y</td>\n",
       "      <td>0</td>\n",
       "      <td>270000.0</td>\n",
       "      <td>Commercial associate</td>\n",
       "      <td>Secondary / secondary special</td>\n",
       "      <td>Single / not married</td>\n",
       "      <td>House / apartment</td>\n",
       "      <td>52 years old</td>\n",
       "      <td>8.36</td>\n",
       "      <td>1.0</td>\n",
       "      <td>0.0</td>\n",
       "      <td>1.0</td>\n",
       "      <td>1.0</td>\n",
       "      <td>Sales staff</td>\n",
       "      <td>1.0</td>\n",
       "      <td>1</td>\n",
       "      <td>This application was denied due to,Email 1.0,H...</td>\n",
       "    </tr>\n",
       "  </tbody>\n",
       "</table>\n",
       "</div>"
      ],
      "text/plain": [
       "  Gender Car Ownership Property Ownership  Number of Children  Annual Income  \\\n",
       "0      M             Y                  Y                   0       427500.0   \n",
       "1      M             Y                  Y                   0       427500.0   \n",
       "2      M             Y                  Y                   0       112500.0   \n",
       "3      F             N                  Y                   0       270000.0   \n",
       "4      F             N                  Y                   0       270000.0   \n",
       "\n",
       "        Income Category                Education Level        Marital Status  \\\n",
       "0               Working               Higher education        Civil marriage   \n",
       "1               Working               Higher education        Civil marriage   \n",
       "2               Working  Secondary / secondary special               Married   \n",
       "3  Commercial associate  Secondary / secondary special  Single / not married   \n",
       "4  Commercial associate  Secondary / secondary special  Single / not married   \n",
       "\n",
       "        Housing Type   Age (Years)  Employment Duration (Years)  Mobile Phone  \\\n",
       "0   Rented apartment  32 years old                        12.44           1.0   \n",
       "1   Rented apartment  32 years old                        12.44           1.0   \n",
       "2  House / apartment  58 years old                         3.11           1.0   \n",
       "3  House / apartment  52 years old                         8.36           1.0   \n",
       "4  House / apartment  52 years old                         8.36           1.0   \n",
       "\n",
       "   Work Phone  Phone  Email      Occupation  Family Size  Approved  \\\n",
       "0         1.0    0.0    0.0             NaN          2.0         1   \n",
       "1         1.0    0.0    0.0             NaN          2.0         1   \n",
       "2         0.0    0.0    0.0  Security staff          2.0         1   \n",
       "3         0.0    1.0    1.0     Sales staff          1.0         1   \n",
       "4         0.0    1.0    1.0     Sales staff          1.0         1   \n",
       "\n",
       "                                              Reason  \n",
       "0  This application was approved due to Employmen...  \n",
       "1  This application was approved due to Employmen...  \n",
       "2  This application was approved due to,Marital S...  \n",
       "3  This application was approved due to Email,Num...  \n",
       "4  This application was denied due to,Email 1.0,H...  "
      ]
     },
     "execution_count": 12,
     "metadata": {},
     "output_type": "execute_result"
    }
   ],
   "source": [
    "# Convert \"Employment Duration (Days)\" to years in-place\n",
    "df[\"Employment Duration (Days)\"] = df[\"Employment Duration (Days)\"].apply(lambda x: round(x / 365.0, 2) if not pd.isna(x) else np.nan)\n",
    "df.rename(columns={\"Age (Days)\": \"Age (Years)\", \"Employment Duration (Days)\": \"Employment Duration (Years)\"}, inplace=True)\n",
    "df.head()"
   ]
  },
  {
   "cell_type": "code",
   "execution_count": 13,
   "id": "9e94d63b-b049-48ba-84c1-d4d546924bb0",
   "metadata": {
    "execution": {
     "iopub.execute_input": "2024-11-28T15:14:18.165448Z",
     "iopub.status.busy": "2024-11-28T15:14:18.165125Z",
     "iopub.status.idle": "2024-11-28T15:14:18.177046Z",
     "shell.execute_reply": "2024-11-28T15:14:18.176052Z"
    },
    "papermill": {
     "duration": 0.022192,
     "end_time": "2024-11-28T15:14:18.178510",
     "exception": false,
     "start_time": "2024-11-28T15:14:18.156318",
     "status": "completed"
    },
    "tags": []
   },
   "outputs": [],
   "source": [
    "# Step 2: Update the \"Reason\" column to match the new labels\n",
    "def update_reason(reason_text):\n",
    "    reason_text = reason_text.replace(\"Age (Days)\", \"Age (Years)\")\n",
    "    reason_text = reason_text.replace(\"Employment Duration (Days)\", \"Employment Duration (Years)\")\n",
    "    return reason_text\n",
    "\n",
    "df[\"Reason\"] = df[\"Reason\"].apply(update_reason)"
   ]
  },
  {
   "cell_type": "code",
   "execution_count": 14,
   "id": "569a1958-db10-4301-bc49-20782c1b67a0",
   "metadata": {
    "execution": {
     "iopub.execute_input": "2024-11-28T15:14:18.194166Z",
     "iopub.status.busy": "2024-11-28T15:14:18.193817Z",
     "iopub.status.idle": "2024-11-28T15:14:18.198714Z",
     "shell.execute_reply": "2024-11-28T15:14:18.197826Z"
    },
    "papermill": {
     "duration": 0.01425,
     "end_time": "2024-11-28T15:14:18.200230",
     "exception": false,
     "start_time": "2024-11-28T15:14:18.185980",
     "status": "completed"
    },
    "tags": []
   },
   "outputs": [
    {
     "name": "stdout",
     "output_type": "stream",
     "text": [
      "This application was approved due to Employment Duration (Years),Housing Type Rented apartment,Marital Status Civil marriage,Work Phone 1.0,Number of Children 0,Family Size 2.0,Annual Income 427500.0.\n"
     ]
    }
   ],
   "source": [
    "# Display the first value in the 'Reason' column\n",
    "print(df['Reason'].iloc[0])"
   ]
  },
  {
   "cell_type": "code",
   "execution_count": 15,
   "id": "ada571ee-ae3e-423c-a87e-e205a4ec3594",
   "metadata": {
    "execution": {
     "iopub.execute_input": "2024-11-28T15:14:18.215659Z",
     "iopub.status.busy": "2024-11-28T15:14:18.215346Z",
     "iopub.status.idle": "2024-11-28T15:14:18.223332Z",
     "shell.execute_reply": "2024-11-28T15:14:18.222408Z"
    },
    "papermill": {
     "duration": 0.017158,
     "end_time": "2024-11-28T15:14:18.224831",
     "exception": false,
     "start_time": "2024-11-28T15:14:18.207673",
     "status": "completed"
    },
    "tags": []
   },
   "outputs": [],
   "source": [
    "def generate_plain_input_and_label(row):\n",
    "    # Generate the reasoning part of the label\n",
    "    reasoning_parts = [\n",
    "        f\"Gender: {'Male' if row['Gender'] == 'M' else 'Female'}\" if pd.notna(row.get('Gender')) else None,\n",
    "        f\"Age: {row['Age (Years)']} years old\" if pd.notna(row.get('Age (Years)')) else None,\n",
    "        f\"Car Ownership: {'Yes' if row['Car Ownership'] == 'Y' else 'No'}\" if pd.notna(row.get('Car Ownership')) else None,\n",
    "        f\"Property Ownership: {'Yes' if row['Property Ownership'] == 'Y' else 'No'}\" if pd.notna(row.get('Property Ownership')) else None,\n",
    "        f\"Number of Children: {int(row['Number of Children'])}\" if pd.notna(row.get('Number of Children')) else None,\n",
    "        f\"Annual Income: {row['Annual Income']}\" if pd.notna(row.get('Annual Income')) else None,\n",
    "        f\"Income Category: {row['Income Category']}\" if pd.notna(row.get('Income Category')) else None,\n",
    "        f\"Education Level: {row['Education Level']}\" if pd.notna(row.get('Education Level')) else None,\n",
    "        f\"Marital Status: {row['Marital Status']}\" if pd.notna(row.get('Marital Status')) else None,\n",
    "        f\"Housing Type: {row['Housing Type']}\" if pd.notna(row.get('Housing Type')) else None,\n",
    "        f\"Employment Duration: {row['Employment Duration (Years)']} years\" if pd.notna(row.get('Employment Duration (Years)')) else None,\n",
    "        f\"Mobile Phone: {'Yes' if row['Mobile Phone'] == 1 else 'No'}\" if pd.notna(row.get('Mobile Phone')) else None,\n",
    "        f\"Work Phone: {'Yes' if row['Work Phone'] == 1 else 'No'}\" if pd.notna(row.get('Work Phone')) else None,\n",
    "        f\"Email: {'Yes' if row['Email'] == 1 else 'No'}\" if pd.notna(row.get('Email')) else None,\n",
    "        f\"Family Size: {row['Family Size']}\" if pd.notna(row.get('Family Size')) else None,\n",
    "    ]\n",
    "    reasoning_text = \". \".join([part for part in reasoning_parts if part is not None])\n",
    "    label = f\"Approval Status: Approved. Reasoning: {reasoning_text}.\"\n",
    "\n",
    "    # Generate input in the same way\n",
    "    input_text = reasoning_text  # Reuse the reasoning parts for consistency\n",
    "\n",
    "    return input_text, label"
   ]
  },
  {
   "cell_type": "code",
   "execution_count": 16,
   "id": "0abeeaf1-4853-44b1-a408-a792e8930dfd",
   "metadata": {
    "execution": {
     "iopub.execute_input": "2024-11-28T15:14:18.241510Z",
     "iopub.status.busy": "2024-11-28T15:14:18.241184Z",
     "iopub.status.idle": "2024-11-28T15:14:19.054891Z",
     "shell.execute_reply": "2024-11-28T15:14:19.053764Z"
    },
    "papermill": {
     "duration": 0.824613,
     "end_time": "2024-11-28T15:14:19.056902",
     "exception": false,
     "start_time": "2024-11-28T15:14:18.232289",
     "status": "completed"
    },
    "tags": []
   },
   "outputs": [],
   "source": [
    "# Apply the function to each row\n",
    "df[\"text\"], df[\"label\"] = zip(*df.apply(generate_plain_input_and_label, axis=1))\n",
    "\n",
    "# Keep only the required columns\n",
    "final_df = df[[\"text\", \"label\"]]"
   ]
  },
  {
   "cell_type": "code",
   "execution_count": 17,
   "id": "ff6ece9c-dd0e-4dc8-85b1-7dd389f3a62e",
   "metadata": {
    "execution": {
     "iopub.execute_input": "2024-11-28T15:14:19.073685Z",
     "iopub.status.busy": "2024-11-28T15:14:19.073366Z",
     "iopub.status.idle": "2024-11-28T15:14:19.079303Z",
     "shell.execute_reply": "2024-11-28T15:14:19.078325Z"
    },
    "papermill": {
     "duration": 0.015518,
     "end_time": "2024-11-28T15:14:19.080808",
     "exception": false,
     "start_time": "2024-11-28T15:14:19.065290",
     "status": "completed"
    },
    "tags": []
   },
   "outputs": [
    {
     "name": "stdout",
     "output_type": "stream",
     "text": [
      "Label\n",
      "\n",
      "Approval Status: Approved. Reasoning: Gender: Male. Age: 32 years old years old. Car Ownership: Yes. Property Ownership: Yes. Number of Children: 0. Annual Income: 427500.0. Income Category: Working. Education Level: Higher education. Marital Status: Civil marriage. Housing Type: Rented apartment. Employment Duration: 12.44 years. Mobile Phone: Yes. Work Phone: Yes. Email: No. Family Size: 2.0.\n",
      "Input\n",
      "\n",
      "Gender: Male. Age: 32 years old years old. Car Ownership: Yes. Property Ownership: Yes. Number of Children: 0. Annual Income: 427500.0. Income Category: Working. Education Level: Higher education. Marital Status: Civil marriage. Housing Type: Rented apartment. Employment Duration: 12.44 years. Mobile Phone: Yes. Work Phone: Yes. Email: No. Family Size: 2.0\n"
     ]
    }
   ],
   "source": [
    "# Display the first value in the 'Reason' column\n",
    "print(\"Label\\n\")\n",
    "print(final_df['label'].iloc[0])\n",
    "print(\"Input\\n\")\n",
    "print(final_df['text'].iloc[0])"
   ]
  },
  {
   "cell_type": "code",
   "execution_count": 18,
   "id": "3fea2c60-9ea8-4778-857f-172119c30ac4",
   "metadata": {
    "execution": {
     "iopub.execute_input": "2024-11-28T15:14:19.096609Z",
     "iopub.status.busy": "2024-11-28T15:14:19.096301Z",
     "iopub.status.idle": "2024-11-28T15:14:19.117884Z",
     "shell.execute_reply": "2024-11-28T15:14:19.117021Z"
    },
    "papermill": {
     "duration": 0.031113,
     "end_time": "2024-11-28T15:14:19.119368",
     "exception": false,
     "start_time": "2024-11-28T15:14:19.088255",
     "status": "completed"
    },
    "tags": []
   },
   "outputs": [],
   "source": [
    "# Clean the 'text' and 'label' columns\n",
    "final_df['text'] = final_df['text'].str.replace('years old years old', 'years old', regex=False)\n",
    "\n",
    "# Sample the dataset to 3000 rows for training efficiency\n",
    "df = df.sample(frac=1, random_state=42).reset_index(drop=True).head(3000)"
   ]
  },
  {
   "cell_type": "code",
   "execution_count": 19,
   "id": "dd576e1a-c70a-4422-b1bb-74d46081fa07",
   "metadata": {
    "execution": {
     "iopub.execute_input": "2024-11-28T15:14:19.135340Z",
     "iopub.status.busy": "2024-11-28T15:14:19.134998Z",
     "iopub.status.idle": "2024-11-28T15:14:19.140498Z",
     "shell.execute_reply": "2024-11-28T15:14:19.139537Z"
    },
    "papermill": {
     "duration": 0.015436,
     "end_time": "2024-11-28T15:14:19.142013",
     "exception": false,
     "start_time": "2024-11-28T15:14:19.126577",
     "status": "completed"
    },
    "tags": []
   },
   "outputs": [],
   "source": [
    "# Split ratios\n",
    "train_size = 0.8\n",
    "eval_size = 0.1\n",
    "\n",
    "# Calculate split indices\n",
    "train_end = int(train_size * len(df))\n",
    "eval_end = train_end + int(eval_size * len(df))\n",
    "\n",
    "# Split data\n",
    "X_train = df[:train_end]\n",
    "X_eval = df[train_end:eval_end]\n",
    "X_test = df[eval_end:]"
   ]
  },
  {
   "cell_type": "code",
   "execution_count": 20,
   "id": "2d0b5c3f-1c1d-4816-b013-06b3b49fc70f",
   "metadata": {
    "execution": {
     "iopub.execute_input": "2024-11-28T15:14:19.157759Z",
     "iopub.status.busy": "2024-11-28T15:14:19.157474Z",
     "iopub.status.idle": "2024-11-28T15:14:19.199806Z",
     "shell.execute_reply": "2024-11-28T15:14:19.198721Z"
    },
    "papermill": {
     "duration": 0.052272,
     "end_time": "2024-11-28T15:14:19.201438",
     "exception": false,
     "start_time": "2024-11-28T15:14:19.149166",
     "status": "completed"
    },
    "tags": []
   },
   "outputs": [],
   "source": [
    "# Define the prompt generation functions\n",
    "def generate_prompt(data_point):\n",
    "    return f\"\"\"\n",
    "Predict the credit card application status and provide reasoning.\n",
    "text: {data_point[\"text\"]}\n",
    "label: {data_point[\"label\"]}\n",
    "\"\"\".strip()\n",
    "\n",
    "def generate_test_prompt(data_point):\n",
    "    return f\"\"\"\n",
    "Predict the credit card application status and provide reasoning.\n",
    "text: {data_point[\"text\"]}\n",
    "label: \n",
    "\"\"\".strip()\n",
    "\n",
    "# Apply to training and evaluation datasets\n",
    "X_train['text'] = X_train.apply(generate_prompt, axis=1)\n",
    "X_eval['text'] = X_eval.apply(generate_prompt, axis=1)\n",
    "\n",
    "# Apply to test dataset\n",
    "X_test_prompts = X_test.apply(generate_test_prompt, axis=1)\n",
    "y_true = X_test['label']\n",
    "X_test = pd.DataFrame(X_test_prompts, columns=[\"text\"])"
   ]
  },
  {
   "cell_type": "code",
   "execution_count": 21,
   "id": "177572dc-e7b9-468e-8991-f2ad25170ffa",
   "metadata": {
    "execution": {
     "iopub.execute_input": "2024-11-28T15:14:19.219068Z",
     "iopub.status.busy": "2024-11-28T15:14:19.218765Z",
     "iopub.status.idle": "2024-11-28T15:14:19.247415Z",
     "shell.execute_reply": "2024-11-28T15:14:19.246443Z"
    },
    "papermill": {
     "duration": 0.039,
     "end_time": "2024-11-28T15:14:19.249149",
     "exception": false,
     "start_time": "2024-11-28T15:14:19.210149",
     "status": "completed"
    },
    "tags": []
   },
   "outputs": [],
   "source": [
    "# Convert to datasets\n",
    "train_data = Dataset.from_pandas(X_train[[\"text\"]])\n",
    "eval_data = Dataset.from_pandas(X_eval[[\"text\"]])"
   ]
  },
  {
   "cell_type": "code",
   "execution_count": 22,
   "id": "f8fda12e-9a63-44fd-9437-396f1f68ad60",
   "metadata": {
    "execution": {
     "iopub.execute_input": "2024-11-28T15:14:19.265759Z",
     "iopub.status.busy": "2024-11-28T15:14:19.265433Z",
     "iopub.status.idle": "2024-11-28T15:14:19.468801Z",
     "shell.execute_reply": "2024-11-28T15:14:19.467736Z"
    },
    "papermill": {
     "duration": 0.213642,
     "end_time": "2024-11-28T15:14:19.470400",
     "exception": false,
     "start_time": "2024-11-28T15:14:19.256758",
     "status": "completed"
    },
    "tags": []
   },
   "outputs": [
    {
     "data": {
      "application/vnd.jupyter.widget-view+json": {
       "model_id": "532e1979a7e8472eb1564978fbae97fd",
       "version_major": 2,
       "version_minor": 0
      },
      "text/plain": [
       "Map:   0%|          | 0/2400 [00:00<?, ? examples/s]"
      ]
     },
     "metadata": {},
     "output_type": "display_data"
    },
    {
     "name": "stdout",
     "output_type": "stream",
     "text": [
      "Train data lengths:\n",
      "Dataset({\n",
      "    features: ['text', 'length'],\n",
      "    num_rows: 2400\n",
      "})\n"
     ]
    },
    {
     "data": {
      "application/vnd.jupyter.widget-view+json": {
       "model_id": "f57da699bd8a45688e141b40c86cd428",
       "version_major": 2,
       "version_minor": 0
      },
      "text/plain": [
       "Map:   0%|          | 0/300 [00:00<?, ? examples/s]"
      ]
     },
     "metadata": {},
     "output_type": "display_data"
    },
    {
     "name": "stdout",
     "output_type": "stream",
     "text": [
      "Eval data lengths:\n",
      "Dataset({\n",
      "    features: ['text', 'length'],\n",
      "    num_rows: 300\n",
      "})\n"
     ]
    }
   ],
   "source": [
    "# Display lengths of each entry in train_data\n",
    "train_lengths = train_data.map(lambda x: {\"length\": len(x[\"text\"])})\n",
    "print(\"Train data lengths:\")\n",
    "print(train_lengths)\n",
    "\n",
    "# Display lengths of each entry in eval_data\n",
    "eval_lengths = eval_data.map(lambda x: {\"length\": len(x[\"text\"])})\n",
    "print(\"Eval data lengths:\")\n",
    "print(eval_lengths)"
   ]
  },
  {
   "cell_type": "code",
   "execution_count": 23,
   "id": "bf11fe0d-0692-48f9-b121-8c54746ecb76",
   "metadata": {
    "execution": {
     "iopub.execute_input": "2024-11-28T15:14:19.488263Z",
     "iopub.status.busy": "2024-11-28T15:14:19.487883Z",
     "iopub.status.idle": "2024-11-28T15:14:19.499265Z",
     "shell.execute_reply": "2024-11-28T15:14:19.498293Z"
    },
    "papermill": {
     "duration": 0.021786,
     "end_time": "2024-11-28T15:14:19.500871",
     "exception": false,
     "start_time": "2024-11-28T15:14:19.479085",
     "status": "completed"
    },
    "tags": []
   },
   "outputs": [
    {
     "data": {
      "text/plain": [
       "'Predict the credit card application status and provide reasoning.\\ntext: Gender: Female. Age: 32 years old years old. Car Ownership: Yes. Property Ownership: No. Number of Children: 0. Annual Income: 126000.0. Income Category: State servant. Education Level: Incomplete higher. Marital Status: Single / not married. Housing Type: House / apartment. Employment Duration: 14.26 years. Mobile Phone: Yes. Work Phone: Yes. Email: No. Family Size: 1.0\\nlabel: Approval Status: Approved. Reasoning: Gender: Female. Age: 32 years old years old. Car Ownership: Yes. Property Ownership: No. Number of Children: 0. Annual Income: 126000.0. Income Category: State servant. Education Level: Incomplete higher. Marital Status: Single / not married. Housing Type: House / apartment. Employment Duration: 14.26 years. Mobile Phone: Yes. Work Phone: Yes. Email: No. Family Size: 1.0.'"
      ]
     },
     "execution_count": 23,
     "metadata": {},
     "output_type": "execute_result"
    }
   ],
   "source": [
    "train_data['text'][3]"
   ]
  },
  {
   "cell_type": "code",
   "execution_count": 24,
   "id": "00bfd4b8-02e8-4e74-8613-59934f551218",
   "metadata": {
    "execution": {
     "iopub.execute_input": "2024-11-28T15:14:19.518042Z",
     "iopub.status.busy": "2024-11-28T15:14:19.517712Z",
     "iopub.status.idle": "2024-11-28T15:14:20.345295Z",
     "shell.execute_reply": "2024-11-28T15:14:20.344207Z"
    },
    "papermill": {
     "duration": 0.838118,
     "end_time": "2024-11-28T15:14:20.347182",
     "exception": false,
     "start_time": "2024-11-28T15:14:19.509064",
     "status": "completed"
    },
    "tags": []
   },
   "outputs": [],
   "source": [
    "base_model = \"/opt/notebooks/Chatbot-Credit-Card/backend/models/llama-3.1-8b-Instruct/\"\n",
    "\n",
    "tokenizer = AutoTokenizer.from_pretrained(base_model)"
   ]
  },
  {
   "cell_type": "code",
   "execution_count": 25,
   "id": "d64982e8-98c1-4e52-be3f-e0c349903a68",
   "metadata": {
    "execution": {
     "iopub.execute_input": "2024-11-28T15:14:20.365497Z",
     "iopub.status.busy": "2024-11-28T15:14:20.365181Z",
     "iopub.status.idle": "2024-11-28T15:14:32.944927Z",
     "shell.execute_reply": "2024-11-28T15:14:32.943878Z"
    },
    "papermill": {
     "duration": 12.59079,
     "end_time": "2024-11-28T15:14:32.946762",
     "exception": false,
     "start_time": "2024-11-28T15:14:20.355972",
     "status": "completed"
    },
    "tags": []
   },
   "outputs": [
    {
     "data": {
      "application/vnd.jupyter.widget-view+json": {
       "model_id": "e63eeeec36714415b707efeaa10cf509",
       "version_major": 2,
       "version_minor": 0
      },
      "text/plain": [
       "Loading checkpoint shards:   0%|          | 0/7 [00:00<?, ?it/s]"
      ]
     },
     "metadata": {},
     "output_type": "display_data"
    }
   ],
   "source": [
    "base_model_name = base_model\n",
    "\n",
    "bnb_config = BitsAndBytesConfig(\n",
    "    load_in_4bit=True,\n",
    "    bnb_4bit_use_double_quant=False,\n",
    "    bnb_4bit_quant_type=\"nf4\",\n",
    "    bnb_4bit_compute_dtype=\"float16\",\n",
    ")\n",
    "\n",
    "model = AutoModelForCausalLM.from_pretrained(\n",
    "    base_model_name,\n",
    "    device_map=\"auto\",\n",
    "    torch_dtype=\"float16\",\n",
    "    quantization_config=bnb_config, \n",
    ")\n",
    "\n",
    "pipe = pipeline(\n",
    "    \"text-generation\",\n",
    "    model=model,\n",
    "    tokenizer=tokenizer,\n",
    "    torch_dtype=torch.float16,\n",
    "    device_map=\"auto\",\n",
    ")\n",
    "model.config.use_cache = False\n",
    "model.config.pretraining_tp = 1\n",
    "\n",
    "tokenizer = AutoTokenizer.from_pretrained(base_model_name)\n",
    "\n",
    "tokenizer.pad_token_id = tokenizer.eos_token_id"
   ]
  },
  {
   "cell_type": "code",
   "execution_count": 26,
   "id": "396c7e21-e3bd-4358-8748-51b569e7dd97",
   "metadata": {
    "execution": {
     "iopub.execute_input": "2024-11-28T15:14:32.964760Z",
     "iopub.status.busy": "2024-11-28T15:14:32.964258Z"
    },
    "papermill": {
     "duration": null,
     "end_time": null,
     "exception": false,
     "start_time": "2024-11-28T15:14:32.955566",
     "status": "running"
    },
    "tags": []
   },
   "outputs": [
    {
     "name": "stderr",
     "output_type": "stream",
     "text": [
      "\r",
      "  0%|                                                                                                                                                          | 0/300 [00:00<?, ?it/s]"
     ]
    },
    {
     "name": "stderr",
     "output_type": "stream",
     "text": [
      "\r",
      "  0%|▍                                                                                                                                                 | 1/300 [00:05<28:56,  5.81s/it]"
     ]
    },
    {
     "name": "stderr",
     "output_type": "stream",
     "text": [
      "\r",
      "  1%|▉                                                                                                                                                 | 2/300 [00:11<27:16,  5.49s/it]"
     ]
    },
    {
     "name": "stderr",
     "output_type": "stream",
     "text": [
      "\r",
      "  1%|█▍                                                                                                                                                | 3/300 [00:16<27:18,  5.52s/it]"
     ]
    },
    {
     "name": "stderr",
     "output_type": "stream",
     "text": [
      "\r",
      "  1%|█▉                                                                                                                                                | 4/300 [00:22<27:47,  5.63s/it]"
     ]
    },
    {
     "name": "stderr",
     "output_type": "stream",
     "text": [
      "\r",
      "  2%|██▍                                                                                                                                               | 5/300 [00:28<27:43,  5.64s/it]"
     ]
    },
    {
     "name": "stderr",
     "output_type": "stream",
     "text": [
      "\r",
      "  2%|██▉                                                                                                                                               | 6/300 [00:33<27:38,  5.64s/it]"
     ]
    },
    {
     "name": "stderr",
     "output_type": "stream",
     "text": [
      "\r",
      "  2%|███▍                                                                                                                                              | 7/300 [00:39<27:20,  5.60s/it]"
     ]
    },
    {
     "name": "stderr",
     "output_type": "stream",
     "text": [
      "\r",
      "  3%|███▉                                                                                                                                              | 8/300 [00:45<27:32,  5.66s/it]"
     ]
    },
    {
     "name": "stderr",
     "output_type": "stream",
     "text": [
      "\r",
      "  3%|████▍                                                                                                                                             | 9/300 [00:50<27:22,  5.64s/it]"
     ]
    },
    {
     "name": "stderr",
     "output_type": "stream",
     "text": [
      "\r",
      "  3%|████▊                                                                                                                                            | 10/300 [00:56<27:07,  5.61s/it]"
     ]
    },
    {
     "name": "stderr",
     "output_type": "stream",
     "text": [
      "\r",
      "  4%|█████▎                                                                                                                                           | 11/300 [01:01<26:49,  5.57s/it]"
     ]
    },
    {
     "name": "stderr",
     "output_type": "stream",
     "text": [
      "\r",
      "  4%|█████▊                                                                                                                                           | 12/300 [01:07<26:40,  5.56s/it]"
     ]
    },
    {
     "name": "stderr",
     "output_type": "stream",
     "text": [
      "\r",
      "  4%|██████▎                                                                                                                                          | 13/300 [01:12<26:22,  5.51s/it]"
     ]
    },
    {
     "name": "stderr",
     "output_type": "stream",
     "text": [
      "\r",
      "  5%|██████▊                                                                                                                                          | 14/300 [01:18<26:39,  5.59s/it]"
     ]
    },
    {
     "name": "stderr",
     "output_type": "stream",
     "text": [
      "\r",
      "  5%|███████▎                                                                                                                                         | 15/300 [01:24<26:49,  5.65s/it]"
     ]
    },
    {
     "name": "stderr",
     "output_type": "stream",
     "text": [
      "\r",
      "  5%|███████▋                                                                                                                                         | 16/300 [01:29<26:39,  5.63s/it]"
     ]
    },
    {
     "name": "stderr",
     "output_type": "stream",
     "text": [
      "\r",
      "  6%|████████▏                                                                                                                                        | 17/300 [01:35<26:33,  5.63s/it]"
     ]
    },
    {
     "name": "stderr",
     "output_type": "stream",
     "text": [
      "\r",
      "  6%|████████▋                                                                                                                                        | 18/300 [01:40<26:25,  5.62s/it]"
     ]
    },
    {
     "name": "stderr",
     "output_type": "stream",
     "text": [
      "\r",
      "  6%|█████████▏                                                                                                                                       | 19/300 [01:46<26:32,  5.67s/it]"
     ]
    },
    {
     "name": "stderr",
     "output_type": "stream",
     "text": [
      "\r",
      "  7%|█████████▋                                                                                                                                       | 20/300 [01:52<26:21,  5.65s/it]"
     ]
    },
    {
     "name": "stderr",
     "output_type": "stream",
     "text": [
      "\r",
      "  7%|██████████▏                                                                                                                                      | 21/300 [01:57<26:12,  5.63s/it]"
     ]
    },
    {
     "name": "stderr",
     "output_type": "stream",
     "text": [
      "\r",
      "  7%|██████████▋                                                                                                                                      | 22/300 [02:03<25:59,  5.61s/it]"
     ]
    },
    {
     "name": "stderr",
     "output_type": "stream",
     "text": [
      "\r",
      "  8%|███████████                                                                                                                                      | 23/300 [02:08<25:34,  5.54s/it]"
     ]
    },
    {
     "name": "stderr",
     "output_type": "stream",
     "text": [
      "\r",
      "  8%|███████████▌                                                                                                                                     | 24/300 [02:14<25:41,  5.58s/it]"
     ]
    },
    {
     "name": "stderr",
     "output_type": "stream",
     "text": [
      "\r",
      "  8%|████████████                                                                                                                                     | 25/300 [02:21<27:21,  5.97s/it]"
     ]
    },
    {
     "name": "stderr",
     "output_type": "stream",
     "text": [
      "\r",
      "  9%|████████████▌                                                                                                                                    | 26/300 [02:28<28:13,  6.18s/it]"
     ]
    },
    {
     "name": "stderr",
     "output_type": "stream",
     "text": [
      "\r",
      "  9%|█████████████                                                                                                                                    | 27/300 [02:33<27:32,  6.05s/it]"
     ]
    },
    {
     "name": "stderr",
     "output_type": "stream",
     "text": [
      "\r",
      "  9%|█████████████▌                                                                                                                                   | 28/300 [02:39<26:30,  5.85s/it]"
     ]
    },
    {
     "name": "stderr",
     "output_type": "stream",
     "text": [
      "\r",
      " 10%|██████████████                                                                                                                                   | 29/300 [02:44<25:47,  5.71s/it]"
     ]
    },
    {
     "name": "stderr",
     "output_type": "stream",
     "text": [
      "\r",
      " 10%|██████████████▌                                                                                                                                  | 30/300 [02:50<25:19,  5.63s/it]"
     ]
    },
    {
     "name": "stderr",
     "output_type": "stream",
     "text": [
      "\r",
      " 10%|██████████████▉                                                                                                                                  | 31/300 [02:55<25:33,  5.70s/it]"
     ]
    },
    {
     "name": "stderr",
     "output_type": "stream",
     "text": [
      "\r",
      " 11%|███████████████▍                                                                                                                                 | 32/300 [03:01<25:18,  5.67s/it]"
     ]
    },
    {
     "name": "stderr",
     "output_type": "stream",
     "text": [
      "\r",
      " 11%|███████████████▉                                                                                                                                 | 33/300 [03:07<25:21,  5.70s/it]"
     ]
    },
    {
     "name": "stderr",
     "output_type": "stream",
     "text": [
      "\r",
      " 11%|████████████████▍                                                                                                                                | 34/300 [03:12<25:05,  5.66s/it]"
     ]
    },
    {
     "name": "stderr",
     "output_type": "stream",
     "text": [
      "\r",
      " 12%|████████████████▉                                                                                                                                | 35/300 [03:18<24:53,  5.64s/it]"
     ]
    },
    {
     "name": "stderr",
     "output_type": "stream",
     "text": [
      "\r",
      " 12%|█████████████████▍                                                                                                                               | 36/300 [03:24<25:00,  5.68s/it]"
     ]
    },
    {
     "name": "stderr",
     "output_type": "stream",
     "text": [
      "\r",
      " 12%|█████████████████▉                                                                                                                               | 37/300 [03:29<24:53,  5.68s/it]"
     ]
    },
    {
     "name": "stderr",
     "output_type": "stream",
     "text": [
      "\r",
      " 13%|██████████████████▎                                                                                                                              | 38/300 [03:35<24:55,  5.71s/it]"
     ]
    },
    {
     "name": "stderr",
     "output_type": "stream",
     "text": [
      "\r",
      " 13%|██████████████████▊                                                                                                                              | 39/300 [03:41<24:35,  5.65s/it]"
     ]
    },
    {
     "name": "stderr",
     "output_type": "stream",
     "text": [
      "\r",
      " 13%|███████████████████▎                                                                                                                             | 40/300 [03:46<24:26,  5.64s/it]"
     ]
    },
    {
     "name": "stderr",
     "output_type": "stream",
     "text": [
      "\r",
      " 14%|███████████████████▊                                                                                                                             | 41/300 [03:52<24:23,  5.65s/it]"
     ]
    },
    {
     "name": "stderr",
     "output_type": "stream",
     "text": [
      "\r",
      " 14%|████████████████████▎                                                                                                                            | 42/300 [03:58<24:18,  5.65s/it]"
     ]
    },
    {
     "name": "stderr",
     "output_type": "stream",
     "text": [
      "\r",
      " 14%|████████████████████▊                                                                                                                            | 43/300 [04:04<24:56,  5.82s/it]"
     ]
    },
    {
     "name": "stderr",
     "output_type": "stream",
     "text": [
      "\r",
      " 15%|█████████████████████▎                                                                                                                           | 44/300 [04:10<25:41,  6.02s/it]"
     ]
    },
    {
     "name": "stderr",
     "output_type": "stream",
     "text": [
      "\r",
      " 15%|█████████████████████▊                                                                                                                           | 45/300 [04:17<26:12,  6.17s/it]"
     ]
    },
    {
     "name": "stderr",
     "output_type": "stream",
     "text": [
      "\r",
      " 15%|██████████████████████▏                                                                                                                          | 46/300 [04:23<26:07,  6.17s/it]"
     ]
    },
    {
     "name": "stderr",
     "output_type": "stream",
     "text": [
      "\r",
      " 16%|██████████████████████▋                                                                                                                          | 47/300 [04:29<25:22,  6.02s/it]"
     ]
    },
    {
     "name": "stderr",
     "output_type": "stream",
     "text": [
      "\r",
      " 16%|███████████████████████▏                                                                                                                         | 48/300 [04:34<24:49,  5.91s/it]"
     ]
    },
    {
     "name": "stderr",
     "output_type": "stream",
     "text": [
      "\r",
      " 16%|███████████████████████▋                                                                                                                         | 49/300 [04:40<24:22,  5.83s/it]"
     ]
    },
    {
     "name": "stderr",
     "output_type": "stream",
     "text": [
      "\r",
      " 17%|████████████████████████▏                                                                                                                        | 50/300 [04:46<24:04,  5.78s/it]"
     ]
    },
    {
     "name": "stderr",
     "output_type": "stream",
     "text": [
      "\r",
      " 17%|████████████████████████▋                                                                                                                        | 51/300 [04:51<23:44,  5.72s/it]"
     ]
    },
    {
     "name": "stderr",
     "output_type": "stream",
     "text": [
      "\r",
      " 17%|█████████████████████████▏                                                                                                                       | 52/300 [04:57<23:27,  5.67s/it]"
     ]
    },
    {
     "name": "stderr",
     "output_type": "stream",
     "text": [
      "\r",
      " 18%|█████████████████████████▌                                                                                                                       | 53/300 [05:02<23:21,  5.68s/it]"
     ]
    },
    {
     "name": "stderr",
     "output_type": "stream",
     "text": [
      "\r",
      " 18%|██████████████████████████                                                                                                                       | 54/300 [05:08<23:21,  5.70s/it]"
     ]
    },
    {
     "name": "stderr",
     "output_type": "stream",
     "text": [
      "\r",
      " 18%|██████████████████████████▌                                                                                                                      | 55/300 [05:14<23:00,  5.64s/it]"
     ]
    },
    {
     "name": "stderr",
     "output_type": "stream",
     "text": [
      "\r",
      " 19%|███████████████████████████                                                                                                                      | 56/300 [05:19<22:59,  5.65s/it]"
     ]
    },
    {
     "name": "stderr",
     "output_type": "stream",
     "text": [
      "\r",
      " 19%|███████████████████████████▌                                                                                                                     | 57/300 [05:25<22:57,  5.67s/it]"
     ]
    },
    {
     "name": "stderr",
     "output_type": "stream",
     "text": [
      "\r",
      " 19%|████████████████████████████                                                                                                                     | 58/300 [05:31<22:37,  5.61s/it]"
     ]
    },
    {
     "name": "stderr",
     "output_type": "stream",
     "text": [
      "\r",
      " 20%|████████████████████████████▌                                                                                                                    | 59/300 [05:36<22:34,  5.62s/it]"
     ]
    },
    {
     "name": "stderr",
     "output_type": "stream",
     "text": [
      "\r",
      " 20%|█████████████████████████████                                                                                                                    | 60/300 [05:42<22:28,  5.62s/it]"
     ]
    },
    {
     "name": "stderr",
     "output_type": "stream",
     "text": [
      "\r",
      " 20%|█████████████████████████████▍                                                                                                                   | 61/300 [05:48<22:58,  5.77s/it]"
     ]
    },
    {
     "name": "stderr",
     "output_type": "stream",
     "text": [
      "\r",
      " 21%|█████████████████████████████▉                                                                                                                   | 62/300 [05:53<22:27,  5.66s/it]"
     ]
    },
    {
     "name": "stderr",
     "output_type": "stream",
     "text": [
      "\r",
      " 21%|██████████████████████████████▍                                                                                                                  | 63/300 [05:59<22:19,  5.65s/it]"
     ]
    },
    {
     "name": "stderr",
     "output_type": "stream",
     "text": [
      "\r",
      " 21%|██████████████████████████████▉                                                                                                                  | 64/300 [06:05<22:24,  5.70s/it]"
     ]
    },
    {
     "name": "stderr",
     "output_type": "stream",
     "text": [
      "\r",
      " 22%|███████████████████████████████▍                                                                                                                 | 65/300 [06:10<21:52,  5.58s/it]"
     ]
    },
    {
     "name": "stderr",
     "output_type": "stream",
     "text": [
      "\r",
      " 22%|███████████████████████████████▉                                                                                                                 | 66/300 [06:16<21:33,  5.53s/it]"
     ]
    },
    {
     "name": "stderr",
     "output_type": "stream",
     "text": [
      "\r",
      " 22%|████████████████████████████████▍                                                                                                                | 67/300 [06:21<21:19,  5.49s/it]"
     ]
    },
    {
     "name": "stderr",
     "output_type": "stream",
     "text": [
      "\r",
      " 23%|████████████████████████████████▊                                                                                                                | 68/300 [06:26<21:02,  5.44s/it]"
     ]
    },
    {
     "name": "stderr",
     "output_type": "stream",
     "text": [
      "\r",
      " 23%|█████████████████████████████████▎                                                                                                               | 69/300 [06:31<20:42,  5.38s/it]"
     ]
    },
    {
     "name": "stderr",
     "output_type": "stream",
     "text": [
      "\r",
      " 23%|█████████████████████████████████▊                                                                                                               | 70/300 [06:37<21:01,  5.48s/it]"
     ]
    },
    {
     "name": "stderr",
     "output_type": "stream",
     "text": [
      "\r",
      " 24%|██████████████████████████████████▎                                                                                                              | 71/300 [06:43<20:58,  5.49s/it]"
     ]
    },
    {
     "name": "stderr",
     "output_type": "stream",
     "text": [
      "\r",
      " 24%|██████████████████████████████████▊                                                                                                              | 72/300 [06:48<20:52,  5.49s/it]"
     ]
    },
    {
     "name": "stderr",
     "output_type": "stream",
     "text": [
      "\r",
      " 24%|███████████████████████████████████▎                                                                                                             | 73/300 [06:54<20:51,  5.51s/it]"
     ]
    },
    {
     "name": "stderr",
     "output_type": "stream",
     "text": [
      "\r",
      " 25%|███████████████████████████████████▊                                                                                                             | 74/300 [06:59<20:46,  5.52s/it]"
     ]
    },
    {
     "name": "stderr",
     "output_type": "stream",
     "text": [
      "\r",
      " 25%|████████████████████████████████████▎                                                                                                            | 75/300 [07:05<20:50,  5.56s/it]"
     ]
    },
    {
     "name": "stderr",
     "output_type": "stream",
     "text": [
      "\r",
      " 25%|████████████████████████████████████▋                                                                                                            | 76/300 [07:10<20:31,  5.50s/it]"
     ]
    },
    {
     "name": "stderr",
     "output_type": "stream",
     "text": [
      "\r",
      " 26%|█████████████████████████████████████▏                                                                                                           | 77/300 [07:16<20:25,  5.49s/it]"
     ]
    },
    {
     "name": "stderr",
     "output_type": "stream",
     "text": [
      "\r",
      " 26%|█████████████████████████████████████▋                                                                                                           | 78/300 [07:22<20:32,  5.55s/it]"
     ]
    },
    {
     "name": "stderr",
     "output_type": "stream",
     "text": [
      "\r",
      " 26%|██████████████████████████████████████▏                                                                                                          | 79/300 [07:27<20:21,  5.53s/it]"
     ]
    },
    {
     "name": "stderr",
     "output_type": "stream",
     "text": [
      "\r",
      " 27%|██████████████████████████████████████▋                                                                                                          | 80/300 [07:32<19:59,  5.45s/it]"
     ]
    },
    {
     "name": "stderr",
     "output_type": "stream",
     "text": [
      "\r",
      " 27%|███████████████████████████████████████▏                                                                                                         | 81/300 [07:38<19:57,  5.47s/it]"
     ]
    },
    {
     "name": "stderr",
     "output_type": "stream",
     "text": [
      "\r",
      " 27%|███████████████████████████████████████▋                                                                                                         | 82/300 [07:43<19:28,  5.36s/it]"
     ]
    },
    {
     "name": "stderr",
     "output_type": "stream",
     "text": [
      "\r",
      " 28%|████████████████████████████████████████                                                                                                         | 83/300 [07:48<19:12,  5.31s/it]"
     ]
    },
    {
     "name": "stderr",
     "output_type": "stream",
     "text": [
      "\r",
      " 28%|████████████████████████████████████████▌                                                                                                        | 84/300 [07:53<19:05,  5.30s/it]"
     ]
    },
    {
     "name": "stderr",
     "output_type": "stream",
     "text": [
      "\r",
      " 28%|█████████████████████████████████████████                                                                                                        | 85/300 [07:59<18:56,  5.28s/it]"
     ]
    },
    {
     "name": "stderr",
     "output_type": "stream",
     "text": [
      "\r",
      " 29%|█████████████████████████████████████████▌                                                                                                       | 86/300 [08:04<18:54,  5.30s/it]"
     ]
    },
    {
     "name": "stderr",
     "output_type": "stream",
     "text": [
      "\r",
      " 29%|██████████████████████████████████████████                                                                                                       | 87/300 [08:09<19:03,  5.37s/it]"
     ]
    },
    {
     "name": "stderr",
     "output_type": "stream",
     "text": [
      "\r",
      " 29%|██████████████████████████████████████████▌                                                                                                      | 88/300 [08:15<18:49,  5.33s/it]"
     ]
    },
    {
     "name": "stderr",
     "output_type": "stream",
     "text": [
      "\r",
      " 30%|███████████████████████████████████████████                                                                                                      | 89/300 [08:20<18:48,  5.35s/it]"
     ]
    },
    {
     "name": "stderr",
     "output_type": "stream",
     "text": [
      "\r",
      " 30%|███████████████████████████████████████████▌                                                                                                     | 90/300 [08:26<18:58,  5.42s/it]"
     ]
    },
    {
     "name": "stderr",
     "output_type": "stream",
     "text": [
      "\r",
      " 30%|███████████████████████████████████████████▉                                                                                                     | 91/300 [08:31<18:47,  5.40s/it]"
     ]
    },
    {
     "name": "stderr",
     "output_type": "stream",
     "text": [
      "\r",
      " 31%|████████████████████████████████████████████▍                                                                                                    | 92/300 [08:36<18:44,  5.40s/it]"
     ]
    },
    {
     "name": "stderr",
     "output_type": "stream",
     "text": [
      "\r",
      " 31%|████████████████████████████████████████████▉                                                                                                    | 93/300 [08:42<18:42,  5.42s/it]"
     ]
    },
    {
     "name": "stderr",
     "output_type": "stream",
     "text": [
      "\r",
      " 31%|█████████████████████████████████████████████▍                                                                                                   | 94/300 [08:48<18:49,  5.48s/it]"
     ]
    },
    {
     "name": "stderr",
     "output_type": "stream",
     "text": [
      "\r",
      " 32%|█████████████████████████████████████████████▉                                                                                                   | 95/300 [08:53<19:03,  5.58s/it]"
     ]
    },
    {
     "name": "stderr",
     "output_type": "stream",
     "text": [
      "\r",
      " 32%|██████████████████████████████████████████████▍                                                                                                  | 96/300 [09:00<19:46,  5.82s/it]"
     ]
    },
    {
     "name": "stderr",
     "output_type": "stream",
     "text": [
      "\r",
      " 32%|██████████████████████████████████████████████▉                                                                                                  | 97/300 [09:06<20:02,  5.93s/it]"
     ]
    },
    {
     "name": "stderr",
     "output_type": "stream",
     "text": [
      "\r",
      " 33%|███████████████████████████████████████████████▎                                                                                                 | 98/300 [09:12<20:20,  6.04s/it]"
     ]
    },
    {
     "name": "stderr",
     "output_type": "stream",
     "text": [
      "\r",
      " 33%|███████████████████████████████████████████████▊                                                                                                 | 99/300 [09:18<20:29,  6.12s/it]"
     ]
    },
    {
     "name": "stderr",
     "output_type": "stream",
     "text": [
      "\r",
      " 33%|████████████████████████████████████████████████                                                                                                | 100/300 [09:25<20:39,  6.20s/it]"
     ]
    },
    {
     "name": "stderr",
     "output_type": "stream",
     "text": [
      "\r",
      " 34%|████████████████████████████████████████████████▍                                                                                               | 101/300 [09:31<20:32,  6.19s/it]"
     ]
    },
    {
     "name": "stderr",
     "output_type": "stream",
     "text": [
      "\r",
      " 34%|████████████████████████████████████████████████▉                                                                                               | 102/300 [09:37<20:39,  6.26s/it]"
     ]
    },
    {
     "name": "stderr",
     "output_type": "stream",
     "text": [
      "\r",
      " 34%|█████████████████████████████████████████████████▍                                                                                              | 103/300 [09:44<20:54,  6.37s/it]"
     ]
    },
    {
     "name": "stderr",
     "output_type": "stream",
     "text": [
      "\r",
      " 35%|█████████████████████████████████████████████████▉                                                                                              | 104/300 [09:51<21:03,  6.45s/it]"
     ]
    },
    {
     "name": "stderr",
     "output_type": "stream",
     "text": [
      "\r",
      " 35%|██████████████████████████████████████████████████▍                                                                                             | 105/300 [09:57<21:12,  6.53s/it]"
     ]
    },
    {
     "name": "stderr",
     "output_type": "stream",
     "text": [
      "\r",
      " 35%|██████████████████████████████████████████████████▉                                                                                             | 106/300 [10:04<21:19,  6.60s/it]"
     ]
    },
    {
     "name": "stderr",
     "output_type": "stream",
     "text": [
      "\r",
      " 36%|███████████████████████████████████████████████████▎                                                                                            | 107/300 [10:11<21:21,  6.64s/it]"
     ]
    },
    {
     "name": "stderr",
     "output_type": "stream",
     "text": [
      "\r",
      " 36%|███████████████████████████████████████████████████▊                                                                                            | 108/300 [10:17<21:06,  6.59s/it]"
     ]
    },
    {
     "name": "stderr",
     "output_type": "stream",
     "text": [
      "\r",
      " 36%|████████████████████████████████████████████████████▎                                                                                           | 109/300 [10:25<21:34,  6.78s/it]"
     ]
    },
    {
     "name": "stderr",
     "output_type": "stream",
     "text": [
      "\r",
      " 37%|████████████████████████████████████████████████████▊                                                                                           | 110/300 [10:31<21:25,  6.77s/it]"
     ]
    },
    {
     "name": "stderr",
     "output_type": "stream",
     "text": [
      "\r",
      " 37%|█████████████████████████████████████████████████████▎                                                                                          | 111/300 [10:38<21:25,  6.80s/it]"
     ]
    },
    {
     "name": "stderr",
     "output_type": "stream",
     "text": [
      "\r",
      " 37%|█████████████████████████████████████████████████████▊                                                                                          | 112/300 [10:45<21:12,  6.77s/it]"
     ]
    },
    {
     "name": "stderr",
     "output_type": "stream",
     "text": [
      "\r",
      " 38%|██████████████████████████████████████████████████████▏                                                                                         | 113/300 [10:52<20:57,  6.72s/it]"
     ]
    },
    {
     "name": "stderr",
     "output_type": "stream",
     "text": [
      "\r",
      " 38%|██████████████████████████████████████████████████████▋                                                                                         | 114/300 [10:58<20:39,  6.67s/it]"
     ]
    },
    {
     "name": "stderr",
     "output_type": "stream",
     "text": [
      "\r",
      " 38%|███████████████████████████████████████████████████████▏                                                                                        | 115/300 [11:04<20:10,  6.54s/it]"
     ]
    },
    {
     "name": "stderr",
     "output_type": "stream",
     "text": [
      "\r",
      " 39%|███████████████████████████████████████████████████████▋                                                                                        | 116/300 [11:11<20:00,  6.52s/it]"
     ]
    },
    {
     "name": "stderr",
     "output_type": "stream",
     "text": [
      "\r",
      " 39%|████████████████████████████████████████████████████████▏                                                                                       | 117/300 [11:18<20:09,  6.61s/it]"
     ]
    },
    {
     "name": "stderr",
     "output_type": "stream",
     "text": [
      "\r",
      " 39%|████████████████████████████████████████████████████████▋                                                                                       | 118/300 [11:24<20:12,  6.66s/it]"
     ]
    },
    {
     "name": "stderr",
     "output_type": "stream",
     "text": [
      "\r",
      " 40%|█████████████████████████████████████████████████████████                                                                                       | 119/300 [11:31<20:14,  6.71s/it]"
     ]
    },
    {
     "name": "stderr",
     "output_type": "stream",
     "text": [
      "\r",
      " 40%|█████████████████████████████████████████████████████████▌                                                                                      | 120/300 [11:38<20:25,  6.81s/it]"
     ]
    },
    {
     "name": "stderr",
     "output_type": "stream",
     "text": [
      "\r",
      " 40%|██████████████████████████████████████████████████████████                                                                                      | 121/300 [11:45<20:21,  6.82s/it]"
     ]
    },
    {
     "name": "stderr",
     "output_type": "stream",
     "text": [
      "\r",
      " 41%|██████████████████████████████████████████████████████████▌                                                                                     | 122/300 [11:52<20:15,  6.83s/it]"
     ]
    },
    {
     "name": "stderr",
     "output_type": "stream",
     "text": [
      "\r",
      " 41%|███████████████████████████████████████████████████████████                                                                                     | 123/300 [11:59<20:09,  6.84s/it]"
     ]
    },
    {
     "name": "stderr",
     "output_type": "stream",
     "text": [
      "\r",
      " 41%|███████████████████████████████████████████████████████████▌                                                                                    | 124/300 [12:06<20:17,  6.92s/it]"
     ]
    },
    {
     "name": "stderr",
     "output_type": "stream",
     "text": [
      "\r",
      " 42%|████████████████████████████████████████████████████████████                                                                                    | 125/300 [12:13<20:23,  6.99s/it]"
     ]
    },
    {
     "name": "stderr",
     "output_type": "stream",
     "text": [
      "\r",
      " 42%|████████████████████████████████████████████████████████████▍                                                                                   | 126/300 [12:20<20:35,  7.10s/it]"
     ]
    },
    {
     "name": "stderr",
     "output_type": "stream",
     "text": [
      "\r",
      " 42%|████████████████████████████████████████████████████████████▉                                                                                   | 127/300 [12:28<20:27,  7.10s/it]"
     ]
    },
    {
     "name": "stderr",
     "output_type": "stream",
     "text": [
      "\r",
      " 43%|█████████████████████████████████████████████████████████████▍                                                                                  | 128/300 [12:34<20:11,  7.04s/it]"
     ]
    },
    {
     "name": "stderr",
     "output_type": "stream",
     "text": [
      "\r",
      " 43%|█████████████████████████████████████████████████████████████▉                                                                                  | 129/300 [12:41<19:59,  7.02s/it]"
     ]
    },
    {
     "name": "stderr",
     "output_type": "stream",
     "text": [
      "\r",
      " 43%|██████████████████████████████████████████████████████████████▍                                                                                 | 130/300 [12:48<19:45,  6.97s/it]"
     ]
    },
    {
     "name": "stderr",
     "output_type": "stream",
     "text": [
      "\r",
      " 44%|██████████████████████████████████████████████████████████████▉                                                                                 | 131/300 [12:55<19:22,  6.88s/it]"
     ]
    },
    {
     "name": "stderr",
     "output_type": "stream",
     "text": [
      "\r",
      " 44%|███████████████████████████████████████████████████████████████▎                                                                                | 132/300 [13:00<18:08,  6.48s/it]"
     ]
    },
    {
     "name": "stderr",
     "output_type": "stream",
     "text": [
      "\r",
      " 44%|███████████████████████████████████████████████████████████████▊                                                                                | 133/300 [13:06<17:08,  6.16s/it]"
     ]
    },
    {
     "name": "stderr",
     "output_type": "stream",
     "text": [
      "\r",
      " 45%|████████████████████████████████████████████████████████████████▎                                                                               | 134/300 [13:11<16:28,  5.95s/it]"
     ]
    },
    {
     "name": "stderr",
     "output_type": "stream",
     "text": [
      "\r",
      " 45%|████████████████████████████████████████████████████████████████▊                                                                               | 135/300 [13:17<15:50,  5.76s/it]"
     ]
    },
    {
     "name": "stderr",
     "output_type": "stream",
     "text": [
      "\r",
      " 45%|█████████████████████████████████████████████████████████████████▎                                                                              | 136/300 [13:22<15:30,  5.67s/it]"
     ]
    },
    {
     "name": "stderr",
     "output_type": "stream",
     "text": [
      "\r",
      " 46%|█████████████████████████████████████████████████████████████████▊                                                                              | 137/300 [13:28<15:13,  5.60s/it]"
     ]
    },
    {
     "name": "stderr",
     "output_type": "stream",
     "text": [
      "\r",
      " 46%|██████████████████████████████████████████████████████████████████▏                                                                             | 138/300 [13:33<15:05,  5.59s/it]"
     ]
    },
    {
     "name": "stderr",
     "output_type": "stream",
     "text": [
      "\r",
      " 46%|██████████████████████████████████████████████████████████████████▋                                                                             | 139/300 [13:39<15:00,  5.59s/it]"
     ]
    },
    {
     "name": "stderr",
     "output_type": "stream",
     "text": [
      "\r",
      " 47%|███████████████████████████████████████████████████████████████████▏                                                                            | 140/300 [13:44<14:58,  5.62s/it]"
     ]
    },
    {
     "name": "stderr",
     "output_type": "stream",
     "text": [
      "\r",
      " 47%|███████████████████████████████████████████████████████████████████▋                                                                            | 141/300 [13:51<15:30,  5.85s/it]"
     ]
    },
    {
     "name": "stderr",
     "output_type": "stream",
     "text": [
      "\r",
      " 47%|████████████████████████████████████████████████████████████████████▏                                                                           | 142/300 [13:57<15:28,  5.88s/it]"
     ]
    },
    {
     "name": "stderr",
     "output_type": "stream",
     "text": [
      "\r",
      " 48%|████████████████████████████████████████████████████████████████████▋                                                                           | 143/300 [14:03<15:18,  5.85s/it]"
     ]
    },
    {
     "name": "stderr",
     "output_type": "stream",
     "text": [
      "\r",
      " 48%|█████████████████████████████████████████████████████████████████████                                                                           | 144/300 [14:08<14:59,  5.77s/it]"
     ]
    },
    {
     "name": "stderr",
     "output_type": "stream",
     "text": [
      "\r",
      " 48%|█████████████████████████████████████████████████████████████████████▌                                                                          | 145/300 [14:14<14:54,  5.77s/it]"
     ]
    },
    {
     "name": "stderr",
     "output_type": "stream",
     "text": [
      "\r",
      " 49%|██████████████████████████████████████████████████████████████████████                                                                          | 146/300 [14:20<14:48,  5.77s/it]"
     ]
    },
    {
     "name": "stderr",
     "output_type": "stream",
     "text": [
      "\r",
      " 49%|██████████████████████████████████████████████████████████████████████▌                                                                         | 147/300 [14:26<15:11,  5.96s/it]"
     ]
    },
    {
     "name": "stderr",
     "output_type": "stream",
     "text": [
      "\r",
      " 49%|███████████████████████████████████████████████████████████████████████                                                                         | 148/300 [14:33<15:30,  6.12s/it]"
     ]
    },
    {
     "name": "stderr",
     "output_type": "stream",
     "text": [
      "\r",
      " 50%|███████████████████████████████████████████████████████████████████████▌                                                                        | 149/300 [14:39<15:29,  6.16s/it]"
     ]
    },
    {
     "name": "stderr",
     "output_type": "stream",
     "text": [
      "\r",
      " 50%|████████████████████████████████████████████████████████████████████████                                                                        | 150/300 [14:44<14:51,  5.95s/it]"
     ]
    },
    {
     "name": "stderr",
     "output_type": "stream",
     "text": [
      "\r",
      " 50%|████████████████████████████████████████████████████████████████████████▍                                                                       | 151/300 [14:50<14:28,  5.83s/it]"
     ]
    },
    {
     "name": "stderr",
     "output_type": "stream",
     "text": [
      "\r",
      " 51%|████████████████████████████████████████████████████████████████████████▉                                                                       | 152/300 [14:55<14:13,  5.76s/it]"
     ]
    },
    {
     "name": "stderr",
     "output_type": "stream",
     "text": [
      "\r",
      " 51%|█████████████████████████████████████████████████████████████████████████▍                                                                      | 153/300 [15:01<14:18,  5.84s/it]"
     ]
    },
    {
     "name": "stderr",
     "output_type": "stream",
     "text": [
      "\r",
      " 51%|█████████████████████████████████████████████████████████████████████████▉                                                                      | 154/300 [15:07<14:17,  5.88s/it]"
     ]
    },
    {
     "name": "stderr",
     "output_type": "stream",
     "text": [
      "\r",
      " 52%|██████████████████████████████████████████████████████████████████████████▍                                                                     | 155/300 [15:13<14:13,  5.88s/it]"
     ]
    },
    {
     "name": "stderr",
     "output_type": "stream",
     "text": [
      "\r",
      " 52%|██████████████████████████████████████████████████████████████████████████▉                                                                     | 156/300 [15:19<13:48,  5.75s/it]"
     ]
    },
    {
     "name": "stderr",
     "output_type": "stream",
     "text": [
      "\r",
      " 52%|███████████████████████████████████████████████████████████████████████████▎                                                                    | 157/300 [15:25<13:53,  5.83s/it]"
     ]
    },
    {
     "name": "stderr",
     "output_type": "stream",
     "text": [
      "\r",
      " 53%|███████████████████████████████████████████████████████████████████████████▊                                                                    | 158/300 [15:31<13:47,  5.83s/it]"
     ]
    },
    {
     "name": "stderr",
     "output_type": "stream",
     "text": [
      "\r",
      " 53%|████████████████████████████████████████████████████████████████████████████▎                                                                   | 159/300 [15:36<13:26,  5.72s/it]"
     ]
    },
    {
     "name": "stderr",
     "output_type": "stream",
     "text": [
      "\r",
      " 53%|████████████████████████████████████████████████████████████████████████████▊                                                                   | 160/300 [15:42<13:30,  5.79s/it]"
     ]
    },
    {
     "name": "stderr",
     "output_type": "stream",
     "text": [
      "\r",
      " 54%|█████████████████████████████████████████████████████████████████████████████▎                                                                  | 161/300 [15:48<13:13,  5.71s/it]"
     ]
    },
    {
     "name": "stderr",
     "output_type": "stream",
     "text": [
      "\r",
      " 54%|█████████████████████████████████████████████████████████████████████████████▊                                                                  | 162/300 [15:53<13:11,  5.74s/it]"
     ]
    },
    {
     "name": "stderr",
     "output_type": "stream",
     "text": [
      "\r",
      " 54%|██████████████████████████████████████████████████████████████████████████████▏                                                                 | 163/300 [15:59<12:57,  5.68s/it]"
     ]
    },
    {
     "name": "stderr",
     "output_type": "stream",
     "text": [
      "\r",
      " 55%|██████████████████████████████████████████████████████████████████████████████▋                                                                 | 164/300 [16:05<13:05,  5.78s/it]"
     ]
    },
    {
     "name": "stderr",
     "output_type": "stream",
     "text": [
      "\r",
      " 55%|███████████████████████████████████████████████████████████████████████████████▏                                                                | 165/300 [16:11<13:18,  5.92s/it]"
     ]
    },
    {
     "name": "stderr",
     "output_type": "stream",
     "text": [
      "\r",
      " 55%|███████████████████████████████████████████████████████████████████████████████▋                                                                | 166/300 [16:17<13:14,  5.93s/it]"
     ]
    },
    {
     "name": "stderr",
     "output_type": "stream",
     "text": [
      "\r",
      " 56%|████████████████████████████████████████████████████████████████████████████████▏                                                               | 167/300 [16:23<13:01,  5.87s/it]"
     ]
    },
    {
     "name": "stderr",
     "output_type": "stream",
     "text": [
      "\r",
      " 56%|████████████████████████████████████████████████████████████████████████████████▋                                                               | 168/300 [16:28<12:37,  5.74s/it]"
     ]
    },
    {
     "name": "stderr",
     "output_type": "stream",
     "text": [
      "\r",
      " 56%|█████████████████████████████████████████████████████████████████████████████████                                                               | 169/300 [16:34<12:40,  5.81s/it]"
     ]
    },
    {
     "name": "stderr",
     "output_type": "stream",
     "text": [
      "\r",
      " 57%|█████████████████████████████████████████████████████████████████████████████████▌                                                              | 170/300 [16:40<12:26,  5.74s/it]"
     ]
    },
    {
     "name": "stderr",
     "output_type": "stream",
     "text": [
      "\r",
      " 57%|██████████████████████████████████████████████████████████████████████████████████                                                              | 171/300 [16:45<12:15,  5.70s/it]"
     ]
    },
    {
     "name": "stderr",
     "output_type": "stream",
     "text": [
      "\r",
      " 57%|██████████████████████████████████████████████████████████████████████████████████▌                                                             | 172/300 [16:51<11:58,  5.61s/it]"
     ]
    },
    {
     "name": "stderr",
     "output_type": "stream",
     "text": [
      "\r",
      " 58%|███████████████████████████████████████████████████████████████████████████████████                                                             | 173/300 [16:56<11:39,  5.51s/it]"
     ]
    },
    {
     "name": "stderr",
     "output_type": "stream",
     "text": [
      "\r",
      " 58%|███████████████████████████████████████████████████████████████████████████████████▌                                                            | 174/300 [17:02<11:33,  5.50s/it]"
     ]
    },
    {
     "name": "stderr",
     "output_type": "stream",
     "text": [
      "\r",
      " 58%|████████████████████████████████████████████████████████████████████████████████████                                                            | 175/300 [17:07<11:21,  5.45s/it]"
     ]
    },
    {
     "name": "stderr",
     "output_type": "stream",
     "text": [
      "\r",
      " 59%|████████████████████████████████████████████████████████████████████████████████████▍                                                           | 176/300 [17:12<11:21,  5.50s/it]"
     ]
    },
    {
     "name": "stderr",
     "output_type": "stream",
     "text": [
      "\r",
      " 59%|████████████████████████████████████████████████████████████████████████████████████▉                                                           | 177/300 [17:18<11:07,  5.42s/it]"
     ]
    },
    {
     "name": "stderr",
     "output_type": "stream",
     "text": [
      "\r",
      " 59%|█████████████████████████████████████████████████████████████████████████████████████▍                                                          | 178/300 [17:23<11:11,  5.51s/it]"
     ]
    },
    {
     "name": "stderr",
     "output_type": "stream",
     "text": [
      "\r",
      " 60%|█████████████████████████████████████████████████████████████████████████████████████▉                                                          | 179/300 [17:29<11:12,  5.56s/it]"
     ]
    },
    {
     "name": "stderr",
     "output_type": "stream",
     "text": [
      "\r",
      " 60%|██████████████████████████████████████████████████████████████████████████████████████▍                                                         | 180/300 [17:35<11:10,  5.58s/it]"
     ]
    },
    {
     "name": "stderr",
     "output_type": "stream",
     "text": [
      "\r",
      " 60%|██████████████████████████████████████████████████████████████████████████████████████▉                                                         | 181/300 [17:41<11:09,  5.63s/it]"
     ]
    },
    {
     "name": "stderr",
     "output_type": "stream",
     "text": [
      "\r",
      " 61%|███████████████████████████████████████████████████████████████████████████████████████▎                                                        | 182/300 [17:46<11:02,  5.62s/it]"
     ]
    },
    {
     "name": "stderr",
     "output_type": "stream",
     "text": [
      "\r",
      " 61%|███████████████████████████████████████████████████████████████████████████████████████▊                                                        | 183/300 [17:52<11:18,  5.80s/it]"
     ]
    },
    {
     "name": "stderr",
     "output_type": "stream",
     "text": [
      "\r",
      " 61%|████████████████████████████████████████████████████████████████████████████████████████▎                                                       | 184/300 [17:59<11:34,  5.98s/it]"
     ]
    },
    {
     "name": "stderr",
     "output_type": "stream",
     "text": [
      "\r",
      " 62%|████████████████████████████████████████████████████████████████████████████████████████▊                                                       | 185/300 [18:05<11:27,  5.98s/it]"
     ]
    },
    {
     "name": "stderr",
     "output_type": "stream",
     "text": [
      "\r",
      " 62%|█████████████████████████████████████████████████████████████████████████████████████████▎                                                      | 186/300 [18:10<11:15,  5.92s/it]"
     ]
    },
    {
     "name": "stderr",
     "output_type": "stream",
     "text": [
      "\r",
      " 62%|█████████████████████████████████████████████████████████████████████████████████████████▊                                                      | 187/300 [18:16<10:57,  5.82s/it]"
     ]
    },
    {
     "name": "stderr",
     "output_type": "stream",
     "text": [
      "\r",
      " 63%|██████████████████████████████████████████████████████████████████████████████████████████▏                                                     | 188/300 [18:22<11:06,  5.95s/it]"
     ]
    },
    {
     "name": "stderr",
     "output_type": "stream",
     "text": [
      "\r",
      " 63%|██████████████████████████████████████████████████████████████████████████████████████████▋                                                     | 189/300 [18:28<10:49,  5.85s/it]"
     ]
    },
    {
     "name": "stderr",
     "output_type": "stream",
     "text": [
      "\r",
      " 63%|███████████████████████████████████████████████████████████████████████████████████████████▏                                                    | 190/300 [18:33<10:31,  5.74s/it]"
     ]
    },
    {
     "name": "stderr",
     "output_type": "stream",
     "text": [
      "\r",
      " 64%|███████████████████████████████████████████████████████████████████████████████████████████▋                                                    | 191/300 [18:39<10:16,  5.65s/it]"
     ]
    },
    {
     "name": "stderr",
     "output_type": "stream",
     "text": [
      "\r",
      " 64%|████████████████████████████████████████████████████████████████████████████████████████████▏                                                   | 192/300 [18:44<10:06,  5.61s/it]"
     ]
    },
    {
     "name": "stderr",
     "output_type": "stream",
     "text": [
      "\r",
      " 64%|████████████████████████████████████████████████████████████████████████████████████████████▋                                                   | 193/300 [18:50<09:55,  5.56s/it]"
     ]
    },
    {
     "name": "stderr",
     "output_type": "stream",
     "text": [
      "\r",
      " 65%|█████████████████████████████████████████████████████████████████████████████████████████████                                                   | 194/300 [18:55<09:52,  5.59s/it]"
     ]
    },
    {
     "name": "stderr",
     "output_type": "stream",
     "text": [
      "\r",
      " 65%|█████████████████████████████████████████████████████████████████████████████████████████████▌                                                  | 195/300 [19:01<09:48,  5.60s/it]"
     ]
    },
    {
     "name": "stderr",
     "output_type": "stream",
     "text": [
      "\r",
      " 65%|██████████████████████████████████████████████████████████████████████████████████████████████                                                  | 196/300 [19:07<09:45,  5.63s/it]"
     ]
    },
    {
     "name": "stderr",
     "output_type": "stream",
     "text": [
      "\r",
      " 66%|██████████████████████████████████████████████████████████████████████████████████████████████▌                                                 | 197/300 [19:12<09:37,  5.61s/it]"
     ]
    },
    {
     "name": "stderr",
     "output_type": "stream",
     "text": [
      "\r",
      " 66%|███████████████████████████████████████████████████████████████████████████████████████████████                                                 | 198/300 [19:18<09:28,  5.57s/it]"
     ]
    },
    {
     "name": "stderr",
     "output_type": "stream",
     "text": [
      "\r",
      " 66%|███████████████████████████████████████████████████████████████████████████████████████████████▌                                                | 199/300 [19:23<09:20,  5.55s/it]"
     ]
    },
    {
     "name": "stderr",
     "output_type": "stream",
     "text": [
      "\r",
      " 67%|████████████████████████████████████████████████████████████████████████████████████████████████                                                | 200/300 [19:29<09:11,  5.52s/it]"
     ]
    },
    {
     "name": "stderr",
     "output_type": "stream",
     "text": [
      "\r",
      " 67%|████████████████████████████████████████████████████████████████████████████████████████████████▍                                               | 201/300 [19:34<09:06,  5.52s/it]"
     ]
    },
    {
     "name": "stderr",
     "output_type": "stream",
     "text": [
      "\r",
      " 67%|████████████████████████████████████████████████████████████████████████████████████████████████▉                                               | 202/300 [19:40<08:59,  5.50s/it]"
     ]
    },
    {
     "name": "stderr",
     "output_type": "stream",
     "text": [
      "\r",
      " 68%|█████████████████████████████████████████████████████████████████████████████████████████████████▍                                              | 203/300 [19:45<08:54,  5.51s/it]"
     ]
    },
    {
     "name": "stderr",
     "output_type": "stream",
     "text": [
      "\r",
      " 68%|█████████████████████████████████████████████████████████████████████████████████████████████████▉                                              | 204/300 [19:51<08:41,  5.43s/it]"
     ]
    },
    {
     "name": "stderr",
     "output_type": "stream",
     "text": [
      "\r",
      " 68%|██████████████████████████████████████████████████████████████████████████████████████████████████▍                                             | 205/300 [19:56<08:36,  5.44s/it]"
     ]
    },
    {
     "name": "stderr",
     "output_type": "stream",
     "text": [
      "\r",
      " 69%|██████████████████████████████████████████████████████████████████████████████████████████████████▉                                             | 206/300 [20:02<08:34,  5.47s/it]"
     ]
    },
    {
     "name": "stderr",
     "output_type": "stream",
     "text": [
      "\r",
      " 69%|███████████████████████████████████████████████████████████████████████████████████████████████████▎                                            | 207/300 [20:07<08:28,  5.46s/it]"
     ]
    },
    {
     "name": "stderr",
     "output_type": "stream",
     "text": [
      "\r",
      " 69%|███████████████████████████████████████████████████████████████████████████████████████████████████▊                                            | 208/300 [20:13<08:28,  5.53s/it]"
     ]
    },
    {
     "name": "stderr",
     "output_type": "stream",
     "text": [
      "\r",
      " 70%|████████████████████████████████████████████████████████████████████████████████████████████████████▎                                           | 209/300 [20:18<08:26,  5.57s/it]"
     ]
    },
    {
     "name": "stderr",
     "output_type": "stream",
     "text": [
      "\r",
      " 70%|████████████████████████████████████████████████████████████████████████████████████████████████████▊                                           | 210/300 [20:24<08:21,  5.58s/it]"
     ]
    },
    {
     "name": "stderr",
     "output_type": "stream",
     "text": [
      "\r",
      " 70%|█████████████████████████████████████████████████████████████████████████████████████████████████████▎                                          | 211/300 [20:30<08:20,  5.62s/it]"
     ]
    },
    {
     "name": "stderr",
     "output_type": "stream",
     "text": [
      "\r",
      " 71%|█████████████████████████████████████████████████████████████████████████████████████████████████████▊                                          | 212/300 [20:35<08:17,  5.65s/it]"
     ]
    },
    {
     "name": "stderr",
     "output_type": "stream",
     "text": [
      "\r",
      " 71%|██████████████████████████████████████████████████████████████████████████████████████████████████████▏                                         | 213/300 [20:41<08:09,  5.63s/it]"
     ]
    }
   ],
   "source": [
    "from tqdm import tqdm\n",
    "from transformers import pipeline\n",
    "\n",
    "def predict(test, model, tokenizer):\n",
    "    y_pred = []\n",
    "    statuses = [\"Approved\", \"Denied\"]  # The statuses for prediction\n",
    "    \n",
    "    for i in tqdm(range(len(test))):\n",
    "        prompt = test.iloc[i][\"text\"]\n",
    "        \n",
    "        # Initialize the text-generation pipeline\n",
    "        pipe = pipeline(\n",
    "            task=\"text-generation\", \n",
    "            model=model, \n",
    "            tokenizer=tokenizer, \n",
    "            max_new_tokens=50,  # Increase to ensure reasoning is generated\n",
    "            temperature=0.1\n",
    "        )\n",
    "        \n",
    "        # Generate prediction\n",
    "        result = pipe(prompt)\n",
    "        generated_text = result[0]['generated_text']\n",
    "        \n",
    "        # Parse the output to extract status and reason\n",
    "        try:\n",
    "            # Extract 'label:' portion and split to get the prediction\n",
    "            answer = generated_text.split(\"label:\")[-1].strip()\n",
    "            \n",
    "            # Extract status (Approved/Denied)\n",
    "            status = None\n",
    "            for s in statuses:\n",
    "                if s.lower() in answer.lower():\n",
    "                    status = s\n",
    "                    break\n",
    "            \n",
    "            # Append the status and reasoning\n",
    "            if status:\n",
    "                y_pred.append({\n",
    "                    \"status\": status,\n",
    "                    \"reason\": answer  # Include full reasoning text\n",
    "                })\n",
    "            else:\n",
    "                y_pred.append({\n",
    "                    \"status\": \"Unknown\",\n",
    "                    \"reason\": answer\n",
    "                })\n",
    "        except Exception as e:\n",
    "            # Handle unexpected output format\n",
    "            y_pred.append({\n",
    "                \"status\": \"Error\",\n",
    "                \"reason\": f\"Parsing failed: {e}\"\n",
    "            })\n",
    "    \n",
    "    return y_pred\n",
    "\n",
    "# Example Usage\n",
    "# Assuming `X_test` is your test DataFrame and `model`, `tokenizer` are already loaded\n",
    "y_pred = predict(X_test, model, tokenizer)\n",
    "\n",
    "# Print a few predictions to verify\n",
    "for prediction in y_pred[:5]:\n",
    "    print(prediction)\n"
   ]
  },
  {
   "cell_type": "code",
   "execution_count": null,
   "id": "08578ff9-a1d8-4ebc-b0c9-b9890e182aad",
   "metadata": {
    "papermill": {
     "duration": null,
     "end_time": null,
     "exception": null,
     "start_time": null,
     "status": "pending"
    },
    "tags": []
   },
   "outputs": [],
   "source": [
    "from collections import Counter\n",
    "\n",
    "# Extract statuses from y_pred\n",
    "statuses = [pred.get(\"status\", \"Unknown\") for pred in y_pred]\n",
    "\n",
    "# Count occurrences of each status\n",
    "status_counts = Counter(statuses)\n",
    "\n",
    "# Display the counts\n",
    "print(f\"Total counts by status:\")\n",
    "print(f\"Approved: {status_counts['Approved']}\")\n",
    "print(f\"Denied: {status_counts['Denied']}\")\n",
    "print(f\"Unknown: {status_counts['Unknown']}\")"
   ]
  },
  {
   "cell_type": "code",
   "execution_count": null,
   "id": "c22e0293-1c01-469b-9c5e-df76f4d5e420",
   "metadata": {
    "papermill": {
     "duration": null,
     "end_time": null,
     "exception": null,
     "start_time": null,
     "status": "pending"
    },
    "tags": []
   },
   "outputs": [],
   "source": [
    "def extract_label_from_text(data_point):\n",
    "    try:\n",
    "        text = data_point[\"text\"]\n",
    "        if \"Approval Status:\" in text:\n",
    "            label_section = text.split(\"Approval Status:\")[1].strip()\n",
    "            return label_section.split(\".\")[0].strip()\n",
    "        else:\n",
    "            print(f\"Missing 'Approval Status:' in text: {text}\")\n",
    "            return \"Unknown\"\n",
    "    except Exception as e:\n",
    "        print(f\"Error parsing text: {text}, Error: {e}\")\n",
    "        return \"Unknown\"\n",
    "\n",
    "# Add the 'status' column to train and evaluation datasets\n",
    "train_data = train_data.map(lambda x: {\"status\": extract_label_from_text(x)})\n",
    "eval_data = eval_data.map(lambda x: {\"status\": extract_label_from_text(x)})\n"
   ]
  },
  {
   "cell_type": "code",
   "execution_count": null,
   "id": "8697c589-9689-43f8-b453-27aad867dd42",
   "metadata": {
    "papermill": {
     "duration": null,
     "end_time": null,
     "exception": null,
     "start_time": null,
     "status": "pending"
    },
    "tags": []
   },
   "outputs": [],
   "source": [
    "from sklearn.metrics import accuracy_score, classification_report, confusion_matrix\n",
    "import numpy as np\n",
    "\n",
    "def evaluate(y_true, y_pred):\n",
    "    # Extract statuses from predictions\n",
    "    y_pred_statuses = []\n",
    "    for pred in y_pred:\n",
    "        if \"status\" in pred and pred[\"status\"] in [\"Approved\", \"Denied\", \"Unknown\"]:\n",
    "            y_pred_statuses.append(pred[\"status\"])\n",
    "        else:\n",
    "            y_pred_statuses.append(\"Unknown\")  # Default for malformed predictions\n",
    "\n",
    "    # Define label mapping (including \"Unknown\")\n",
    "    labels = [\"Approved\", \"Denied\", \"Unknown\"]\n",
    "    mapping = {label: idx for idx, label in enumerate(labels)}\n",
    "\n",
    "    def map_func(x):\n",
    "        return mapping.get(x, -1)  # Map to -1 if not found\n",
    "\n",
    "    # Ensure lengths of y_true and y_pred match\n",
    "    if len(y_true) != len(y_pred_statuses):\n",
    "        raise ValueError(\"Length mismatch between y_true and y_pred.\")\n",
    "\n",
    "    # Map true and predicted labels\n",
    "    y_true_mapped = np.vectorize(map_func)(y_true)\n",
    "    y_pred_mapped = np.vectorize(map_func)(y_pred_statuses)\n",
    "\n",
    "    # Check for unmapped values\n",
    "    if -1 in y_true_mapped:\n",
    "        raise ValueError(\"Unmapped labels found in y_true. Ensure all labels are 'Approved', 'Denied', or 'Unknown'.\")\n",
    "    if -1 in y_pred_mapped:\n",
    "        raise ValueError(\"Unmapped labels found in y_pred. Ensure all predictions are 'Approved', 'Denied', or 'Unknown'.\")\n",
    "\n",
    "    # Calculate accuracy\n",
    "    accuracy = accuracy_score(y_true=y_true_mapped, y_pred=y_pred_mapped)\n",
    "    print(f'Accuracy: {accuracy:.3f}')\n",
    "    \n",
    "    # Generate classification report\n",
    "    class_report = classification_report(\n",
    "        y_true=y_true_mapped, \n",
    "        y_pred=y_pred_mapped, \n",
    "        target_names=labels, \n",
    "        labels=list(range(len(labels)))\n",
    "    )\n",
    "    print('\\nClassification Report:')\n",
    "    print(class_report)\n",
    "    \n",
    "    # Generate confusion matrix\n",
    "    conf_matrix = confusion_matrix(\n",
    "        y_true=y_true_mapped, \n",
    "        y_pred=y_pred_mapped, \n",
    "        labels=list(range(len(labels)))\n",
    "    )\n",
    "    print('\\nConfusion Matrix:')\n",
    "    print(conf_matrix)\n",
    "\n",
    "\n",
    "# Assertions to ensure valid inputs\n",
    "assert all(label in [\"Approved\", \"Denied\", \"Unknown\"] for label in y_true), \"y_true contains unexpected labels!\"\n",
    "assert all(\"status\" in pred for pred in y_pred), \"Some predictions are missing the 'status' key!\"\n",
    "assert len(y_true) == len(y_pred), \"Mismatch in lengths of y_true and y_pred!\"\n",
    "\n",
    "# Example usage with y_true and y_pred\n",
    "y_true = X_test[\"status\"].tolist()\n",
    "evaluate(y_true, y_pred)"
   ]
  },
  {
   "cell_type": "code",
   "execution_count": null,
   "id": "0b2b2855-f47c-4f83-a261-9da488f7e564",
   "metadata": {
    "papermill": {
     "duration": null,
     "end_time": null,
     "exception": null,
     "start_time": null,
     "status": "pending"
    },
    "tags": []
   },
   "outputs": [],
   "source": [
    "import bitsandbytes as bnb\n",
    "\n",
    "def find_all_linear_names(model):\n",
    "    cls = bnb.nn.Linear4bit\n",
    "    lora_module_names = set()\n",
    "    for name, module in model.named_modules():\n",
    "        if isinstance(module, cls):\n",
    "            names = name.split('.')\n",
    "            lora_module_names.add(names[0] if len(names) == 1 else names[-1])\n",
    "    if 'lm_head' in lora_module_names:  # needed for 16 bit\n",
    "        lora_module_names.remove('lm_head')\n",
    "    return list(lora_module_names)\n",
    "modules = find_all_linear_names(model)\n",
    "modules"
   ]
  },
  {
   "cell_type": "code",
   "execution_count": null,
   "id": "98a3b972-faf9-4c42-967c-27832e1213bd",
   "metadata": {
    "papermill": {
     "duration": null,
     "end_time": null,
     "exception": null,
     "start_time": null,
     "status": "pending"
    },
    "tags": []
   },
   "outputs": [],
   "source": [
    "output_dir=\"/opt/notebooks/Chatbot-Credit-Card/backend/models/llama-3.1-fine-tuned-model\"\n",
    "\n",
    "peft_config = LoraConfig(\n",
    "    lora_alpha=16,\n",
    "    lora_dropout=0,\n",
    "    r=64,\n",
    "    bias=\"none\",\n",
    "    task_type=\"CAUSAL_LM\",\n",
    "    target_modules=modules,\n",
    ")\n",
    "\n",
    "training_arguments = TrainingArguments(\n",
    "    output_dir=output_dir,                    # directory to save and repository id\n",
    "    num_train_epochs=1,                       # number of training epochs\n",
    "    per_device_train_batch_size=1,            # batch size per device during training\n",
    "    gradient_accumulation_steps=8,            # number of steps before performing a backward/update pass\n",
    "    gradient_checkpointing=True,              # use gradient checkpointing to save memory\n",
    "    optim=\"paged_adamw_32bit\",\n",
    "    logging_steps=1,                         \n",
    "    learning_rate=2e-4,                       # learning rate, based on QLoRA paper\n",
    "    weight_decay=0.001,\n",
    "    fp16=True,\n",
    "    bf16=False,\n",
    "    max_grad_norm=0.3,                        # max gradient norm based on QLoRA paper\n",
    "    max_steps=-1,\n",
    "    warmup_ratio=0.03,                        # warmup ratio based on QLoRA paper\n",
    "    group_by_length=False,\n",
    "    lr_scheduler_type=\"cosine\",               # use cosine learning rate scheduler\n",
    "    report_to=\"wandb\",                  # report metrics to w&b\n",
    "    eval_strategy=\"steps\",              # save checkpoint every epoch\n",
    "    eval_steps = 0.2\n",
    ")\n",
    "\n",
    "trainer = SFTTrainer(\n",
    "    model=model,\n",
    "    args=training_arguments,\n",
    "    train_dataset=train_data,\n",
    "    eval_dataset=eval_data,\n",
    "    peft_config=peft_config,\n",
    "    dataset_text_field=\"text\",\n",
    "    tokenizer=tokenizer,\n",
    "    max_seq_length=512,\n",
    "    packing=False,\n",
    "    dataset_kwargs={\n",
    "    \"add_special_tokens\": False,\n",
    "    \"append_concat_token\": False,\n",
    "    }\n",
    ")"
   ]
  },
  {
   "cell_type": "code",
   "execution_count": null,
   "id": "1f7ebd5a-86c1-4479-9f51-56ff7fa60a82",
   "metadata": {
    "papermill": {
     "duration": null,
     "end_time": null,
     "exception": null,
     "start_time": null,
     "status": "pending"
    },
    "tags": []
   },
   "outputs": [],
   "source": [
    "trainer.train()"
   ]
  },
  {
   "cell_type": "code",
   "execution_count": null,
   "id": "69535db7-2fdd-4953-b830-466b9b7e3303",
   "metadata": {
    "papermill": {
     "duration": null,
     "end_time": null,
     "exception": null,
     "start_time": null,
     "status": "pending"
    },
    "tags": []
   },
   "outputs": [],
   "source": [
    "wandb.finish()\n",
    "model.config.use_cache = True"
   ]
  },
  {
   "cell_type": "code",
   "execution_count": null,
   "id": "5f3f0556-630d-48a7-9baf-2b55b9b45303",
   "metadata": {
    "papermill": {
     "duration": null,
     "end_time": null,
     "exception": null,
     "start_time": null,
     "status": "pending"
    },
    "tags": []
   },
   "outputs": [],
   "source": [
    "# Save trained model and tokenizer\n",
    "trainer.save_model(output_dir)\n",
    "tokenizer.save_pretrained(output_dir)"
   ]
  },
  {
   "cell_type": "code",
   "execution_count": null,
   "id": "1418e10a-b0af-46c3-ba8b-7d020b5cbb02",
   "metadata": {
    "papermill": {
     "duration": null,
     "end_time": null,
     "exception": null,
     "start_time": null,
     "status": "pending"
    },
    "tags": []
   },
   "outputs": [],
   "source": [
    "y_pred = predict(X_test, model, tokenizer)\n",
    "evaluate(y_true, y_pred)"
   ]
  },
  {
   "cell_type": "code",
   "execution_count": null,
   "id": "dc899c4f-dcfd-4231-b0bd-da2a08f2b277",
   "metadata": {
    "papermill": {
     "duration": null,
     "end_time": null,
     "exception": null,
     "start_time": null,
     "status": "pending"
    },
    "tags": []
   },
   "outputs": [],
   "source": []
  }
 ],
 "metadata": {
  "kernelspec": {
   "display_name": "Python (CC-Chatbot)",
   "language": "python",
   "name": "cc-chatbot"
  },
  "language_info": {
   "codemirror_mode": {
    "name": "ipython",
    "version": 3
   },
   "file_extension": ".py",
   "mimetype": "text/x-python",
   "name": "python",
   "nbconvert_exporter": "python",
   "pygments_lexer": "ipython3",
   "version": "3.12.7"
  },
  "papermill": {
   "default_parameters": {},
   "duration": null,
   "end_time": null,
   "environment_variables": {},
   "exception": null,
   "input_path": "/opt/notebooks/Chatbot-Credit-Card/backend/notebooks/llama-Copy3.ipynb",
   "output_path": "/opt/notebooks/Chatbot-Credit-Card/backend/notebooks/outputs/llama-output.ipynb",
   "parameters": {},
   "start_time": "2024-11-28T15:14:03.819197",
   "version": "2.6.0"
  }
 },
 "nbformat": 4,
 "nbformat_minor": 5
}