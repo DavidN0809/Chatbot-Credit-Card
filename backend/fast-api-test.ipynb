{
 "cells": [
  {
   "cell_type": "code",
   "execution_count": 1,
   "id": "f93a4c4e-0431-47e6-9616-8b7bf41c5c2f",
   "metadata": {},
   "outputs": [
    {
     "name": "stdout",
     "output_type": "stream",
     "text": [
      "Loading the base model...\n"
     ]
    },
    {
     "data": {
      "application/vnd.jupyter.widget-view+json": {
       "model_id": "58b6f24534244196a12fb75e6d6cad64",
       "version_major": 2,
       "version_minor": 0
      },
      "text/plain": [
       "Downloading shards:   0%|          | 0/4 [00:00<?, ?it/s]"
      ]
     },
     "metadata": {},
     "output_type": "display_data"
    }
   ],
   "source": [
    "import uvicorn\n",
    "\n",
    "# Run the FastAPI app\n",
    "def run_api():\n",
    "    uvicorn.run(\"main:app\", host=\"0.0.0.0\", port=8000, reload=False)\n",
    "\n",
    "# Start the FastAPI app in a new thread to avoid blocking the notebook\n",
    "import threading\n",
    "threading.Thread(target=run_api, daemon=True).start()"
   ]
  },
  {
   "cell_type": "code",
   "execution_count": 2,
   "id": "21b21e3d-3e1b-497f-baf8-2b65826ad821",
   "metadata": {},
   "outputs": [
    {
     "name": "stdout",
     "output_type": "stream",
     "text": [
      "{'response': 'Gender: Male. Age: 32 years old years old. Car Ownership: Yes. Property Ownership: Yes. Number of Children: 0. Annual Income: 427500.0. Income Category: Working. Education Level: Higher education. Marital Status: Civil marriage. Housing Type: Rented apartment. Employment Duration: 12.44 years. Mobile Phone: Yes. Work Phone: Yes. Email: No. Family Size: 2.0. Income Category: Working. Income Category: Working. Income Category: Working. Income Category: Working. Income Category: Working. Income Category: Working. Income Category: Working. Income Category: Working. Income Category: Working. Income Category: Working. Income Category: Working. Income Category: Working. Income Category: Working. Income Category: Working. Income Category: Working. Income Category: Working. Income Category: Working. Income Category: Working. Income Category: Working. Income Category: Working. Income Category: Working'}\n"
     ]
    }
   ],
   "source": [
    "import requests\n",
    "\n",
    "# Define the API endpoint and payload\n",
    "url = \"http://0.0.0.0:8000/generate/\"\n",
    "payload = {\n",
    "    \"prompt\": \"Gender: Male. Age: 32 years old years old. Car Ownership: Yes. Property Ownership: Yes. Number of Children: 0. Annual Income: 427500.0. Income Category: Working. Education Level: Higher education. Marital Status: Civil marriage. Housing Type: Rented apartment. Employment Duration: 12.44 years. Mobile Phone: Yes. Work Phone: Yes. Email: No. Family Size: 2.0\",\n",
    "    # \"max_length\": 50,\n",
    "    \"temperature\": 0.7\n",
    "}\n",
    "\n",
    "# Send the request\n",
    "response = requests.post(url, json=payload)\n",
    "\n",
    "# Display the response\n",
    "print(response.json())\n"
   ]
  },
  {
   "cell_type": "code",
   "execution_count": null,
   "id": "08257eca-059a-4a50-80fc-52d3cde810e9",
   "metadata": {},
   "outputs": [],
   "source": []
  }
 ],
 "metadata": {
  "kernelspec": {
   "display_name": "Python (CC-Chatbot)",
   "language": "python",
   "name": "cc-chatbot"
  },
  "language_info": {
   "codemirror_mode": {
    "name": "ipython",
    "version": 3
   },
   "file_extension": ".py",
   "mimetype": "text/x-python",
   "name": "python",
   "nbconvert_exporter": "python",
   "pygments_lexer": "ipython3",
   "version": "3.12.7"
  }
 },
 "nbformat": 4,
 "nbformat_minor": 5
}
